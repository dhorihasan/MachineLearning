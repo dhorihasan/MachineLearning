{
 "cells": [
  {
   "cell_type": "code",
   "execution_count": 10,
   "metadata": {},
   "outputs": [],
   "source": [
    "# Fungsi Turun\n",
    "def turun(b,a,x):\n",
    "    if(x<=a):\n",
    "        nilai = 1\n",
    "    elif(x>a and x<b):\n",
    "        nilai = (b-x)/(b-a)\n",
    "    elif(x>=b):\n",
    "        nilai = 0\n",
    "\n",
    "    return nilai"
   ]
  },
  {
   "cell_type": "code",
   "execution_count": 11,
   "metadata": {},
   "outputs": [],
   "source": [
    "# Fungsi Naik\n",
    "def naik(b,a,x):\n",
    "    if(x<=a):\n",
    "        nilai = 0\n",
    "    elif(x>a and x<b):\n",
    "        nilai = (x-a)/(b-a)\n",
    "    elif(x>=b):\n",
    "        nilai = 1\n",
    "\n",
    "    return nilai"
   ]
  },
  {
   "cell_type": "code",
   "execution_count": 12,
   "metadata": {},
   "outputs": [],
   "source": [
    "# Fungsi Agregasi Turun\n",
    "def agregasi_turun(b,a,alfa):\n",
    "    nilai = b - (alfa*(b-a))\n",
    "    return nilai"
   ]
  },
  {
   "cell_type": "code",
   "execution_count": 13,
   "metadata": {},
   "outputs": [],
   "source": [
    "# Fungsi Agregasi Naik\n",
    "def agregasi_naik(b,a,alfa):\n",
    "    nilai = alfa*(b-a) + a\n",
    "    return nilai"
   ]
  },
  {
   "cell_type": "code",
   "execution_count": 14,
   "metadata": {},
   "outputs": [],
   "source": [
    "\"\"\"\n",
    "Input Data Jumlah dan Nama Variable:\n",
    "1. Jumlah variabel: 3\n",
    "2. Sebutkan nama variabel: permintaan\n",
    "3. Sebutkan nama variabel: persediaan\n",
    "4. Sebutkan nama variabel: produksi\n",
    "\n",
    "\"\"\"\n",
    "\n",
    "var = int(input(\"Jumlah variabel: \"))\n",
    "\n",
    "nama_var = []\n",
    "for i in range(var):\n",
    "    nama = input(\"Sebutkan nama variabel: \")\n",
    "    nama_var.append(nama)"
   ]
  },
  {
   "cell_type": "code",
   "execution_count": 15,
   "metadata": {},
   "outputs": [
    {
     "name": "stdout",
     "output_type": "stream",
     "text": [
      "permintaan\n",
      "persediaan\n",
      "produksi\n",
      "{'permintaan_naik': 5000, 'permintaan_turun': 1000, 'persediaan_naik': 600, 'persediaan_turun': 100, 'produksi_naik': 7000, 'produksi_turun': 2000}\n"
     ]
    }
   ],
   "source": [
    "\"\"\" \n",
    "Input Data:\n",
    "1. permintaan\n",
    "naik : 5000\n",
    "turun : 1000\n",
    "2. persediaan\n",
    "naik : 600\n",
    "turun : 100\n",
    "3. produksi\n",
    "naik : 7000\n",
    "turun : 2000\n",
    "\n",
    "\"\"\"\n",
    "\n",
    "variabel = dict()\n",
    "for i in nama_var:\n",
    "    print(i)\n",
    "    up = int(input(\"naik : \"))\n",
    "    down = int(input(\"turun : \"))\n",
    "    variabel.update({i+\"_naik\":up})\n",
    "    variabel.update({i+\"_turun\":down})\n",
    "    \n",
    "print(variabel)"
   ]
  },
  {
   "cell_type": "code",
   "execution_count": 16,
   "metadata": {},
   "outputs": [
    {
     "name": "stdout",
     "output_type": "stream",
     "text": [
      "{'permintaan': 4000, 'persediaan': 300}\n"
     ]
    }
   ],
   "source": [
    "\"\"\" \n",
    "Input Data:\n",
    "1. Jumlah variabel yang diketahui : 2\n",
    "2. Nama variabel : permintaan\n",
    "Nilai : 4000\n",
    "3. Nama variabel : persediaan\n",
    "Nilai : 300\n",
    "4. Variabel yang ditanyakan : produksi\n",
    "\n",
    "\"\"\"\n",
    "\n",
    "soal = dict()\n",
    "\n",
    "jml = int(input(\"Jumlah variabel yang diketahui : \"))\n",
    "\n",
    "for i in range(jml):\n",
    "    ver = input(\"Nama variabel : \")\n",
    "    val = int(input(\"Nilai : \"))   \n",
    "    soal.update({ver:val})\n",
    "    \n",
    "print(soal)\n",
    "\n",
    "dit = input(\"Variabel yang ditanyakan : \")"
   ]
  },
  {
   "cell_type": "code",
   "execution_count": 18,
   "metadata": {},
   "outputs": [
    {
     "name": "stdout",
     "output_type": "stream",
     "text": [
      "{'permintaan_naik': 0.75, 'permintaan_turun': 0.25, 'persediaan_naik': 0.4, 'persediaan_turun': 0.6}\n"
     ]
    }
   ],
   "source": [
    "# Buat Dictionary dan Cetak Variable pemintaan dan persediaan\n",
    "nk = dict()\n",
    "for i in soal:\n",
    "    up = naik(variabel[i+\"_naik\"],variabel[i+\"_turun\"],soal[i])\n",
    "    down = turun(variabel[i+\"_naik\"],variabel[i+\"_turun\"],soal[i])\n",
    "    nk.update({i+\"_naik\":up})\n",
    "    nk.update({i+\"_turun\":down})\n",
    "\n",
    "print(nk)"
   ]
  },
  {
   "cell_type": "code",
   "execution_count": null,
   "metadata": {},
   "outputs": [],
   "source": [
    "\"\"\" \n",
    "Syarat dan Kondisi:\n",
    "[R1]   IF permintaan TURUN AND Persediaan BANYAK, THEN Produksi Barang dr;\n",
    "[R2]   IF permintaan TURUN AND Persediaan SEDIKIT, THEN Produksi Barang BERKURANG;\n",
    "[R3]   IF permintaan NAIK AND Persediaan BANYAK, THEN Produksi Barang BERTAMBAH;\n",
    "[R4]   IF permintaan NAIK AND Persediaan SEDIKIT, THEN Produksi Barang BERTAMBAH;\n",
    "\n",
    "\"\"\""
   ]
  },
  {
   "cell_type": "code",
   "execution_count": null,
   "metadata": {},
   "outputs": [],
   "source": [
    "\n",
    "\"\"\"\n",
    "Input data pada module Agregasi untuk mengetahui list alfa dan z:\n",
    "\n",
    "Masukkan jumlah peraturan : 4\n",
    "Kondisi 1(naik/turun): permintaan_turun\n",
    "Kondisi 2(naik/turun): persediaan_naik\n",
    "Kesimpulan(naik/turun): turun\n",
    "Kondisi 1(naik/turun): permintaan_turun\n",
    "Kondisi 2(naik/turun): persediaan_turun\n",
    "Kesimpulan(naik/turun): turun\n",
    "Kondisi 1(naik/turun): permintaan_naik\n",
    "Kondisi 2(naik/turun): persediaan_naik\n",
    "Kesimpulan(naik/turun): naik\n",
    "Kondisi 1(naik/turun): permintaan_naik\n",
    "Kondisi 2(naik/turun): persediaan_turun\n",
    "Kesimpulan(naik/turun): naik\n",
    "\"\"\"\n"
   ]
  },
  {
   "cell_type": "code",
   "execution_count": 20,
   "metadata": {},
   "outputs": [],
   "source": [
    "# AGREGASI\n",
    "alfa = []\n",
    "z = []\n",
    "\n",
    "r = int(input(\"Masukkan jumlah peraturan : \"))\n",
    "\n",
    "for i in range(r):\n",
    "    kondisi1 = input(\"Kondisi 1(naik/turun): \")\n",
    "    kondisi2 = input(\"Kondisi 2(naik/turun): \")\n",
    "    kesimpulan = input(\"Kesimpulan(naik/turun): \")\n",
    "    #Fire Strength INTERSEKSI (AND)\n",
    "    a = min(nk[kondisi1],nk[kondisi2]) \n",
    "    alfa.append(a)\n",
    "    if(kesimpulan == \"turun\"):\n",
    "        zz = agregasi_turun(variabel[dit+\"_naik\"],variabel[dit+\"_turun\"],a)\n",
    "    elif(kesimpulan == \"naik\"):\n",
    "        zz = agregasi_naik(variabel[dit+\"_naik\"],variabel[dit+\"_turun\"],a)        \n",
    "    z.append(zz)"
   ]
  },
  {
   "cell_type": "code",
   "execution_count": 21,
   "metadata": {},
   "outputs": [
    {
     "name": "stdout",
     "output_type": "stream",
     "text": [
      "[0.25, 0.25, 0.4, 0.6]\n",
      "[5750.0, 5750.0, 4000.0, 5000.0]\n"
     ]
    }
   ],
   "source": [
    "# Cetak list data alfa dan z\n",
    "print(alfa)\n",
    "print(z)"
   ]
  },
  {
   "cell_type": "code",
   "execution_count": 22,
   "metadata": {},
   "outputs": [
    {
     "name": "stdout",
     "output_type": "stream",
     "text": [
      "Jadi, nilai  produksi  adalah  4983\n"
     ]
    }
   ],
   "source": [
    "# DEFUZIFIKASI\n",
    "df = 0\n",
    "\n",
    "for i in range(len(alfa)):\n",
    "    df += alfa[i]*z[i]\n",
    "\n",
    "defuz = int(df/sum(alfa))\n",
    "# Final Result\n",
    "print(\"Jadi, nilai \",dit,\" adalah \",defuz)"
   ]
  }
 ],
 "metadata": {
  "kernelspec": {
   "display_name": "Python 3.9.12 64-bit",
   "language": "python",
   "name": "python3"
  },
  "language_info": {
   "codemirror_mode": {
    "name": "ipython",
    "version": 3
   },
   "file_extension": ".py",
   "mimetype": "text/x-python",
   "name": "python",
   "nbconvert_exporter": "python",
   "pygments_lexer": "ipython3",
   "version": "3.9.12"
  },
  "orig_nbformat": 4,
  "vscode": {
   "interpreter": {
    "hash": "3ed749a16cd224dcf114f8ec5e80449b5e2854c69c373999e8163415c661d4ed"
   }
  }
 },
 "nbformat": 4,
 "nbformat_minor": 2
}
