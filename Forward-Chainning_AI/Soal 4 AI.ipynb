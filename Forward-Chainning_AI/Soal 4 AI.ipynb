{
 "cells": [
  {
   "cell_type": "code",
   "execution_count": null,
   "metadata": {},
   "outputs": [],
   "source": [
    "# Problem 4 AI => Forward Chainning\n",
    " \n",
    "# Rule:\n",
    "# mammalia (A) ==> vertebrata(A).\n",
    "# vertebrata (A) ==> binatang (A).\n",
    "# vertebrata (A),bisa terbang (A) ==> burung (A).\n",
    "# vertebrata(\"ayam\",\"burung\",\"ikan\").\n",
    "# bisa terbang(\"ayam\",\"burung\").\n",
    "# mammalia(\"kucing\").\n"
   ]
  },
  {
   "cell_type": "code",
   "execution_count": 2,
   "metadata": {},
   "outputs": [
    {
     "name": "stdout",
     "output_type": "stream",
     "text": [
      "[['vertebrata', 'ayam'], ['bisa terbang', 'ayam'], ['mamalia', 'kucing'], ['vertebrata', 'burung'], ['bisa terbang', 'burung'], ['vertebrata', 'ikan'], ['binatang', 'ayam'], ['burung', 'ayam'], ['vertebrata', 'kucing'], ['binatang', 'burung'], ['burung', 'burung'], ['binatang', 'ikan'], ['binatang', 'kucing']]\n"
     ]
    }
   ],
   "source": [
    "global facts\n",
    "global is_changed\n",
    "\n",
    "is_changed = True\n",
    "facts = [[\"vertebrata\",\"ayam\"],[\"bisa terbang\",\"ayam\"],[\"mamalia\",\"kucing\"],[\"vertebrata\",\"burung\"],[\"bisa terbang\",\"burung\"],[\"vertebrata\",\"ikan\"]]\n",
    "\n",
    "def assert_fact(fact):\n",
    "    global facts\n",
    "    global is_changed\n",
    "    if not fact in facts:\n",
    "        facts += [fact]\n",
    "        is_changed = True\n",
    "\n",
    "while is_changed:\n",
    "    is_changed = False\n",
    "    for A1 in facts:\n",
    "        if A1[0] == \"mamalia\":\n",
    "            assert_fact([\"vertebrata\",A1[1]])\n",
    "        if A1[0] == \"vertebrata\":\n",
    "            assert_fact([\"binatang\",A1[1]])\n",
    "        if A1[0] == \"vertebrata\" and [\"bisa terbang\",A1[1]] in facts:\n",
    "            assert_fact([\"burung\",A1[1]])\n",
    "\n",
    "print(facts)"
   ]
  }
 ],
 "metadata": {
  "kernelspec": {
   "display_name": "Python 3.9.12 64-bit",
   "language": "python",
   "name": "python3"
  },
  "language_info": {
   "codemirror_mode": {
    "name": "ipython",
    "version": 3
   },
   "file_extension": ".py",
   "mimetype": "text/x-python",
   "name": "python",
   "nbconvert_exporter": "python",
   "pygments_lexer": "ipython3",
   "version": "3.9.12"
  },
  "orig_nbformat": 4,
  "vscode": {
   "interpreter": {
    "hash": "3ed749a16cd224dcf114f8ec5e80449b5e2854c69c373999e8163415c661d4ed"
   }
  }
 },
 "nbformat": 4,
 "nbformat_minor": 2
}
