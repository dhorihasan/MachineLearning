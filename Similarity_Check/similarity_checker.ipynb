{
  "cells": [
    {
      "cell_type": "markdown",
      "metadata": {
        "id": "azj17oIQWLxy"
      },
      "source": [
        "Simmilarity Checker"
      ]
    },
    {
      "cell_type": "code",
      "source": [
        "# Install Library\n",
        "!pip install sastrawi"
      ],
      "metadata": {
        "colab": {
          "base_uri": "https://localhost:8080/"
        },
        "id": "7SCOkxW6WOz6",
        "outputId": "022b323f-a511-4b03-d1e0-920c2155708e"
      },
      "execution_count": null,
      "outputs": [
        {
          "output_type": "stream",
          "name": "stdout",
          "text": [
            "Looking in indexes: https://pypi.org/simple, https://us-python.pkg.dev/colab-wheels/public/simple/\n",
            "Collecting sastrawi\n",
            "  Downloading Sastrawi-1.0.1-py2.py3-none-any.whl (209 kB)\n",
            "\u001b[K     |████████████████████████████████| 209 kB 7.1 MB/s \n",
            "\u001b[?25hInstalling collected packages: sastrawi\n",
            "Successfully installed sastrawi-1.0.1\n"
          ]
        }
      ]
    },
    {
      "cell_type": "code",
      "execution_count": null,
      "metadata": {
        "id": "bmxw8Ep_WLx5"
      },
      "outputs": [],
      "source": [
        "# Data Framelibrary \n",
        "import pandas as pd\n"
      ]
    },
    {
      "cell_type": "code",
      "execution_count": null,
      "metadata": {
        "colab": {
          "base_uri": "https://localhost:8080/",
          "height": 206
        },
        "id": "rFNWnrjSWLx9",
        "outputId": "3fac854e-7aec-42d8-88da-8a910d3b19bd"
      },
      "outputs": [
        {
          "output_type": "execute_result",
          "data": {
            "text/plain": [
              "                                               title          date  \\\n",
              "0  \\n\\t\\t\\t\\t\\t[SALAH] Video “Tentara Cina sdh mu...  Juli 9, 2022   \n",
              "1  \\n\\t\\t\\t\\t\\t[SALAH] Video “Destinasi baru keba...  Juli 9, 2022   \n",
              "2  \\n\\t\\t\\t\\t\\t[SALAH] Tangkapan Layar Artikel CN...  Juli 9, 2022   \n",
              "3  \\n\\t\\t\\t\\t\\t[SALAH] Foto Artikel “Pesantren Al...  Juli 9, 2022   \n",
              "4  \\n\\t\\t\\t\\t\\t[SALAH] Penemuan Burung Ababil di ...  Juli 8, 2022   \n",
              "\n",
              "                   author  \n",
              "0           Adi Syafitrah  \n",
              "1  Pemeriksa Fakta Junior  \n",
              "2  Pemeriksa Fakta Junior  \n",
              "3           Adi Syafitrah  \n",
              "4  Pemeriksa Fakta Junior  "
            ],
            "text/html": [
              "\n",
              "  <div id=\"df-0bccd0b2-a6b8-49be-9c01-c8e4c3e3cce7\">\n",
              "    <div class=\"colab-df-container\">\n",
              "      <div>\n",
              "<style scoped>\n",
              "    .dataframe tbody tr th:only-of-type {\n",
              "        vertical-align: middle;\n",
              "    }\n",
              "\n",
              "    .dataframe tbody tr th {\n",
              "        vertical-align: top;\n",
              "    }\n",
              "\n",
              "    .dataframe thead th {\n",
              "        text-align: right;\n",
              "    }\n",
              "</style>\n",
              "<table border=\"1\" class=\"dataframe\">\n",
              "  <thead>\n",
              "    <tr style=\"text-align: right;\">\n",
              "      <th></th>\n",
              "      <th>title</th>\n",
              "      <th>date</th>\n",
              "      <th>author</th>\n",
              "    </tr>\n",
              "  </thead>\n",
              "  <tbody>\n",
              "    <tr>\n",
              "      <th>0</th>\n",
              "      <td>\\n\\t\\t\\t\\t\\t[SALAH] Video “Tentara Cina sdh mu...</td>\n",
              "      <td>Juli 9, 2022</td>\n",
              "      <td>Adi Syafitrah</td>\n",
              "    </tr>\n",
              "    <tr>\n",
              "      <th>1</th>\n",
              "      <td>\\n\\t\\t\\t\\t\\t[SALAH] Video “Destinasi baru keba...</td>\n",
              "      <td>Juli 9, 2022</td>\n",
              "      <td>Pemeriksa Fakta Junior</td>\n",
              "    </tr>\n",
              "    <tr>\n",
              "      <th>2</th>\n",
              "      <td>\\n\\t\\t\\t\\t\\t[SALAH] Tangkapan Layar Artikel CN...</td>\n",
              "      <td>Juli 9, 2022</td>\n",
              "      <td>Pemeriksa Fakta Junior</td>\n",
              "    </tr>\n",
              "    <tr>\n",
              "      <th>3</th>\n",
              "      <td>\\n\\t\\t\\t\\t\\t[SALAH] Foto Artikel “Pesantren Al...</td>\n",
              "      <td>Juli 9, 2022</td>\n",
              "      <td>Adi Syafitrah</td>\n",
              "    </tr>\n",
              "    <tr>\n",
              "      <th>4</th>\n",
              "      <td>\\n\\t\\t\\t\\t\\t[SALAH] Penemuan Burung Ababil di ...</td>\n",
              "      <td>Juli 8, 2022</td>\n",
              "      <td>Pemeriksa Fakta Junior</td>\n",
              "    </tr>\n",
              "  </tbody>\n",
              "</table>\n",
              "</div>\n",
              "      <button class=\"colab-df-convert\" onclick=\"convertToInteractive('df-0bccd0b2-a6b8-49be-9c01-c8e4c3e3cce7')\"\n",
              "              title=\"Convert this dataframe to an interactive table.\"\n",
              "              style=\"display:none;\">\n",
              "        \n",
              "  <svg xmlns=\"http://www.w3.org/2000/svg\" height=\"24px\"viewBox=\"0 0 24 24\"\n",
              "       width=\"24px\">\n",
              "    <path d=\"M0 0h24v24H0V0z\" fill=\"none\"/>\n",
              "    <path d=\"M18.56 5.44l.94 2.06.94-2.06 2.06-.94-2.06-.94-.94-2.06-.94 2.06-2.06.94zm-11 1L8.5 8.5l.94-2.06 2.06-.94-2.06-.94L8.5 2.5l-.94 2.06-2.06.94zm10 10l.94 2.06.94-2.06 2.06-.94-2.06-.94-.94-2.06-.94 2.06-2.06.94z\"/><path d=\"M17.41 7.96l-1.37-1.37c-.4-.4-.92-.59-1.43-.59-.52 0-1.04.2-1.43.59L10.3 9.45l-7.72 7.72c-.78.78-.78 2.05 0 2.83L4 21.41c.39.39.9.59 1.41.59.51 0 1.02-.2 1.41-.59l7.78-7.78 2.81-2.81c.8-.78.8-2.07 0-2.86zM5.41 20L4 18.59l7.72-7.72 1.47 1.35L5.41 20z\"/>\n",
              "  </svg>\n",
              "      </button>\n",
              "      \n",
              "  <style>\n",
              "    .colab-df-container {\n",
              "      display:flex;\n",
              "      flex-wrap:wrap;\n",
              "      gap: 12px;\n",
              "    }\n",
              "\n",
              "    .colab-df-convert {\n",
              "      background-color: #E8F0FE;\n",
              "      border: none;\n",
              "      border-radius: 50%;\n",
              "      cursor: pointer;\n",
              "      display: none;\n",
              "      fill: #1967D2;\n",
              "      height: 32px;\n",
              "      padding: 0 0 0 0;\n",
              "      width: 32px;\n",
              "    }\n",
              "\n",
              "    .colab-df-convert:hover {\n",
              "      background-color: #E2EBFA;\n",
              "      box-shadow: 0px 1px 2px rgba(60, 64, 67, 0.3), 0px 1px 3px 1px rgba(60, 64, 67, 0.15);\n",
              "      fill: #174EA6;\n",
              "    }\n",
              "\n",
              "    [theme=dark] .colab-df-convert {\n",
              "      background-color: #3B4455;\n",
              "      fill: #D2E3FC;\n",
              "    }\n",
              "\n",
              "    [theme=dark] .colab-df-convert:hover {\n",
              "      background-color: #434B5C;\n",
              "      box-shadow: 0px 1px 3px 1px rgba(0, 0, 0, 0.15);\n",
              "      filter: drop-shadow(0px 1px 2px rgba(0, 0, 0, 0.3));\n",
              "      fill: #FFFFFF;\n",
              "    }\n",
              "  </style>\n",
              "\n",
              "      <script>\n",
              "        const buttonEl =\n",
              "          document.querySelector('#df-0bccd0b2-a6b8-49be-9c01-c8e4c3e3cce7 button.colab-df-convert');\n",
              "        buttonEl.style.display =\n",
              "          google.colab.kernel.accessAllowed ? 'block' : 'none';\n",
              "\n",
              "        async function convertToInteractive(key) {\n",
              "          const element = document.querySelector('#df-0bccd0b2-a6b8-49be-9c01-c8e4c3e3cce7');\n",
              "          const dataTable =\n",
              "            await google.colab.kernel.invokeFunction('convertToInteractive',\n",
              "                                                     [key], {});\n",
              "          if (!dataTable) return;\n",
              "\n",
              "          const docLinkHtml = 'Like what you see? Visit the ' +\n",
              "            '<a target=\"_blank\" href=https://colab.research.google.com/notebooks/data_table.ipynb>data table notebook</a>'\n",
              "            + ' to learn more about interactive tables.';\n",
              "          element.innerHTML = '';\n",
              "          dataTable['output_type'] = 'display_data';\n",
              "          await google.colab.output.renderOutput(dataTable, element);\n",
              "          const docLink = document.createElement('div');\n",
              "          docLink.innerHTML = docLinkHtml;\n",
              "          element.appendChild(docLink);\n",
              "        }\n",
              "      </script>\n",
              "    </div>\n",
              "  </div>\n",
              "  "
            ]
          },
          "metadata": {},
          "execution_count": 4
        }
      ],
      "source": [
        "# load data from crawling website\n",
        "# turnbackhoax\n",
        "crwl_turnbackhoax = pd.read_csv('turnbackhoax_all.csv',sep=\",\")\n",
        "crwl_turnbackhoax.head()"
      ]
    },
    {
      "cell_type": "code",
      "execution_count": null,
      "metadata": {
        "colab": {
          "base_uri": "https://localhost:8080/",
          "height": 296
        },
        "id": "LqM9-3bRWLx_",
        "outputId": "aa01f9da-f868-4f7b-a8bb-a7240e1c2ba9"
      },
      "outputs": [
        {
          "output_type": "stream",
          "name": "stderr",
          "text": [
            "/usr/local/lib/python3.7/dist-packages/ipykernel_launcher.py:2: FutureWarning: The default value of regex will change from True to False in a future version.\n",
            "  \n",
            "/usr/local/lib/python3.7/dist-packages/ipykernel_launcher.py:3: FutureWarning: The default value of regex will change from True to False in a future version.\n",
            "  This is separate from the ipykernel package so we can avoid doing imports until\n"
          ]
        },
        {
          "output_type": "execute_result",
          "data": {
            "text/plain": [
              "                                               title          date  \\\n",
              "0  [SALAH] Video “Tentara Cina sdh mulai beraksi ...  Juli 9, 2022   \n",
              "1  [SALAH] Video “Destinasi baru kebanggan masyar...  Juli 9, 2022   \n",
              "2  [SALAH] Tangkapan Layar Artikel CNN Indonesia ...  Juli 9, 2022   \n",
              "3  [SALAH] Foto Artikel “Pesantren Alquran Terba4...  Juli 9, 2022   \n",
              "4        [SALAH] Penemuan Burung Ababil di Palestina  Juli 8, 2022   \n",
              "\n",
              "                   author  \n",
              "0           Adi Syafitrah  \n",
              "1  Pemeriksa Fakta Junior  \n",
              "2  Pemeriksa Fakta Junior  \n",
              "3           Adi Syafitrah  \n",
              "4  Pemeriksa Fakta Junior  "
            ],
            "text/html": [
              "\n",
              "  <div id=\"df-aade4078-0e72-42cf-a56f-0adc6c7f6398\">\n",
              "    <div class=\"colab-df-container\">\n",
              "      <div>\n",
              "<style scoped>\n",
              "    .dataframe tbody tr th:only-of-type {\n",
              "        vertical-align: middle;\n",
              "    }\n",
              "\n",
              "    .dataframe tbody tr th {\n",
              "        vertical-align: top;\n",
              "    }\n",
              "\n",
              "    .dataframe thead th {\n",
              "        text-align: right;\n",
              "    }\n",
              "</style>\n",
              "<table border=\"1\" class=\"dataframe\">\n",
              "  <thead>\n",
              "    <tr style=\"text-align: right;\">\n",
              "      <th></th>\n",
              "      <th>title</th>\n",
              "      <th>date</th>\n",
              "      <th>author</th>\n",
              "    </tr>\n",
              "  </thead>\n",
              "  <tbody>\n",
              "    <tr>\n",
              "      <th>0</th>\n",
              "      <td>[SALAH] Video “Tentara Cina sdh mulai beraksi ...</td>\n",
              "      <td>Juli 9, 2022</td>\n",
              "      <td>Adi Syafitrah</td>\n",
              "    </tr>\n",
              "    <tr>\n",
              "      <th>1</th>\n",
              "      <td>[SALAH] Video “Destinasi baru kebanggan masyar...</td>\n",
              "      <td>Juli 9, 2022</td>\n",
              "      <td>Pemeriksa Fakta Junior</td>\n",
              "    </tr>\n",
              "    <tr>\n",
              "      <th>2</th>\n",
              "      <td>[SALAH] Tangkapan Layar Artikel CNN Indonesia ...</td>\n",
              "      <td>Juli 9, 2022</td>\n",
              "      <td>Pemeriksa Fakta Junior</td>\n",
              "    </tr>\n",
              "    <tr>\n",
              "      <th>3</th>\n",
              "      <td>[SALAH] Foto Artikel “Pesantren Alquran Terba4...</td>\n",
              "      <td>Juli 9, 2022</td>\n",
              "      <td>Adi Syafitrah</td>\n",
              "    </tr>\n",
              "    <tr>\n",
              "      <th>4</th>\n",
              "      <td>[SALAH] Penemuan Burung Ababil di Palestina</td>\n",
              "      <td>Juli 8, 2022</td>\n",
              "      <td>Pemeriksa Fakta Junior</td>\n",
              "    </tr>\n",
              "  </tbody>\n",
              "</table>\n",
              "</div>\n",
              "      <button class=\"colab-df-convert\" onclick=\"convertToInteractive('df-aade4078-0e72-42cf-a56f-0adc6c7f6398')\"\n",
              "              title=\"Convert this dataframe to an interactive table.\"\n",
              "              style=\"display:none;\">\n",
              "        \n",
              "  <svg xmlns=\"http://www.w3.org/2000/svg\" height=\"24px\"viewBox=\"0 0 24 24\"\n",
              "       width=\"24px\">\n",
              "    <path d=\"M0 0h24v24H0V0z\" fill=\"none\"/>\n",
              "    <path d=\"M18.56 5.44l.94 2.06.94-2.06 2.06-.94-2.06-.94-.94-2.06-.94 2.06-2.06.94zm-11 1L8.5 8.5l.94-2.06 2.06-.94-2.06-.94L8.5 2.5l-.94 2.06-2.06.94zm10 10l.94 2.06.94-2.06 2.06-.94-2.06-.94-.94-2.06-.94 2.06-2.06.94z\"/><path d=\"M17.41 7.96l-1.37-1.37c-.4-.4-.92-.59-1.43-.59-.52 0-1.04.2-1.43.59L10.3 9.45l-7.72 7.72c-.78.78-.78 2.05 0 2.83L4 21.41c.39.39.9.59 1.41.59.51 0 1.02-.2 1.41-.59l7.78-7.78 2.81-2.81c.8-.78.8-2.07 0-2.86zM5.41 20L4 18.59l7.72-7.72 1.47 1.35L5.41 20z\"/>\n",
              "  </svg>\n",
              "      </button>\n",
              "      \n",
              "  <style>\n",
              "    .colab-df-container {\n",
              "      display:flex;\n",
              "      flex-wrap:wrap;\n",
              "      gap: 12px;\n",
              "    }\n",
              "\n",
              "    .colab-df-convert {\n",
              "      background-color: #E8F0FE;\n",
              "      border: none;\n",
              "      border-radius: 50%;\n",
              "      cursor: pointer;\n",
              "      display: none;\n",
              "      fill: #1967D2;\n",
              "      height: 32px;\n",
              "      padding: 0 0 0 0;\n",
              "      width: 32px;\n",
              "    }\n",
              "\n",
              "    .colab-df-convert:hover {\n",
              "      background-color: #E2EBFA;\n",
              "      box-shadow: 0px 1px 2px rgba(60, 64, 67, 0.3), 0px 1px 3px 1px rgba(60, 64, 67, 0.15);\n",
              "      fill: #174EA6;\n",
              "    }\n",
              "\n",
              "    [theme=dark] .colab-df-convert {\n",
              "      background-color: #3B4455;\n",
              "      fill: #D2E3FC;\n",
              "    }\n",
              "\n",
              "    [theme=dark] .colab-df-convert:hover {\n",
              "      background-color: #434B5C;\n",
              "      box-shadow: 0px 1px 3px 1px rgba(0, 0, 0, 0.15);\n",
              "      filter: drop-shadow(0px 1px 2px rgba(0, 0, 0, 0.3));\n",
              "      fill: #FFFFFF;\n",
              "    }\n",
              "  </style>\n",
              "\n",
              "      <script>\n",
              "        const buttonEl =\n",
              "          document.querySelector('#df-aade4078-0e72-42cf-a56f-0adc6c7f6398 button.colab-df-convert');\n",
              "        buttonEl.style.display =\n",
              "          google.colab.kernel.accessAllowed ? 'block' : 'none';\n",
              "\n",
              "        async function convertToInteractive(key) {\n",
              "          const element = document.querySelector('#df-aade4078-0e72-42cf-a56f-0adc6c7f6398');\n",
              "          const dataTable =\n",
              "            await google.colab.kernel.invokeFunction('convertToInteractive',\n",
              "                                                     [key], {});\n",
              "          if (!dataTable) return;\n",
              "\n",
              "          const docLinkHtml = 'Like what you see? Visit the ' +\n",
              "            '<a target=\"_blank\" href=https://colab.research.google.com/notebooks/data_table.ipynb>data table notebook</a>'\n",
              "            + ' to learn more about interactive tables.';\n",
              "          element.innerHTML = '';\n",
              "          dataTable['output_type'] = 'display_data';\n",
              "          await google.colab.output.renderOutput(dataTable, element);\n",
              "          const docLink = document.createElement('div');\n",
              "          docLink.innerHTML = docLinkHtml;\n",
              "          element.appendChild(docLink);\n",
              "        }\n",
              "      </script>\n",
              "    </div>\n",
              "  </div>\n",
              "  "
            ]
          },
          "metadata": {},
          "execution_count": 5
        }
      ],
      "source": [
        "# Delete unuse in variable title\n",
        "crwl_turnbackhoax['title']=crwl_turnbackhoax['title'].str.replace(r'\\t', '')\n",
        "crwl_turnbackhoax['title']=crwl_turnbackhoax['title'].str.replace(r'\\n', '')\n",
        "crwl_turnbackhoax.head()"
      ]
    },
    {
      "cell_type": "code",
      "execution_count": null,
      "metadata": {
        "colab": {
          "base_uri": "https://localhost:8080/",
          "height": 206
        },
        "id": "MG6R5LY0WLyB",
        "outputId": "9acac65c-8709-47b5-ebe5-d47a7591d89f"
      },
      "outputs": [
        {
          "output_type": "execute_result",
          "data": {
            "text/plain": [
              "                                               title               date  \\\n",
              "0  AKUN WHATSAPP MENGATASNAMAKAN SEKDA KOTA BANDU...  Rabu, 18 Mei 2022   \n",
              "1               LINK HADIAH RP 2 JUTA DARI PERTAMINA  Rabu, 18 Mei 2022   \n",
              "2  VIDEO ANAK SEKOLAH DI RUSIA NYANYIKAN LAGU IND...  Rabu, 18 Mei 2022   \n",
              "3  KADRUN ADALAH SEBUTAN PKI PADA TAHUN 1960AN PA...  Rabu, 18 Mei 2022   \n",
              "4         VIDEO TIONGKOK MELUNCURKAN MATAHARI BUATAN  Rabu, 18 Mei 2022   \n",
              "\n",
              "          author  \n",
              "0   Tommy Sutami  \n",
              "1   Tommy Sutami  \n",
              "2   Tommy Sutami  \n",
              "3   Fani Hardian  \n",
              "4   Tommy Sutami  "
            ],
            "text/html": [
              "\n",
              "  <div id=\"df-0fb1e5df-cf99-4ec8-847e-7b568f6b5b94\">\n",
              "    <div class=\"colab-df-container\">\n",
              "      <div>\n",
              "<style scoped>\n",
              "    .dataframe tbody tr th:only-of-type {\n",
              "        vertical-align: middle;\n",
              "    }\n",
              "\n",
              "    .dataframe tbody tr th {\n",
              "        vertical-align: top;\n",
              "    }\n",
              "\n",
              "    .dataframe thead th {\n",
              "        text-align: right;\n",
              "    }\n",
              "</style>\n",
              "<table border=\"1\" class=\"dataframe\">\n",
              "  <thead>\n",
              "    <tr style=\"text-align: right;\">\n",
              "      <th></th>\n",
              "      <th>title</th>\n",
              "      <th>date</th>\n",
              "      <th>author</th>\n",
              "    </tr>\n",
              "  </thead>\n",
              "  <tbody>\n",
              "    <tr>\n",
              "      <th>0</th>\n",
              "      <td>AKUN WHATSAPP MENGATASNAMAKAN SEKDA KOTA BANDU...</td>\n",
              "      <td>Rabu, 18 Mei 2022</td>\n",
              "      <td>Tommy Sutami</td>\n",
              "    </tr>\n",
              "    <tr>\n",
              "      <th>1</th>\n",
              "      <td>LINK HADIAH RP 2 JUTA DARI PERTAMINA</td>\n",
              "      <td>Rabu, 18 Mei 2022</td>\n",
              "      <td>Tommy Sutami</td>\n",
              "    </tr>\n",
              "    <tr>\n",
              "      <th>2</th>\n",
              "      <td>VIDEO ANAK SEKOLAH DI RUSIA NYANYIKAN LAGU IND...</td>\n",
              "      <td>Rabu, 18 Mei 2022</td>\n",
              "      <td>Tommy Sutami</td>\n",
              "    </tr>\n",
              "    <tr>\n",
              "      <th>3</th>\n",
              "      <td>KADRUN ADALAH SEBUTAN PKI PADA TAHUN 1960AN PA...</td>\n",
              "      <td>Rabu, 18 Mei 2022</td>\n",
              "      <td>Fani Hardian</td>\n",
              "    </tr>\n",
              "    <tr>\n",
              "      <th>4</th>\n",
              "      <td>VIDEO TIONGKOK MELUNCURKAN MATAHARI BUATAN</td>\n",
              "      <td>Rabu, 18 Mei 2022</td>\n",
              "      <td>Tommy Sutami</td>\n",
              "    </tr>\n",
              "  </tbody>\n",
              "</table>\n",
              "</div>\n",
              "      <button class=\"colab-df-convert\" onclick=\"convertToInteractive('df-0fb1e5df-cf99-4ec8-847e-7b568f6b5b94')\"\n",
              "              title=\"Convert this dataframe to an interactive table.\"\n",
              "              style=\"display:none;\">\n",
              "        \n",
              "  <svg xmlns=\"http://www.w3.org/2000/svg\" height=\"24px\"viewBox=\"0 0 24 24\"\n",
              "       width=\"24px\">\n",
              "    <path d=\"M0 0h24v24H0V0z\" fill=\"none\"/>\n",
              "    <path d=\"M18.56 5.44l.94 2.06.94-2.06 2.06-.94-2.06-.94-.94-2.06-.94 2.06-2.06.94zm-11 1L8.5 8.5l.94-2.06 2.06-.94-2.06-.94L8.5 2.5l-.94 2.06-2.06.94zm10 10l.94 2.06.94-2.06 2.06-.94-2.06-.94-.94-2.06-.94 2.06-2.06.94z\"/><path d=\"M17.41 7.96l-1.37-1.37c-.4-.4-.92-.59-1.43-.59-.52 0-1.04.2-1.43.59L10.3 9.45l-7.72 7.72c-.78.78-.78 2.05 0 2.83L4 21.41c.39.39.9.59 1.41.59.51 0 1.02-.2 1.41-.59l7.78-7.78 2.81-2.81c.8-.78.8-2.07 0-2.86zM5.41 20L4 18.59l7.72-7.72 1.47 1.35L5.41 20z\"/>\n",
              "  </svg>\n",
              "      </button>\n",
              "      \n",
              "  <style>\n",
              "    .colab-df-container {\n",
              "      display:flex;\n",
              "      flex-wrap:wrap;\n",
              "      gap: 12px;\n",
              "    }\n",
              "\n",
              "    .colab-df-convert {\n",
              "      background-color: #E8F0FE;\n",
              "      border: none;\n",
              "      border-radius: 50%;\n",
              "      cursor: pointer;\n",
              "      display: none;\n",
              "      fill: #1967D2;\n",
              "      height: 32px;\n",
              "      padding: 0 0 0 0;\n",
              "      width: 32px;\n",
              "    }\n",
              "\n",
              "    .colab-df-convert:hover {\n",
              "      background-color: #E2EBFA;\n",
              "      box-shadow: 0px 1px 2px rgba(60, 64, 67, 0.3), 0px 1px 3px 1px rgba(60, 64, 67, 0.15);\n",
              "      fill: #174EA6;\n",
              "    }\n",
              "\n",
              "    [theme=dark] .colab-df-convert {\n",
              "      background-color: #3B4455;\n",
              "      fill: #D2E3FC;\n",
              "    }\n",
              "\n",
              "    [theme=dark] .colab-df-convert:hover {\n",
              "      background-color: #434B5C;\n",
              "      box-shadow: 0px 1px 3px 1px rgba(0, 0, 0, 0.15);\n",
              "      filter: drop-shadow(0px 1px 2px rgba(0, 0, 0, 0.3));\n",
              "      fill: #FFFFFF;\n",
              "    }\n",
              "  </style>\n",
              "\n",
              "      <script>\n",
              "        const buttonEl =\n",
              "          document.querySelector('#df-0fb1e5df-cf99-4ec8-847e-7b568f6b5b94 button.colab-df-convert');\n",
              "        buttonEl.style.display =\n",
              "          google.colab.kernel.accessAllowed ? 'block' : 'none';\n",
              "\n",
              "        async function convertToInteractive(key) {\n",
              "          const element = document.querySelector('#df-0fb1e5df-cf99-4ec8-847e-7b568f6b5b94');\n",
              "          const dataTable =\n",
              "            await google.colab.kernel.invokeFunction('convertToInteractive',\n",
              "                                                     [key], {});\n",
              "          if (!dataTable) return;\n",
              "\n",
              "          const docLinkHtml = 'Like what you see? Visit the ' +\n",
              "            '<a target=\"_blank\" href=https://colab.research.google.com/notebooks/data_table.ipynb>data table notebook</a>'\n",
              "            + ' to learn more about interactive tables.';\n",
              "          element.innerHTML = '';\n",
              "          dataTable['output_type'] = 'display_data';\n",
              "          await google.colab.output.renderOutput(dataTable, element);\n",
              "          const docLink = document.createElement('div');\n",
              "          docLink.innerHTML = docLinkHtml;\n",
              "          element.appendChild(docLink);\n",
              "        }\n",
              "      </script>\n",
              "    </div>\n",
              "  </div>\n",
              "  "
            ]
          },
          "metadata": {},
          "execution_count": 6
        }
      ],
      "source": [
        "# load data from craling website\n",
        "# saberhoaks\n",
        "crwl_saberhoax = pd.read_csv('saberhoaks_all.csv',sep=\",\")\n",
        "crwl_saberhoax.head()"
      ]
    },
    {
      "cell_type": "code",
      "execution_count": null,
      "metadata": {
        "id": "agKq5-QBWLyC"
      },
      "outputs": [],
      "source": [
        "# take 50 record from turnbackhoax and saberhoaks\n",
        "turnbackhoax_50 = crwl_turnbackhoax.iloc[:50]\n",
        "saberhoax_50 = crwl_saberhoax.iloc[:50]"
      ]
    },
    {
      "cell_type": "code",
      "execution_count": null,
      "metadata": {
        "colab": {
          "base_uri": "https://localhost:8080/",
          "height": 206
        },
        "id": "cnDL_h3xWLyE",
        "outputId": "3ad221ef-208c-45b8-d9b7-68be699af783"
      },
      "outputs": [
        {
          "output_type": "execute_result",
          "data": {
            "text/plain": [
              "                                               title          date  \\\n",
              "0  [SALAH] Video “Tentara Cina sdh mulai beraksi ...  Juli 9, 2022   \n",
              "1  [SALAH] Video “Destinasi baru kebanggan masyar...  Juli 9, 2022   \n",
              "2  [SALAH] Tangkapan Layar Artikel CNN Indonesia ...  Juli 9, 2022   \n",
              "3  [SALAH] Foto Artikel “Pesantren Alquran Terba4...  Juli 9, 2022   \n",
              "4        [SALAH] Penemuan Burung Ababil di Palestina  Juli 8, 2022   \n",
              "\n",
              "                   author  \n",
              "0           Adi Syafitrah  \n",
              "1  Pemeriksa Fakta Junior  \n",
              "2  Pemeriksa Fakta Junior  \n",
              "3           Adi Syafitrah  \n",
              "4  Pemeriksa Fakta Junior  "
            ],
            "text/html": [
              "\n",
              "  <div id=\"df-30b788bf-d024-4a63-94ba-657c70d96d79\">\n",
              "    <div class=\"colab-df-container\">\n",
              "      <div>\n",
              "<style scoped>\n",
              "    .dataframe tbody tr th:only-of-type {\n",
              "        vertical-align: middle;\n",
              "    }\n",
              "\n",
              "    .dataframe tbody tr th {\n",
              "        vertical-align: top;\n",
              "    }\n",
              "\n",
              "    .dataframe thead th {\n",
              "        text-align: right;\n",
              "    }\n",
              "</style>\n",
              "<table border=\"1\" class=\"dataframe\">\n",
              "  <thead>\n",
              "    <tr style=\"text-align: right;\">\n",
              "      <th></th>\n",
              "      <th>title</th>\n",
              "      <th>date</th>\n",
              "      <th>author</th>\n",
              "    </tr>\n",
              "  </thead>\n",
              "  <tbody>\n",
              "    <tr>\n",
              "      <th>0</th>\n",
              "      <td>[SALAH] Video “Tentara Cina sdh mulai beraksi ...</td>\n",
              "      <td>Juli 9, 2022</td>\n",
              "      <td>Adi Syafitrah</td>\n",
              "    </tr>\n",
              "    <tr>\n",
              "      <th>1</th>\n",
              "      <td>[SALAH] Video “Destinasi baru kebanggan masyar...</td>\n",
              "      <td>Juli 9, 2022</td>\n",
              "      <td>Pemeriksa Fakta Junior</td>\n",
              "    </tr>\n",
              "    <tr>\n",
              "      <th>2</th>\n",
              "      <td>[SALAH] Tangkapan Layar Artikel CNN Indonesia ...</td>\n",
              "      <td>Juli 9, 2022</td>\n",
              "      <td>Pemeriksa Fakta Junior</td>\n",
              "    </tr>\n",
              "    <tr>\n",
              "      <th>3</th>\n",
              "      <td>[SALAH] Foto Artikel “Pesantren Alquran Terba4...</td>\n",
              "      <td>Juli 9, 2022</td>\n",
              "      <td>Adi Syafitrah</td>\n",
              "    </tr>\n",
              "    <tr>\n",
              "      <th>4</th>\n",
              "      <td>[SALAH] Penemuan Burung Ababil di Palestina</td>\n",
              "      <td>Juli 8, 2022</td>\n",
              "      <td>Pemeriksa Fakta Junior</td>\n",
              "    </tr>\n",
              "  </tbody>\n",
              "</table>\n",
              "</div>\n",
              "      <button class=\"colab-df-convert\" onclick=\"convertToInteractive('df-30b788bf-d024-4a63-94ba-657c70d96d79')\"\n",
              "              title=\"Convert this dataframe to an interactive table.\"\n",
              "              style=\"display:none;\">\n",
              "        \n",
              "  <svg xmlns=\"http://www.w3.org/2000/svg\" height=\"24px\"viewBox=\"0 0 24 24\"\n",
              "       width=\"24px\">\n",
              "    <path d=\"M0 0h24v24H0V0z\" fill=\"none\"/>\n",
              "    <path d=\"M18.56 5.44l.94 2.06.94-2.06 2.06-.94-2.06-.94-.94-2.06-.94 2.06-2.06.94zm-11 1L8.5 8.5l.94-2.06 2.06-.94-2.06-.94L8.5 2.5l-.94 2.06-2.06.94zm10 10l.94 2.06.94-2.06 2.06-.94-2.06-.94-.94-2.06-.94 2.06-2.06.94z\"/><path d=\"M17.41 7.96l-1.37-1.37c-.4-.4-.92-.59-1.43-.59-.52 0-1.04.2-1.43.59L10.3 9.45l-7.72 7.72c-.78.78-.78 2.05 0 2.83L4 21.41c.39.39.9.59 1.41.59.51 0 1.02-.2 1.41-.59l7.78-7.78 2.81-2.81c.8-.78.8-2.07 0-2.86zM5.41 20L4 18.59l7.72-7.72 1.47 1.35L5.41 20z\"/>\n",
              "  </svg>\n",
              "      </button>\n",
              "      \n",
              "  <style>\n",
              "    .colab-df-container {\n",
              "      display:flex;\n",
              "      flex-wrap:wrap;\n",
              "      gap: 12px;\n",
              "    }\n",
              "\n",
              "    .colab-df-convert {\n",
              "      background-color: #E8F0FE;\n",
              "      border: none;\n",
              "      border-radius: 50%;\n",
              "      cursor: pointer;\n",
              "      display: none;\n",
              "      fill: #1967D2;\n",
              "      height: 32px;\n",
              "      padding: 0 0 0 0;\n",
              "      width: 32px;\n",
              "    }\n",
              "\n",
              "    .colab-df-convert:hover {\n",
              "      background-color: #E2EBFA;\n",
              "      box-shadow: 0px 1px 2px rgba(60, 64, 67, 0.3), 0px 1px 3px 1px rgba(60, 64, 67, 0.15);\n",
              "      fill: #174EA6;\n",
              "    }\n",
              "\n",
              "    [theme=dark] .colab-df-convert {\n",
              "      background-color: #3B4455;\n",
              "      fill: #D2E3FC;\n",
              "    }\n",
              "\n",
              "    [theme=dark] .colab-df-convert:hover {\n",
              "      background-color: #434B5C;\n",
              "      box-shadow: 0px 1px 3px 1px rgba(0, 0, 0, 0.15);\n",
              "      filter: drop-shadow(0px 1px 2px rgba(0, 0, 0, 0.3));\n",
              "      fill: #FFFFFF;\n",
              "    }\n",
              "  </style>\n",
              "\n",
              "      <script>\n",
              "        const buttonEl =\n",
              "          document.querySelector('#df-30b788bf-d024-4a63-94ba-657c70d96d79 button.colab-df-convert');\n",
              "        buttonEl.style.display =\n",
              "          google.colab.kernel.accessAllowed ? 'block' : 'none';\n",
              "\n",
              "        async function convertToInteractive(key) {\n",
              "          const element = document.querySelector('#df-30b788bf-d024-4a63-94ba-657c70d96d79');\n",
              "          const dataTable =\n",
              "            await google.colab.kernel.invokeFunction('convertToInteractive',\n",
              "                                                     [key], {});\n",
              "          if (!dataTable) return;\n",
              "\n",
              "          const docLinkHtml = 'Like what you see? Visit the ' +\n",
              "            '<a target=\"_blank\" href=https://colab.research.google.com/notebooks/data_table.ipynb>data table notebook</a>'\n",
              "            + ' to learn more about interactive tables.';\n",
              "          element.innerHTML = '';\n",
              "          dataTable['output_type'] = 'display_data';\n",
              "          await google.colab.output.renderOutput(dataTable, element);\n",
              "          const docLink = document.createElement('div');\n",
              "          docLink.innerHTML = docLinkHtml;\n",
              "          element.appendChild(docLink);\n",
              "        }\n",
              "      </script>\n",
              "    </div>\n",
              "  </div>\n",
              "  "
            ]
          },
          "metadata": {},
          "execution_count": 8
        }
      ],
      "source": [
        "all_data_article = pd.concat([turnbackhoax_50,saberhoax_50])\n",
        "all_data_article.head()"
      ]
    },
    {
      "cell_type": "markdown",
      "metadata": {
        "id": "RUbJ2A13WLyG"
      },
      "source": [
        "Data Pre-processing"
      ]
    },
    {
      "cell_type": "code",
      "execution_count": null,
      "metadata": {
        "colab": {
          "base_uri": "https://localhost:8080/",
          "height": 206
        },
        "id": "otAnvIdwWLyH",
        "outputId": "fca81bd2-0d7c-4b77-c8ae-97dc1a0d74b4"
      },
      "outputs": [
        {
          "output_type": "execute_result",
          "data": {
            "text/plain": [
              "                                               title          date  \\\n",
              "0  [SALAH] VIDEO “TENTARA CINA SDH MULAI BERAKSI ...  JULI 9, 2022   \n",
              "1  [SALAH] VIDEO “DESTINASI BARU KEBANGGAN MASYAR...  JULI 9, 2022   \n",
              "2  [SALAH] TANGKAPAN LAYAR ARTIKEL CNN INDONESIA ...  JULI 9, 2022   \n",
              "3  [SALAH] FOTO ARTIKEL “PESANTREN ALQURAN TERBA4...  JULI 9, 2022   \n",
              "4        [SALAH] PENEMUAN BURUNG ABABIL DI PALESTINA  JULI 8, 2022   \n",
              "\n",
              "                   author  \n",
              "0           ADI SYAFITRAH  \n",
              "1  PEMERIKSA FAKTA JUNIOR  \n",
              "2  PEMERIKSA FAKTA JUNIOR  \n",
              "3           ADI SYAFITRAH  \n",
              "4  PEMERIKSA FAKTA JUNIOR  "
            ],
            "text/html": [
              "\n",
              "  <div id=\"df-8e0a5646-b371-48e8-9ea6-b9056262cfcf\">\n",
              "    <div class=\"colab-df-container\">\n",
              "      <div>\n",
              "<style scoped>\n",
              "    .dataframe tbody tr th:only-of-type {\n",
              "        vertical-align: middle;\n",
              "    }\n",
              "\n",
              "    .dataframe tbody tr th {\n",
              "        vertical-align: top;\n",
              "    }\n",
              "\n",
              "    .dataframe thead th {\n",
              "        text-align: right;\n",
              "    }\n",
              "</style>\n",
              "<table border=\"1\" class=\"dataframe\">\n",
              "  <thead>\n",
              "    <tr style=\"text-align: right;\">\n",
              "      <th></th>\n",
              "      <th>title</th>\n",
              "      <th>date</th>\n",
              "      <th>author</th>\n",
              "    </tr>\n",
              "  </thead>\n",
              "  <tbody>\n",
              "    <tr>\n",
              "      <th>0</th>\n",
              "      <td>[SALAH] VIDEO “TENTARA CINA SDH MULAI BERAKSI ...</td>\n",
              "      <td>JULI 9, 2022</td>\n",
              "      <td>ADI SYAFITRAH</td>\n",
              "    </tr>\n",
              "    <tr>\n",
              "      <th>1</th>\n",
              "      <td>[SALAH] VIDEO “DESTINASI BARU KEBANGGAN MASYAR...</td>\n",
              "      <td>JULI 9, 2022</td>\n",
              "      <td>PEMERIKSA FAKTA JUNIOR</td>\n",
              "    </tr>\n",
              "    <tr>\n",
              "      <th>2</th>\n",
              "      <td>[SALAH] TANGKAPAN LAYAR ARTIKEL CNN INDONESIA ...</td>\n",
              "      <td>JULI 9, 2022</td>\n",
              "      <td>PEMERIKSA FAKTA JUNIOR</td>\n",
              "    </tr>\n",
              "    <tr>\n",
              "      <th>3</th>\n",
              "      <td>[SALAH] FOTO ARTIKEL “PESANTREN ALQURAN TERBA4...</td>\n",
              "      <td>JULI 9, 2022</td>\n",
              "      <td>ADI SYAFITRAH</td>\n",
              "    </tr>\n",
              "    <tr>\n",
              "      <th>4</th>\n",
              "      <td>[SALAH] PENEMUAN BURUNG ABABIL DI PALESTINA</td>\n",
              "      <td>JULI 8, 2022</td>\n",
              "      <td>PEMERIKSA FAKTA JUNIOR</td>\n",
              "    </tr>\n",
              "  </tbody>\n",
              "</table>\n",
              "</div>\n",
              "      <button class=\"colab-df-convert\" onclick=\"convertToInteractive('df-8e0a5646-b371-48e8-9ea6-b9056262cfcf')\"\n",
              "              title=\"Convert this dataframe to an interactive table.\"\n",
              "              style=\"display:none;\">\n",
              "        \n",
              "  <svg xmlns=\"http://www.w3.org/2000/svg\" height=\"24px\"viewBox=\"0 0 24 24\"\n",
              "       width=\"24px\">\n",
              "    <path d=\"M0 0h24v24H0V0z\" fill=\"none\"/>\n",
              "    <path d=\"M18.56 5.44l.94 2.06.94-2.06 2.06-.94-2.06-.94-.94-2.06-.94 2.06-2.06.94zm-11 1L8.5 8.5l.94-2.06 2.06-.94-2.06-.94L8.5 2.5l-.94 2.06-2.06.94zm10 10l.94 2.06.94-2.06 2.06-.94-2.06-.94-.94-2.06-.94 2.06-2.06.94z\"/><path d=\"M17.41 7.96l-1.37-1.37c-.4-.4-.92-.59-1.43-.59-.52 0-1.04.2-1.43.59L10.3 9.45l-7.72 7.72c-.78.78-.78 2.05 0 2.83L4 21.41c.39.39.9.59 1.41.59.51 0 1.02-.2 1.41-.59l7.78-7.78 2.81-2.81c.8-.78.8-2.07 0-2.86zM5.41 20L4 18.59l7.72-7.72 1.47 1.35L5.41 20z\"/>\n",
              "  </svg>\n",
              "      </button>\n",
              "      \n",
              "  <style>\n",
              "    .colab-df-container {\n",
              "      display:flex;\n",
              "      flex-wrap:wrap;\n",
              "      gap: 12px;\n",
              "    }\n",
              "\n",
              "    .colab-df-convert {\n",
              "      background-color: #E8F0FE;\n",
              "      border: none;\n",
              "      border-radius: 50%;\n",
              "      cursor: pointer;\n",
              "      display: none;\n",
              "      fill: #1967D2;\n",
              "      height: 32px;\n",
              "      padding: 0 0 0 0;\n",
              "      width: 32px;\n",
              "    }\n",
              "\n",
              "    .colab-df-convert:hover {\n",
              "      background-color: #E2EBFA;\n",
              "      box-shadow: 0px 1px 2px rgba(60, 64, 67, 0.3), 0px 1px 3px 1px rgba(60, 64, 67, 0.15);\n",
              "      fill: #174EA6;\n",
              "    }\n",
              "\n",
              "    [theme=dark] .colab-df-convert {\n",
              "      background-color: #3B4455;\n",
              "      fill: #D2E3FC;\n",
              "    }\n",
              "\n",
              "    [theme=dark] .colab-df-convert:hover {\n",
              "      background-color: #434B5C;\n",
              "      box-shadow: 0px 1px 3px 1px rgba(0, 0, 0, 0.15);\n",
              "      filter: drop-shadow(0px 1px 2px rgba(0, 0, 0, 0.3));\n",
              "      fill: #FFFFFF;\n",
              "    }\n",
              "  </style>\n",
              "\n",
              "      <script>\n",
              "        const buttonEl =\n",
              "          document.querySelector('#df-8e0a5646-b371-48e8-9ea6-b9056262cfcf button.colab-df-convert');\n",
              "        buttonEl.style.display =\n",
              "          google.colab.kernel.accessAllowed ? 'block' : 'none';\n",
              "\n",
              "        async function convertToInteractive(key) {\n",
              "          const element = document.querySelector('#df-8e0a5646-b371-48e8-9ea6-b9056262cfcf');\n",
              "          const dataTable =\n",
              "            await google.colab.kernel.invokeFunction('convertToInteractive',\n",
              "                                                     [key], {});\n",
              "          if (!dataTable) return;\n",
              "\n",
              "          const docLinkHtml = 'Like what you see? Visit the ' +\n",
              "            '<a target=\"_blank\" href=https://colab.research.google.com/notebooks/data_table.ipynb>data table notebook</a>'\n",
              "            + ' to learn more about interactive tables.';\n",
              "          element.innerHTML = '';\n",
              "          dataTable['output_type'] = 'display_data';\n",
              "          await google.colab.output.renderOutput(dataTable, element);\n",
              "          const docLink = document.createElement('div');\n",
              "          docLink.innerHTML = docLinkHtml;\n",
              "          element.appendChild(docLink);\n",
              "        }\n",
              "      </script>\n",
              "    </div>\n",
              "  </div>\n",
              "  "
            ]
          },
          "metadata": {},
          "execution_count": 9
        }
      ],
      "source": [
        "# Change to upper font in title and author\n",
        "all_data_article['title'] = all_data_article['title'].str.upper()\n",
        "all_data_article['author'] = all_data_article['author'].str.upper()\n",
        "all_data_article['date'] = all_data_article['date'].str.upper()\n",
        "all_data_article.head()"
      ]
    },
    {
      "cell_type": "code",
      "execution_count": null,
      "metadata": {
        "id": "C78xvNsVWLyK"
      },
      "outputs": [],
      "source": [
        "# Remove Punctuation string with regrex\n",
        "import re"
      ]
    },
    {
      "cell_type": "code",
      "execution_count": null,
      "metadata": {
        "colab": {
          "base_uri": "https://localhost:8080/",
          "height": 206
        },
        "id": "lP19SJefWLyL",
        "outputId": "98d3f68e-e0f9-46ca-f9fc-af26ee4f90e8"
      },
      "outputs": [
        {
          "output_type": "execute_result",
          "data": {
            "text/plain": [
              "                                               title          date  \\\n",
              "0  SALAH VIDEO TENTARA CINA SDH MULAI BERAKSI KAN...  JULI 9, 2022   \n",
              "1  SALAH VIDEO DESTINASI BARU KEBANGGAN MASYARAKA...  JULI 9, 2022   \n",
              "2  SALAH TANGKAPAN LAYAR ARTIKEL CNN INDONESIA PR...  JULI 9, 2022   \n",
              "3  SALAH FOTO ARTIKEL PESANTREN ALQURAN TERBA4KAR...  JULI 9, 2022   \n",
              "4          SALAH PENEMUAN BURUNG ABABIL DI PALESTINA  JULI 8, 2022   \n",
              "\n",
              "                   author  \n",
              "0           ADI SYAFITRAH  \n",
              "1  PEMERIKSA FAKTA JUNIOR  \n",
              "2  PEMERIKSA FAKTA JUNIOR  \n",
              "3           ADI SYAFITRAH  \n",
              "4  PEMERIKSA FAKTA JUNIOR  "
            ],
            "text/html": [
              "\n",
              "  <div id=\"df-f2791669-80cb-4c67-9032-5c8c4703d35e\">\n",
              "    <div class=\"colab-df-container\">\n",
              "      <div>\n",
              "<style scoped>\n",
              "    .dataframe tbody tr th:only-of-type {\n",
              "        vertical-align: middle;\n",
              "    }\n",
              "\n",
              "    .dataframe tbody tr th {\n",
              "        vertical-align: top;\n",
              "    }\n",
              "\n",
              "    .dataframe thead th {\n",
              "        text-align: right;\n",
              "    }\n",
              "</style>\n",
              "<table border=\"1\" class=\"dataframe\">\n",
              "  <thead>\n",
              "    <tr style=\"text-align: right;\">\n",
              "      <th></th>\n",
              "      <th>title</th>\n",
              "      <th>date</th>\n",
              "      <th>author</th>\n",
              "    </tr>\n",
              "  </thead>\n",
              "  <tbody>\n",
              "    <tr>\n",
              "      <th>0</th>\n",
              "      <td>SALAH VIDEO TENTARA CINA SDH MULAI BERAKSI KAN...</td>\n",
              "      <td>JULI 9, 2022</td>\n",
              "      <td>ADI SYAFITRAH</td>\n",
              "    </tr>\n",
              "    <tr>\n",
              "      <th>1</th>\n",
              "      <td>SALAH VIDEO DESTINASI BARU KEBANGGAN MASYARAKA...</td>\n",
              "      <td>JULI 9, 2022</td>\n",
              "      <td>PEMERIKSA FAKTA JUNIOR</td>\n",
              "    </tr>\n",
              "    <tr>\n",
              "      <th>2</th>\n",
              "      <td>SALAH TANGKAPAN LAYAR ARTIKEL CNN INDONESIA PR...</td>\n",
              "      <td>JULI 9, 2022</td>\n",
              "      <td>PEMERIKSA FAKTA JUNIOR</td>\n",
              "    </tr>\n",
              "    <tr>\n",
              "      <th>3</th>\n",
              "      <td>SALAH FOTO ARTIKEL PESANTREN ALQURAN TERBA4KAR...</td>\n",
              "      <td>JULI 9, 2022</td>\n",
              "      <td>ADI SYAFITRAH</td>\n",
              "    </tr>\n",
              "    <tr>\n",
              "      <th>4</th>\n",
              "      <td>SALAH PENEMUAN BURUNG ABABIL DI PALESTINA</td>\n",
              "      <td>JULI 8, 2022</td>\n",
              "      <td>PEMERIKSA FAKTA JUNIOR</td>\n",
              "    </tr>\n",
              "  </tbody>\n",
              "</table>\n",
              "</div>\n",
              "      <button class=\"colab-df-convert\" onclick=\"convertToInteractive('df-f2791669-80cb-4c67-9032-5c8c4703d35e')\"\n",
              "              title=\"Convert this dataframe to an interactive table.\"\n",
              "              style=\"display:none;\">\n",
              "        \n",
              "  <svg xmlns=\"http://www.w3.org/2000/svg\" height=\"24px\"viewBox=\"0 0 24 24\"\n",
              "       width=\"24px\">\n",
              "    <path d=\"M0 0h24v24H0V0z\" fill=\"none\"/>\n",
              "    <path d=\"M18.56 5.44l.94 2.06.94-2.06 2.06-.94-2.06-.94-.94-2.06-.94 2.06-2.06.94zm-11 1L8.5 8.5l.94-2.06 2.06-.94-2.06-.94L8.5 2.5l-.94 2.06-2.06.94zm10 10l.94 2.06.94-2.06 2.06-.94-2.06-.94-.94-2.06-.94 2.06-2.06.94z\"/><path d=\"M17.41 7.96l-1.37-1.37c-.4-.4-.92-.59-1.43-.59-.52 0-1.04.2-1.43.59L10.3 9.45l-7.72 7.72c-.78.78-.78 2.05 0 2.83L4 21.41c.39.39.9.59 1.41.59.51 0 1.02-.2 1.41-.59l7.78-7.78 2.81-2.81c.8-.78.8-2.07 0-2.86zM5.41 20L4 18.59l7.72-7.72 1.47 1.35L5.41 20z\"/>\n",
              "  </svg>\n",
              "      </button>\n",
              "      \n",
              "  <style>\n",
              "    .colab-df-container {\n",
              "      display:flex;\n",
              "      flex-wrap:wrap;\n",
              "      gap: 12px;\n",
              "    }\n",
              "\n",
              "    .colab-df-convert {\n",
              "      background-color: #E8F0FE;\n",
              "      border: none;\n",
              "      border-radius: 50%;\n",
              "      cursor: pointer;\n",
              "      display: none;\n",
              "      fill: #1967D2;\n",
              "      height: 32px;\n",
              "      padding: 0 0 0 0;\n",
              "      width: 32px;\n",
              "    }\n",
              "\n",
              "    .colab-df-convert:hover {\n",
              "      background-color: #E2EBFA;\n",
              "      box-shadow: 0px 1px 2px rgba(60, 64, 67, 0.3), 0px 1px 3px 1px rgba(60, 64, 67, 0.15);\n",
              "      fill: #174EA6;\n",
              "    }\n",
              "\n",
              "    [theme=dark] .colab-df-convert {\n",
              "      background-color: #3B4455;\n",
              "      fill: #D2E3FC;\n",
              "    }\n",
              "\n",
              "    [theme=dark] .colab-df-convert:hover {\n",
              "      background-color: #434B5C;\n",
              "      box-shadow: 0px 1px 3px 1px rgba(0, 0, 0, 0.15);\n",
              "      filter: drop-shadow(0px 1px 2px rgba(0, 0, 0, 0.3));\n",
              "      fill: #FFFFFF;\n",
              "    }\n",
              "  </style>\n",
              "\n",
              "      <script>\n",
              "        const buttonEl =\n",
              "          document.querySelector('#df-f2791669-80cb-4c67-9032-5c8c4703d35e button.colab-df-convert');\n",
              "        buttonEl.style.display =\n",
              "          google.colab.kernel.accessAllowed ? 'block' : 'none';\n",
              "\n",
              "        async function convertToInteractive(key) {\n",
              "          const element = document.querySelector('#df-f2791669-80cb-4c67-9032-5c8c4703d35e');\n",
              "          const dataTable =\n",
              "            await google.colab.kernel.invokeFunction('convertToInteractive',\n",
              "                                                     [key], {});\n",
              "          if (!dataTable) return;\n",
              "\n",
              "          const docLinkHtml = 'Like what you see? Visit the ' +\n",
              "            '<a target=\"_blank\" href=https://colab.research.google.com/notebooks/data_table.ipynb>data table notebook</a>'\n",
              "            + ' to learn more about interactive tables.';\n",
              "          element.innerHTML = '';\n",
              "          dataTable['output_type'] = 'display_data';\n",
              "          await google.colab.output.renderOutput(dataTable, element);\n",
              "          const docLink = document.createElement('div');\n",
              "          docLink.innerHTML = docLinkHtml;\n",
              "          element.appendChild(docLink);\n",
              "        }\n",
              "      </script>\n",
              "    </div>\n",
              "  </div>\n",
              "  "
            ]
          },
          "metadata": {},
          "execution_count": 11
        }
      ],
      "source": [
        "# Remove Punctuation in all_data_article\n",
        "r = re.compile(r'[^\\w\\s]+')\n",
        "all_data_article['title']=[r.sub( '', s) for s in all_data_article['title'].tolist()]\n",
        "all_data_article['author']=[r.sub( '', s) for s in all_data_article['author'].tolist()]\n",
        "all_data_article.head()"
      ]
    },
    {
      "cell_type": "code",
      "execution_count": null,
      "metadata": {
        "colab": {
          "base_uri": "https://localhost:8080/"
        },
        "id": "A4a_sKXZWLyM",
        "outputId": "7cf77feb-96fa-413d-ea21-fe997d1d7bb6"
      },
      "outputs": [
        {
          "output_type": "stream",
          "name": "stdout",
          "text": [
            "              0                                                  1\n",
            "0         SALAH  VIDEO TENTARA CINA SDH MULAI BERAKSI KANG SDH ...\n",
            "1         SALAH  VIDEO DESTINASI BARU KEBANGGAN MASYARAKAT JATE...\n",
            "2         SALAH  TANGKAPAN LAYAR ARTIKEL CNN INDONESIA PRESIDEN...\n",
            "3         SALAH  FOTO ARTIKEL PESANTREN ALQURAN TERBA4KAR 26 SA...\n",
            "4         SALAH                PENEMUAN BURUNG ABABIL DI PALESTINA\n",
            "..          ...                                                ...\n",
            "45      PERWIRA  POLISI MENINGGAL KARENA BENTROK DENGAN PENDEMO...\n",
            "46     LOWONGAN  KERJA PT ANGKASA PURA I DENGAN BATAS LAMARAN 2...\n",
            "47        KLAIM  AKUN FACEBOOK SEORANG IBU PROVOKATOR PENGEROYO...\n",
            "48        VIDEO  SEORANG IBU PROVOKATOR PENGEROYOKAN ADE ARMAND...\n",
            "49  MENGONSUMSI  BUAH ZURIAT DIKLAIM MENINGKATKAN PELUANG KEHAM...\n",
            "\n",
            "[100 rows x 2 columns]\n"
          ]
        }
      ],
      "source": [
        "# new list with split value in  title columns\n",
        "all_data_title= all_data_article['title'].str.split(\" \", n = 1, expand = True)\n",
        "print(all_data_title)"
      ]
    },
    {
      "cell_type": "code",
      "execution_count": null,
      "metadata": {
        "colab": {
          "base_uri": "https://localhost:8080/"
        },
        "id": "-gr1GEY2WLyO",
        "outputId": "e503af76-baf5-45fc-bc50-30f5510bd1c3"
      },
      "outputs": [
        {
          "output_type": "execute_result",
          "data": {
            "text/plain": [
              "0     video tentara cina sdh mulai beraksi kang sdh ...\n",
              "1     video destinasi baru kebanggan masyarakat jate...\n",
              "2     tangkapan layar artikel cnn indonesia presiden...\n",
              "3     foto artikel pesantren alquran terba4kar 26 sa...\n",
              "4                   penemuan burung ababil di palestina\n",
              "                            ...                        \n",
              "45    polisi meninggal karena bentrok dengan pendemo...\n",
              "46    kerja pt angkasa pura i dengan batas lamaran 2...\n",
              "47    akun facebook seorang ibu provokator pengeroyo...\n",
              "48    seorang ibu provokator pengeroyokan ade armand...\n",
              "49    buah zuriat diklaim meningkatkan peluang keham...\n",
              "Name: 1, Length: 100, dtype: object"
            ]
          },
          "metadata": {},
          "execution_count": 13
        }
      ],
      "source": [
        "all_data_title[1].str.lower()"
      ]
    },
    {
      "cell_type": "code",
      "execution_count": null,
      "metadata": {
        "colab": {
          "base_uri": "https://localhost:8080/"
        },
        "id": "Yto0wbBrWLyP",
        "outputId": "28b54d10-2042-4b2b-a261-9a25788a124d"
      },
      "outputs": [
        {
          "output_type": "stream",
          "name": "stderr",
          "text": [
            "[nltk_data] Downloading package stopwords to /root/nltk_data...\n",
            "[nltk_data]   Unzipping corpora/stopwords.zip.\n",
            "[nltk_data] Downloading package punkt to /root/nltk_data...\n",
            "[nltk_data]   Unzipping tokenizers/punkt.zip.\n"
          ]
        },
        {
          "output_type": "execute_result",
          "data": {
            "text/plain": [
              "True"
            ]
          },
          "metadata": {},
          "execution_count": 16
        }
      ],
      "source": [
        "# Stpword Removal with tala\n",
        "import nltk\n",
        "from nltk.tokenize import word_tokenize\n",
        "nltk.download('stopwords')\n",
        "nltk.download('punkt')"
      ]
    },
    {
      "cell_type": "code",
      "execution_count": null,
      "metadata": {
        "colab": {
          "base_uri": "https://localhost:8080/"
        },
        "id": "zgWQI6-6WLyR",
        "outputId": "06791e71-d898-4f91-a502-3c0e53c05b27"
      },
      "outputs": [
        {
          "output_type": "execute_result",
          "data": {
            "text/plain": [
              "758"
            ]
          },
          "metadata": {},
          "execution_count": 18
        }
      ],
      "source": [
        "f = open(\"tala-stopwords-indonesia.txt\", \"r\")\n",
        "stopword_list = []\n",
        "for line in f:\n",
        "    stripped_line = line.strip()\n",
        "    line_list = stripped_line.split()\n",
        "    stopword_list.append(line_list[0])\n",
        "f.close()\n",
        "\n",
        "len(stopword_list)"
      ]
    },
    {
      "cell_type": "code",
      "execution_count": null,
      "metadata": {
        "colab": {
          "base_uri": "https://localhost:8080/"
        },
        "id": "MnrKNu-AWLyS",
        "outputId": "27f29d59-6b02-49ef-b7ca-fb2f99af6004"
      },
      "outputs": [
        {
          "output_type": "stream",
          "name": "stdout",
          "text": [
            "0     video tentara cina sdh mulai beraksi kang sdh ...\n",
            "1     video destinasi baru kebanggan masyarakat jate...\n",
            "2     tangkapan layar artikel cnn indonesia presiden...\n",
            "3     foto artikel pesantren alquran terba4kar 26 sa...\n",
            "4                   penemuan burung ababil di palestina\n",
            "                            ...                        \n",
            "45    polisi meninggal karena bentrok dengan pendemo...\n",
            "46    kerja pt angkasa pura i dengan batas lamaran 2...\n",
            "47    akun facebook seorang ibu provokator pengeroyo...\n",
            "48    seorang ibu provokator pengeroyokan ade armand...\n",
            "49    buah zuriat diklaim meningkatkan peluang keham...\n",
            "Name: 1, Length: 100, dtype: object\n"
          ]
        }
      ],
      "source": [
        "data_article = []\n",
        "data_article = all_data_title[1].str.lower()\n",
        "print(data_article)"
      ]
    },
    {
      "cell_type": "code",
      "execution_count": null,
      "metadata": {
        "id": "IiNS-M46WLyT"
      },
      "outputs": [],
      "source": [
        "results_token = []\n",
        "for sentence in data_article:\n",
        "    results_token.append(word_tokenize(sentence))"
      ]
    },
    {
      "cell_type": "code",
      "execution_count": null,
      "metadata": {
        "colab": {
          "base_uri": "https://localhost:8080/"
        },
        "id": "LMhDEFrnWLyU",
        "outputId": "a2f94552-7834-48be-d0d2-90e21a8d6c96"
      },
      "outputs": [
        {
          "output_type": "stream",
          "name": "stdout",
          "text": [
            "[['video', 'tentara', 'cina', 'sdh', 'mulai', 'beraksi', 'kang', 'sdh', 'berani', 'melawan', 'tentara', 'kita'], ['video', 'destinasi', 'baru', 'kebanggan', 'masyarakat', 'jateng', 'stadium', 'di', 'atas', 'danau'], ['tangkapan', 'layar', 'artikel', 'cnn', 'indonesia', 'presiden', 'zelensky', 'dan', 'rakyat', 'ukraina', 'bantah', 'dan', 'marah', 'sudah', 'di', 'fitnah', 'dan', 'di', 'rendahkan', 'jokowi'], ['foto', 'artikel', 'pesantren', 'alquran', 'terba4kar', '26', 'santri', 'dan', 'dua', 'guru', 't3w4s', 'terp4ngg4ng'], ['penemuan', 'burung', 'ababil', 'di', 'palestina'], ['gambar', 'tangkapan', 'layar', 'artikel', 'viva', 'jateng', 'disebut', 'provinsi', 'termiskin', 'di', 'pulau', 'jawa'], ['tenggelamnya', 'kapal', 'laut', 'di', 'wilayah', 'ntt', 'dengan', 'menewaskan', '139', 'orang', 'penumpang'], ['video', 'sosok', 'makhluk', 'aneh', 'di', 'hutan'], ['video', 'kebakaran', 'spbu', 'akibat', 'bayar', 'pakai', 'hp', 'pada', '1', 'juli', '2022'], ['artikel', 'berita', 'puan', 'jika', 'negara', 'ingin', 'maju', 'dan', 'berkembang', 'pendidikan', 'agama', 'islam', 'harus', 'di', 'hapus'], ['jokowi', 'didemo', 'di', 'jerman'], ['keren', 'bendera', 'nkri', 'kita', 'terbentang', 'luas', 'di', 'konser', 'group', 'scorpion', 'dipolandia', 'berkat', 'presiden', 'kita', 'jokowi'], ['megawati', 'resmi', 'tunjuk', 'ganjar', 'pranowo', 'sebagai', 'calon', 'presiden', 'untuk', 'pemilu', '2024'], ['makan', 'buah', 'saat', 'perut', 'kosong', 'dapat', 'sembuhkan', 'kanker'], ['ketua', 'asosiasi', 'perangkat', 'desa', 'seluruh', 'indonesia', 'apdesi', 'kabupaten', 'bireuen', 'aceh', 'meminta', 'bantuan', 'uang', 'dan', 'pulsa'], ['informasi', 'lowongan', 'pekerjaan', 'pt', 'pelabuhan', 'indonesia', 'iii'], ['pemilik', 'bahan', 'peledak', 'dan', 'senjata', 'api', 'di', 'bandung', 'telah', 'ditemukan'], ['beli', 'bbm', 'harus', 'pakai', 'aplikasi', 'mypertamina'], ['mk', 'legalkan', 'zina', 'dan', 'lgbt'], ['surat', 'undangan', 'pengadaan', 'bahan', 'baku', 'di', 'pt', 'sido', 'muncul'], ['foto', 'karya', 'fenomenal', 'ahok', 'beli', 'tanah', 'sendiri', 'beli', 'bus', 'rongsokan'], ['festival', 'musik', 'glastonbury', 'dipenuhi', 'sampah', 'setelah', 'pidato', 'greta', 'thunberg'], ['kadrun', 'adalah', 'sebutan', 'pki', 'tahun', '1960an', 'pada', 'umat', 'islam', 'sebagai', 'musuhnya'], ['video', 'banyak', 'domba', 'mati', 'di', 'idaho', 'amerika', 'serikat'], ['foto', 'badai', 'petir', 'yang', 'terlihat', 'dari', 'luar', 'angkasa'], ['efektivitas', 'vaksin', 'pfizer', 'hanya', 'sebesar', '12'], ['foto', 'gerhana', 'matahari', 'dari', 'luar', 'angkasa'], ['foto', 'arnold', 'schwarzenegger', 'mengenakan', 'kaus', 'bergambar', 'peta', 'krimea'], ['foto', 'pemandangan', 'alam', 'palestina'], ['vaksin', 'cacar', 'menyebabkan', 'gelombang', 'infeksi', 'virus', 'aids'], ['akhirnya', 'partai', 'pks', 'dibubarkan'], ['studi', 'cdc', 'mengonfirmasi', 'kekebalan', 'alami', 'lebih', 'kuat', 'daripada', 'vaksin', 'covid19'], ['akun', 'whatsapp', 'bank', 'bri', '082316350080'], ['sopir', 'ambulan', 'mendapat', 'wangsit', 'dari', 'jenazah', 'eril'], ['jenazah', 'eril', 'tidak', 'boleh', 'dibawa', 'pulang', 'ke', 'indonesia'], ['foto', 'kwitansi', 'hutang', 'soekarno', 'yang', 'diterbitkan', 'bank', 'negara', 'indonesia', 'tahun', '1941'], ['pesan', 'whatsapp', 'acara', 'launching', 'program', 'baru', 'mnc', 'peduli'], ['informasi', 'razia', 'kendaraan', 'di', 'cicurug'], ['akun', 'whatsapp', 'kadisminfosantik', 'kalteng', 'agus', 'siswadi', '081213008042'], ['surat', 'gubernur', 'papua', 'perihal', 'pangkodap', 'tpnpb', 'seluruh', 'tpmopm', 'menurunkan', 'senjata'], ['daftar', 'biaya', 'tilang', 'terbaru', 'di', 'indonesia'], ['video', 'gunung', 'anak', 'krakatau', 'bocor', 'pada', '17', 'juni', '2022'], ['anies', 'baswedan', 'menandatangani', 'kontrak', 'untuk', 'pimpin', 'jakarta', 'dengan', 'syariat', 'islam'], ['orang', 'cina', 'siap', 'perang', 'dengan', 'pribumi', 'dengan', 'senjata', 'replika'], ['china', 'meluncurkan', 'matahari', 'buatan'], ['anies', 'baswedan', 'di', 'cover', 'majalah', 'al', 'islam', 'wujudkan', 'jakarta', 'bersyariah'], ['foto', 'jokowi', 'memangku', 'wanita', 'berbikini', 'di', 'pantai'], ['luna', 'maya', 'hamil', 'anak', 'kembar'], ['video', 'polisi', 'hindutva', 'india', 'menyerang', 'secara', 'brutal', 'seorang', 'pria', 'muslim', 'tua'], ['bill', 'gates', 'menyiapkan', 'miliaran', 'vaksin', 'cacar', 'monyet'], ['whatsapp', 'mengatasnamakan', 'sekda', 'kota', 'bandung', 'ema', 'sumarna'], ['hadiah', 'rp', '2', 'juta', 'dari', 'pertamina'], ['anak', 'sekolah', 'di', 'rusia', 'nyanyikan', 'lagu', 'indonesia', 'raya', 'sambut', 'kedatangan', 'presiden'], ['adalah', 'sebutan', 'pki', 'pada', 'tahun', '1960an', 'pada', 'umat', 'islam', 'sebagai', 'musuhnya'], ['tiongkok', 'meluncurkan', 'matahari', 'buatan'], ['10', 'ribu', 'kuota', 'haji', '2022', 'indonesia', 'tak', 'diambil', 'karena', 'negara', 'bangkrut'], ['di', 'spbu', '1', 'juli', '2022', 'efek', 'bayar', 'pakai', 'hp'], ['legalkan', 'zina', 'dan', 'lgbt'], ['grab', 'dibegal', 'di', 'kanggraksan', 'kota', 'cirebon'], ['pekerjaan', 'mengatasnamakan', 'pt', 'cirebon', 'energi', 'prasarana'], ['menteri', 'agama', 'rangkul', 'ragil', 'mahardika'], ['masyarakat', 'italia', 'buang', 'uang', 'ke', 'jalan'], ['tutupoly', 'meninggal', 'dunia'], ['peringatan', 'cina', 'akan', 'ambil', 'alih', 'kalimantan', 'jika', 'indonesia', 'tak', 'segera', 'membayar'], ['whatsapp', 'mengatasnamakan', 'bca', 'menawarkan', 'layanan', 'upgrade', 'bca', 'prioritas'], ['covid19', 'pfizer', 'berbahaya', 'bagi', 'wanita', 'hamil', 'dan', 'menyusui'], ['lasso', 'meninggal', 'dunia'], ['foo', 'fighter', 'meninggal', 'dunia', 'disebabkan', 'vaksin', 'covid', '19'], ['tawuran', 'geng', 'motor', 'di', 'mertapada', 'kab', 'cirebon'], ['facebook', 'mengatasnamakan', 'bupati', 'cirebon'], ['krim', 'mcdonalds', 'mengandung', 'xylitol'], ['wanita', 'terancam', '25', 'tahun', 'penjara', 'karena', 'bunuh', 'pelaku', 'pemerkosaan'], ['dari', 'kemenkes', 'terkait', 'antisipasi', 'penyakit', 'hepatitis'], ['geledah', 'anies', 'karena', 'gelapkan', 'uang', 'formula', 'e'], ['perahu', 'tergulung', 'ombak', 'di', 'pangandaran'], ['akut', 'efek', 'samping', 'vaksin', 'covid19'], ['ied', 'di', 'masjid', 'istiqal', '300', 'ribu', 'orang', 'meluber', 'sampai', 'halaman', 'gereja', 'katedral'], ['sholat', 'jenazah', 'wapres', 'maaruf', 'amin', 'pakai', 'ruku', 'dan', 'sujud'], ['keras', 'tabung', 'gas', 'tidak', 'boleh', 'digoyanggoyang', 'bisa', 'menimbulkan', 'ledakan'], ['pare', 'yang', 'panas', 'dapat', 'membunuh', 'sel', 'kanker'], ['bigfoot', 'di', 'purwokerto'], ['detik', 'detik', 'runtuhnya', 'alfamart', 'di', 'gambut', 'kabupaten', 'banjar', 'kalsel'], ['masjid', 'tewas', 'dikeroyok', 'massa', 'yang', 'tak', 'suka', 'dibangunkan', 'sahur', 'pakai', 'pengeras'], ['amin', 'sebut', 'jokowi', 'punya', 'mukjizat', 'bisa', 'bicara', 'dengan', 'binatang', 'seperti', 'nabi'], ['md', 'sebut', 'jokowi', 'bapak', 'pahlawan', 'bangsa', 'melebihi', 'jenderal', 'sudirman'], ['akan', 'serang', 'israel', 'dalam', 'waktu', 'dekat', 'ini', 'jika', 'tak', 'hentikan', 'serangan', 'ke', 'palestina'], ['bank', 'bri', 'yang', 'ke', '130', 'dapatkan', 'hadiah', 'rp', '2000000'], ['garuda', 'indonesia', 'ke', '73', 'bagibagi', 'hadiah', 'rp', '2000000'], ['dikabarkan', 'akui', 'tes', 'pcr', 'bermasalah'], ['sebut', 'warga', 'jawa', 'barat', 'pasti', 'mendukung', 'jokowi', 'tiga', 'periode'], ['situasi', 'unjuk', 'rasa', 'mahasiswa', 'ricuh', 'di', 'dpr'], ['mahasiswa', 'khilaf', 'buka', 'puasa', 'usai', 'azan', 'zuhur', 'garagara', 'demo'], ['cnn', 'indonesia', 'ungkap', 'pengeroyokan', 'ade', 'armando', 'adalah', 'rekayasa', 'kepolisian', 'untuk'], ['aparat', 'amankan', '50', 'ton', 'minyak', 'goreng', 'di', 'kediaman', 'ibas'], ['mahasiswa', 'berhasil', 'masuk', 'gedung', 'dpr', 'pada', '11', 'april', '2022'], ['polisi', 'meninggal', 'karena', 'bentrok', 'dengan', 'pendemo', 'di', 'kendari'], ['kerja', 'pt', 'angkasa', 'pura', 'i', 'dengan', 'batas', 'lamaran', '25', 'april', '2022'], ['akun', 'facebook', 'seorang', 'ibu', 'provokator', 'pengeroyokan', 'ade', 'armando'], ['seorang', 'ibu', 'provokator', 'pengeroyokan', 'ade', 'armando', 'menangis', 'usai', 'ditangkap'], ['buah', 'zuriat', 'diklaim', 'meningkatkan', 'peluang', 'kehamilan']]\n"
          ]
        }
      ],
      "source": [
        "print(results_token)"
      ]
    },
    {
      "cell_type": "code",
      "execution_count": null,
      "metadata": {
        "id": "j4uOAUgWWLyV"
      },
      "outputs": [],
      "source": [
        "results_sw = []\n",
        "for sentence in results_token:\n",
        "    tokens_without_sw = [word for word in sentence if not word in stopword_list]\n",
        "    results_sw.append(tokens_without_sw)"
      ]
    },
    {
      "cell_type": "code",
      "execution_count": null,
      "metadata": {
        "colab": {
          "base_uri": "https://localhost:8080/"
        },
        "id": "vibsE7DdWLyW",
        "outputId": "1c824b36-e564-478c-bb1f-0681b19a518c"
      },
      "outputs": [
        {
          "output_type": "stream",
          "name": "stdout",
          "text": [
            "[['video', 'tentara', 'cina', 'sdh', 'beraksi', 'kang', 'sdh', 'berani', 'melawan', 'tentara'], ['video', 'destinasi', 'kebanggan', 'masyarakat', 'jateng', 'stadium', 'danau'], ['tangkapan', 'layar', 'artikel', 'cnn', 'indonesia', 'presiden', 'zelensky', 'rakyat', 'ukraina', 'bantah', 'marah', 'fitnah', 'rendahkan', 'jokowi'], ['foto', 'artikel', 'pesantren', 'alquran', 'terba4kar', '26', 'santri', 'guru', 't3w4s', 'terp4ngg4ng'], ['penemuan', 'burung', 'ababil', 'palestina'], ['gambar', 'tangkapan', 'layar', 'artikel', 'viva', 'jateng', 'provinsi', 'termiskin', 'pulau', 'jawa'], ['tenggelamnya', 'kapal', 'laut', 'wilayah', 'ntt', 'menewaskan', '139', 'orang', 'penumpang'], ['video', 'sosok', 'makhluk', 'aneh', 'hutan'], ['video', 'kebakaran', 'spbu', 'akibat', 'bayar', 'pakai', 'hp', '1', 'juli', '2022'], ['artikel', 'berita', 'puan', 'negara', 'maju', 'berkembang', 'pendidikan', 'agama', 'islam', 'hapus'], ['jokowi', 'didemo', 'jerman'], ['keren', 'bendera', 'nkri', 'terbentang', 'luas', 'konser', 'group', 'scorpion', 'dipolandia', 'berkat', 'presiden', 'jokowi'], ['megawati', 'resmi', 'ganjar', 'pranowo', 'calon', 'presiden', 'pemilu', '2024'], ['makan', 'buah', 'perut', 'kosong', 'sembuhkan', 'kanker'], ['ketua', 'asosiasi', 'perangkat', 'desa', 'indonesia', 'apdesi', 'kabupaten', 'bireuen', 'aceh', 'bantuan', 'uang', 'pulsa'], ['informasi', 'lowongan', 'pekerjaan', 'pt', 'pelabuhan', 'indonesia', 'iii'], ['pemilik', 'bahan', 'peledak', 'senjata', 'api', 'bandung', 'ditemukan'], ['beli', 'bbm', 'pakai', 'aplikasi', 'mypertamina'], ['mk', 'legalkan', 'zina', 'lgbt'], ['surat', 'undangan', 'pengadaan', 'bahan', 'baku', 'pt', 'sido', 'muncul'], ['foto', 'karya', 'fenomenal', 'ahok', 'beli', 'tanah', 'beli', 'bus', 'rongsokan'], ['festival', 'musik', 'glastonbury', 'dipenuhi', 'sampah', 'pidato', 'greta', 'thunberg'], ['kadrun', 'sebutan', 'pki', '1960an', 'umat', 'islam', 'musuhnya'], ['video', 'domba', 'mati', 'idaho', 'amerika', 'serikat'], ['foto', 'badai', 'petir', 'angkasa'], ['efektivitas', 'vaksin', 'pfizer', '12'], ['foto', 'gerhana', 'matahari', 'angkasa'], ['foto', 'arnold', 'schwarzenegger', 'mengenakan', 'kaus', 'bergambar', 'peta', 'krimea'], ['foto', 'pemandangan', 'alam', 'palestina'], ['vaksin', 'cacar', 'menyebabkan', 'gelombang', 'infeksi', 'virus', 'aids'], ['partai', 'pks', 'dibubarkan'], ['studi', 'cdc', 'mengonfirmasi', 'kekebalan', 'alami', 'kuat', 'vaksin', 'covid19'], ['akun', 'whatsapp', 'bank', 'bri', '082316350080'], ['sopir', 'ambulan', 'wangsit', 'jenazah', 'eril'], ['jenazah', 'eril', 'dibawa', 'pulang', 'indonesia'], ['foto', 'kwitansi', 'hutang', 'soekarno', 'diterbitkan', 'bank', 'negara', 'indonesia', '1941'], ['pesan', 'whatsapp', 'acara', 'launching', 'program', 'mnc', 'peduli'], ['informasi', 'razia', 'kendaraan', 'cicurug'], ['akun', 'whatsapp', 'kadisminfosantik', 'kalteng', 'agus', 'siswadi', '081213008042'], ['surat', 'gubernur', 'papua', 'perihal', 'pangkodap', 'tpnpb', 'tpmopm', 'menurunkan', 'senjata'], ['daftar', 'biaya', 'tilang', 'terbaru', 'indonesia'], ['video', 'gunung', 'anak', 'krakatau', 'bocor', '17', 'juni', '2022'], ['anies', 'baswedan', 'menandatangani', 'kontrak', 'pimpin', 'jakarta', 'syariat', 'islam'], ['orang', 'cina', 'perang', 'pribumi', 'senjata', 'replika'], ['china', 'meluncurkan', 'matahari', 'buatan'], ['anies', 'baswedan', 'cover', 'majalah', 'al', 'islam', 'wujudkan', 'jakarta', 'bersyariah'], ['foto', 'jokowi', 'memangku', 'wanita', 'berbikini', 'pantai'], ['luna', 'maya', 'hamil', 'anak', 'kembar'], ['video', 'polisi', 'hindutva', 'india', 'menyerang', 'brutal', 'pria', 'muslim', 'tua'], ['bill', 'gates', 'miliaran', 'vaksin', 'cacar', 'monyet'], ['whatsapp', 'mengatasnamakan', 'sekda', 'kota', 'bandung', 'ema', 'sumarna'], ['hadiah', 'rp', '2', 'juta', 'pertamina'], ['anak', 'sekolah', 'rusia', 'nyanyikan', 'lagu', 'indonesia', 'raya', 'sambut', 'kedatangan', 'presiden'], ['sebutan', 'pki', '1960an', 'umat', 'islam', 'musuhnya'], ['tiongkok', 'meluncurkan', 'matahari', 'buatan'], ['10', 'ribu', 'kuota', 'haji', '2022', 'indonesia', 'diambil', 'negara', 'bangkrut'], ['spbu', '1', 'juli', '2022', 'efek', 'bayar', 'pakai', 'hp'], ['legalkan', 'zina', 'lgbt'], ['grab', 'dibegal', 'kanggraksan', 'kota', 'cirebon'], ['pekerjaan', 'mengatasnamakan', 'pt', 'cirebon', 'energi', 'prasarana'], ['menteri', 'agama', 'rangkul', 'ragil', 'mahardika'], ['masyarakat', 'italia', 'buang', 'uang', 'jalan'], ['tutupoly', 'meninggal', 'dunia'], ['peringatan', 'cina', 'ambil', 'alih', 'kalimantan', 'indonesia', 'membayar'], ['whatsapp', 'mengatasnamakan', 'bca', 'menawarkan', 'layanan', 'upgrade', 'bca', 'prioritas'], ['covid19', 'pfizer', 'berbahaya', 'wanita', 'hamil', 'menyusui'], ['lasso', 'meninggal', 'dunia'], ['foo', 'fighter', 'meninggal', 'dunia', 'disebabkan', 'vaksin', 'covid', '19'], ['tawuran', 'geng', 'motor', 'mertapada', 'kab', 'cirebon'], ['facebook', 'mengatasnamakan', 'bupati', 'cirebon'], ['krim', 'mcdonalds', 'mengandung', 'xylitol'], ['wanita', 'terancam', '25', 'penjara', 'bunuh', 'pelaku', 'pemerkosaan'], ['kemenkes', 'terkait', 'antisipasi', 'penyakit', 'hepatitis'], ['geledah', 'anies', 'gelapkan', 'uang', 'formula', 'e'], ['perahu', 'tergulung', 'ombak', 'pangandaran'], ['akut', 'efek', 'samping', 'vaksin', 'covid19'], ['ied', 'masjid', 'istiqal', '300', 'ribu', 'orang', 'meluber', 'halaman', 'gereja', 'katedral'], ['sholat', 'jenazah', 'wapres', 'maaruf', 'amin', 'pakai', 'ruku', 'sujud'], ['keras', 'tabung', 'gas', 'digoyanggoyang', 'menimbulkan', 'ledakan'], ['pare', 'panas', 'membunuh', 'sel', 'kanker'], ['bigfoot', 'purwokerto'], ['detik', 'detik', 'runtuhnya', 'alfamart', 'gambut', 'kabupaten', 'banjar', 'kalsel'], ['masjid', 'tewas', 'dikeroyok', 'massa', 'suka', 'dibangunkan', 'sahur', 'pakai', 'pengeras'], ['amin', 'jokowi', 'mukjizat', 'bicara', 'binatang', 'nabi'], ['md', 'jokowi', 'pahlawan', 'bangsa', 'melebihi', 'jenderal', 'sudirman'], ['serang', 'israel', 'hentikan', 'serangan', 'palestina'], ['bank', 'bri', '130', 'dapatkan', 'hadiah', 'rp', '2000000'], ['garuda', 'indonesia', '73', 'bagibagi', 'hadiah', 'rp', '2000000'], ['dikabarkan', 'akui', 'tes', 'pcr', 'bermasalah'], ['warga', 'jawa', 'barat', 'mendukung', 'jokowi', 'periode'], ['situasi', 'unjuk', 'mahasiswa', 'ricuh', 'dpr'], ['mahasiswa', 'khilaf', 'buka', 'puasa', 'azan', 'zuhur', 'garagara', 'demo'], ['cnn', 'indonesia', 'pengeroyokan', 'ade', 'armando', 'rekayasa', 'kepolisian'], ['aparat', 'amankan', '50', 'ton', 'minyak', 'goreng', 'kediaman', 'ibas'], ['mahasiswa', 'berhasil', 'masuk', 'gedung', 'dpr', '11', 'april', '2022'], ['polisi', 'meninggal', 'bentrok', 'pendemo', 'kendari'], ['kerja', 'pt', 'angkasa', 'pura', 'i', 'batas', 'lamaran', '25', 'april', '2022'], ['akun', 'facebook', 'provokator', 'pengeroyokan', 'ade', 'armando'], ['provokator', 'pengeroyokan', 'ade', 'armando', 'menangis', 'ditangkap'], ['buah', 'zuriat', 'diklaim', 'meningkatkan', 'peluang', 'kehamilan']]\n"
          ]
        }
      ],
      "source": [
        "print(results_sw)"
      ]
    },
    {
      "cell_type": "code",
      "execution_count": null,
      "metadata": {
        "id": "_SF7xGsPWLyX"
      },
      "outputs": [],
      "source": [
        "#Stemming with sastrawi\n",
        "# import StemmerFactory class\n",
        "from Sastrawi.Stemmer.StemmerFactory import StemmerFactory\n",
        "\n",
        "# create stemmer\n",
        "factory = StemmerFactory()\n",
        "stemmer = factory.create_stemmer()"
      ]
    },
    {
      "cell_type": "code",
      "source": [
        "results_steam = []\n",
        "for sentence in data_article:\n",
        "    #output   = stemmer.stem(sentence)\n",
        "    results_steam.append(stemmer.stem(sentence))"
      ],
      "metadata": {
        "id": "FNY2fMc8dCqo"
      },
      "execution_count": null,
      "outputs": []
    },
    {
      "cell_type": "code",
      "source": [
        "print(results_steam)"
      ],
      "metadata": {
        "colab": {
          "base_uri": "https://localhost:8080/"
        },
        "id": "MNEy096RdPyp",
        "outputId": "e9dca35a-c758-473a-975e-ec0968f644f9"
      },
      "execution_count": null,
      "outputs": [
        {
          "output_type": "stream",
          "name": "stdout",
          "text": [
            "['video tentara cina sdh mulai aksi kang sdh berani lawan tentara kita', 'video destinasi baru banggan masyarakat jateng stadium di atas danau', 'tangkap layar artikel cnn indonesia presiden zelensky dan rakyat ukraina bantah dan marah sudah di fitnah dan di rendah jokowi', 'foto artikel pesantren alquran terba4kar 26 santri dan dua guru t3w4s terp4ngg4ng', 'temu burung ababil di palestina', 'gambar tangkap layar artikel viva jateng sebut provinsi miskin di pulau jawa', 'tenggelam kapal laut di wilayah ntt dengan tewas 139 orang tumpang', 'video sosok makhluk aneh di hutan', 'video bakar spbu akibat bayar pakai hp pada 1 juli 2022', 'artikel berita puan jika negara ingin maju dan kembang didik agama islam harus di hapus', 'jokowi demo di jerman', 'keren bendera nkri kita bentang luas di konser group scorpion dipolandia berkat presiden kita jokowi', 'megawati resmi tunjuk ganjar pranowo bagai calon presiden untuk milu 2024', 'makan buah saat perut kosong dapat sembuh kanker', 'ketua asosiasi perangkat desa seluruh indonesia apdesi kabupaten bireuen aceh minta bantu uang dan pulsa', 'informasi lowong kerja pt labuh indonesia iii', 'milik bahan ledak dan senjata api di bandung telah temu', 'beli bbm harus pakai aplikasi mypertamina', 'mk legal zina dan lgbt', 'surat undang ada bahan baku di pt sido muncul', 'foto karya fenomenal ahok beli tanah sendiri beli bus rongsok', 'festival musik glastonbury penuh sampah telah pidato greta thunberg', 'kadrun adalah sebut pki tahun 1960an pada umat islam bagai musuh', 'video banyak domba mati di idaho amerika serikat', 'foto badai petir yang lihat dari luar angkasa', 'efektivitas vaksin pfizer hanya besar 12', 'foto gerhana matahari dari luar angkasa', 'foto arnold schwarzenegger kena kaus gambar peta krimea', 'foto pandang alam palestina', 'vaksin cacar sebab gelombang infeksi virus aids', 'akhir partai pks bubar', 'studi cdc konfirmasi kebal alami lebih kuat daripada vaksin covid19', 'akun whatsapp bank bri 082316350080', 'sopir ambul dapat wangsit dari jenazah eril', 'jenazah eril tidak boleh bawa pulang ke indonesia', 'foto kwitansi hutang soekarno yang terbit bank negara indonesia tahun 1941', 'pesan whatsapp acara launching program baru mnc peduli', 'informasi razia kendara di cicurug', 'akun whatsapp kadisminfosantik kalteng agus siswadi 081213008042', 'surat gubernur papua perihal pangkodap tpnpb seluruh tpmopm turun senjata', 'daftar biaya tilang baru di indonesia', 'video gunung anak krakatau bocor pada 17 juni 2022', 'anies baswedan menandatangani kontrak untuk pimpin jakarta dengan syariat islam', 'orang cina siap perang dengan pribumi dengan senjata replika', 'china luncur matahari buat', 'anies baswedan di cover majalah al islam wujud jakarta bersyariah', 'foto jokowi memang wanita bikin di pantai', 'luna maya hamil anak kembar', 'video polisi hindutva india serang cara brutal orang pria muslim tua', 'bill gates siap miliar vaksin cacar monyet', 'whatsapp mengatasnamakan sekda kota bandung ema sumarna', 'hadiah rp 2 juta dari pertamina', 'anak sekolah di rusia nyanyi lagu indonesia raya sambut datang presiden', 'adalah sebut pki pada tahun 1960an pada umat islam bagai musuh', 'tiongkok luncur matahari buat', '10 ribu kuota haji 2022 indonesia tak ambil karena negara bangkrut', 'di spbu 1 juli 2022 efek bayar pakai hp', 'legal zina dan lgbt', 'grab begal di kanggraksan kota cirebon', 'kerja mengatasnamakan pt cirebon energi prasarana', 'menteri agama rangkul ragil mahardika', 'masyarakat italia buang uang ke jalan', 'tutupoly tinggal dunia', 'ingat cina akan ambil alih kalimantan jika indonesia tak segera bayar', 'whatsapp mengatasnamakan bca tawar layan upgrade bca prioritas', 'covid19 pfizer bahaya bagi wanita hamil dan susu', 'lasso tinggal dunia', 'foo fighter tinggal dunia sebab vaksin covid 19', 'tawur geng motor di mertapada kab cirebon', 'facebook mengatasnamakan bupati cirebon', 'krim mcdonalds kandung xylitol', 'wanita ancam 25 tahun penjara karena bunuh laku perkosa', 'dari kemenkes kait antisipasi sakit hepatitis', 'geledah anies karena gelap uang formula e', 'perahu gulung ombak di pangandaran', 'akut efek samping vaksin covid19', 'ied di masjid istiqal 300 ribu orang luber sampai halaman gereja katedral', 'sholat jenazah wapres maaruf amin pakai ruku dan sujud', 'keras tabung gas tidak boleh digoyanggoyang bisa timbul ledak', 'pare yang panas dapat bunuh sel kanker', 'bigfoot di purwokerto', 'detik detik runtuh alfamart di gambut kabupaten banjar kalsel', 'masjid tewas keroyok massa yang tak suka bangun sahur pakai keras', 'amin sebut jokowi punya mukjizat bisa bicara dengan binatang seperti nabi', 'md sebut jokowi bapak pahlawan bangsa lebih jenderal sudirman', 'akan serang israel dalam waktu dekat ini jika tak henti serang ke palestina', 'bank bri yang ke 130 dapat hadiah rp 2000000', 'garuda indonesia ke 73 bagibagi hadiah rp 2000000', 'kabar aku tes pcr masalah', 'sebut warga jawa barat pasti dukung jokowi tiga periode', 'situasi unjuk rasa mahasiswa ricuh di dpr', 'mahasiswa khilaf buka puasa usai azan zuhur garagara demo', 'cnn indonesia ungkap keroyok ade armando adalah rekayasa polisi untuk', 'aparat aman 50 ton minyak goreng di diam ibas', 'mahasiswa hasil masuk gedung dpr pada 11 april 2022', 'polisi tinggal karena bentrok dengan demo di kendari', 'kerja pt angkasa pura i dengan batas lamar 25 april 2022', 'akun facebook orang ibu provokator keroyok ade armando', 'orang ibu provokator keroyok ade armando menang usai tangkap', 'buah zuriat klaim tingkat peluang hamil']\n"
          ]
        }
      ]
    },
    {
      "cell_type": "markdown",
      "source": [
        "Documemt Simmilarity"
      ],
      "metadata": {
        "id": "ei-AGCKCgKOr"
      }
    },
    {
      "cell_type": "code",
      "source": [
        "#Import Library \n",
        "import gensim\n",
        "from gensim.models.doc2vec import Doc2Vec, TaggedDocument\n",
        "from nltk.tokenize import word_tokenize\n",
        "from gensim.models.doc2vec import Doc2Vec"
      ],
      "metadata": {
        "id": "1N_awN8CgCAC"
      },
      "execution_count": null,
      "outputs": []
    },
    {
      "cell_type": "code",
      "source": [
        "tagged_data = [TaggedDocument(words=word_tokenize(_d.lower()), tags=[str(i)]) for i, _d in enumerate(results_steam)]"
      ],
      "metadata": {
        "id": "V7ceAxSeh9rn"
      },
      "execution_count": null,
      "outputs": []
    },
    {
      "cell_type": "code",
      "source": [
        "print (tagged_data)"
      ],
      "metadata": {
        "colab": {
          "base_uri": "https://localhost:8080/"
        },
        "id": "yMWHmhIhiH_3",
        "outputId": "502a65b1-8697-4d9a-a0bf-669125899f34"
      },
      "execution_count": null,
      "outputs": [
        {
          "output_type": "stream",
          "name": "stdout",
          "text": [
            "[TaggedDocument(words=['video', 'tentara', 'cina', 'sdh', 'mulai', 'aksi', 'kang', 'sdh', 'berani', 'lawan', 'tentara', 'kita'], tags=['0']), TaggedDocument(words=['video', 'destinasi', 'baru', 'banggan', 'masyarakat', 'jateng', 'stadium', 'di', 'atas', 'danau'], tags=['1']), TaggedDocument(words=['tangkap', 'layar', 'artikel', 'cnn', 'indonesia', 'presiden', 'zelensky', 'dan', 'rakyat', 'ukraina', 'bantah', 'dan', 'marah', 'sudah', 'di', 'fitnah', 'dan', 'di', 'rendah', 'jokowi'], tags=['2']), TaggedDocument(words=['foto', 'artikel', 'pesantren', 'alquran', 'terba4kar', '26', 'santri', 'dan', 'dua', 'guru', 't3w4s', 'terp4ngg4ng'], tags=['3']), TaggedDocument(words=['temu', 'burung', 'ababil', 'di', 'palestina'], tags=['4']), TaggedDocument(words=['gambar', 'tangkap', 'layar', 'artikel', 'viva', 'jateng', 'sebut', 'provinsi', 'miskin', 'di', 'pulau', 'jawa'], tags=['5']), TaggedDocument(words=['tenggelam', 'kapal', 'laut', 'di', 'wilayah', 'ntt', 'dengan', 'tewas', '139', 'orang', 'tumpang'], tags=['6']), TaggedDocument(words=['video', 'sosok', 'makhluk', 'aneh', 'di', 'hutan'], tags=['7']), TaggedDocument(words=['video', 'bakar', 'spbu', 'akibat', 'bayar', 'pakai', 'hp', 'pada', '1', 'juli', '2022'], tags=['8']), TaggedDocument(words=['artikel', 'berita', 'puan', 'jika', 'negara', 'ingin', 'maju', 'dan', 'kembang', 'didik', 'agama', 'islam', 'harus', 'di', 'hapus'], tags=['9']), TaggedDocument(words=['jokowi', 'demo', 'di', 'jerman'], tags=['10']), TaggedDocument(words=['keren', 'bendera', 'nkri', 'kita', 'bentang', 'luas', 'di', 'konser', 'group', 'scorpion', 'dipolandia', 'berkat', 'presiden', 'kita', 'jokowi'], tags=['11']), TaggedDocument(words=['megawati', 'resmi', 'tunjuk', 'ganjar', 'pranowo', 'bagai', 'calon', 'presiden', 'untuk', 'milu', '2024'], tags=['12']), TaggedDocument(words=['makan', 'buah', 'saat', 'perut', 'kosong', 'dapat', 'sembuh', 'kanker'], tags=['13']), TaggedDocument(words=['ketua', 'asosiasi', 'perangkat', 'desa', 'seluruh', 'indonesia', 'apdesi', 'kabupaten', 'bireuen', 'aceh', 'minta', 'bantu', 'uang', 'dan', 'pulsa'], tags=['14']), TaggedDocument(words=['informasi', 'lowong', 'kerja', 'pt', 'labuh', 'indonesia', 'iii'], tags=['15']), TaggedDocument(words=['milik', 'bahan', 'ledak', 'dan', 'senjata', 'api', 'di', 'bandung', 'telah', 'temu'], tags=['16']), TaggedDocument(words=['beli', 'bbm', 'harus', 'pakai', 'aplikasi', 'mypertamina'], tags=['17']), TaggedDocument(words=['mk', 'legal', 'zina', 'dan', 'lgbt'], tags=['18']), TaggedDocument(words=['surat', 'undang', 'ada', 'bahan', 'baku', 'di', 'pt', 'sido', 'muncul'], tags=['19']), TaggedDocument(words=['foto', 'karya', 'fenomenal', 'ahok', 'beli', 'tanah', 'sendiri', 'beli', 'bus', 'rongsok'], tags=['20']), TaggedDocument(words=['festival', 'musik', 'glastonbury', 'penuh', 'sampah', 'telah', 'pidato', 'greta', 'thunberg'], tags=['21']), TaggedDocument(words=['kadrun', 'adalah', 'sebut', 'pki', 'tahun', '1960an', 'pada', 'umat', 'islam', 'bagai', 'musuh'], tags=['22']), TaggedDocument(words=['video', 'banyak', 'domba', 'mati', 'di', 'idaho', 'amerika', 'serikat'], tags=['23']), TaggedDocument(words=['foto', 'badai', 'petir', 'yang', 'lihat', 'dari', 'luar', 'angkasa'], tags=['24']), TaggedDocument(words=['efektivitas', 'vaksin', 'pfizer', 'hanya', 'besar', '12'], tags=['25']), TaggedDocument(words=['foto', 'gerhana', 'matahari', 'dari', 'luar', 'angkasa'], tags=['26']), TaggedDocument(words=['foto', 'arnold', 'schwarzenegger', 'kena', 'kaus', 'gambar', 'peta', 'krimea'], tags=['27']), TaggedDocument(words=['foto', 'pandang', 'alam', 'palestina'], tags=['28']), TaggedDocument(words=['vaksin', 'cacar', 'sebab', 'gelombang', 'infeksi', 'virus', 'aids'], tags=['29']), TaggedDocument(words=['akhir', 'partai', 'pks', 'bubar'], tags=['30']), TaggedDocument(words=['studi', 'cdc', 'konfirmasi', 'kebal', 'alami', 'lebih', 'kuat', 'daripada', 'vaksin', 'covid19'], tags=['31']), TaggedDocument(words=['akun', 'whatsapp', 'bank', 'bri', '082316350080'], tags=['32']), TaggedDocument(words=['sopir', 'ambul', 'dapat', 'wangsit', 'dari', 'jenazah', 'eril'], tags=['33']), TaggedDocument(words=['jenazah', 'eril', 'tidak', 'boleh', 'bawa', 'pulang', 'ke', 'indonesia'], tags=['34']), TaggedDocument(words=['foto', 'kwitansi', 'hutang', 'soekarno', 'yang', 'terbit', 'bank', 'negara', 'indonesia', 'tahun', '1941'], tags=['35']), TaggedDocument(words=['pesan', 'whatsapp', 'acara', 'launching', 'program', 'baru', 'mnc', 'peduli'], tags=['36']), TaggedDocument(words=['informasi', 'razia', 'kendara', 'di', 'cicurug'], tags=['37']), TaggedDocument(words=['akun', 'whatsapp', 'kadisminfosantik', 'kalteng', 'agus', 'siswadi', '081213008042'], tags=['38']), TaggedDocument(words=['surat', 'gubernur', 'papua', 'perihal', 'pangkodap', 'tpnpb', 'seluruh', 'tpmopm', 'turun', 'senjata'], tags=['39']), TaggedDocument(words=['daftar', 'biaya', 'tilang', 'baru', 'di', 'indonesia'], tags=['40']), TaggedDocument(words=['video', 'gunung', 'anak', 'krakatau', 'bocor', 'pada', '17', 'juni', '2022'], tags=['41']), TaggedDocument(words=['anies', 'baswedan', 'menandatangani', 'kontrak', 'untuk', 'pimpin', 'jakarta', 'dengan', 'syariat', 'islam'], tags=['42']), TaggedDocument(words=['orang', 'cina', 'siap', 'perang', 'dengan', 'pribumi', 'dengan', 'senjata', 'replika'], tags=['43']), TaggedDocument(words=['china', 'luncur', 'matahari', 'buat'], tags=['44']), TaggedDocument(words=['anies', 'baswedan', 'di', 'cover', 'majalah', 'al', 'islam', 'wujud', 'jakarta', 'bersyariah'], tags=['45']), TaggedDocument(words=['foto', 'jokowi', 'memang', 'wanita', 'bikin', 'di', 'pantai'], tags=['46']), TaggedDocument(words=['luna', 'maya', 'hamil', 'anak', 'kembar'], tags=['47']), TaggedDocument(words=['video', 'polisi', 'hindutva', 'india', 'serang', 'cara', 'brutal', 'orang', 'pria', 'muslim', 'tua'], tags=['48']), TaggedDocument(words=['bill', 'gates', 'siap', 'miliar', 'vaksin', 'cacar', 'monyet'], tags=['49']), TaggedDocument(words=['whatsapp', 'mengatasnamakan', 'sekda', 'kota', 'bandung', 'ema', 'sumarna'], tags=['50']), TaggedDocument(words=['hadiah', 'rp', '2', 'juta', 'dari', 'pertamina'], tags=['51']), TaggedDocument(words=['anak', 'sekolah', 'di', 'rusia', 'nyanyi', 'lagu', 'indonesia', 'raya', 'sambut', 'datang', 'presiden'], tags=['52']), TaggedDocument(words=['adalah', 'sebut', 'pki', 'pada', 'tahun', '1960an', 'pada', 'umat', 'islam', 'bagai', 'musuh'], tags=['53']), TaggedDocument(words=['tiongkok', 'luncur', 'matahari', 'buat'], tags=['54']), TaggedDocument(words=['10', 'ribu', 'kuota', 'haji', '2022', 'indonesia', 'tak', 'ambil', 'karena', 'negara', 'bangkrut'], tags=['55']), TaggedDocument(words=['di', 'spbu', '1', 'juli', '2022', 'efek', 'bayar', 'pakai', 'hp'], tags=['56']), TaggedDocument(words=['legal', 'zina', 'dan', 'lgbt'], tags=['57']), TaggedDocument(words=['grab', 'begal', 'di', 'kanggraksan', 'kota', 'cirebon'], tags=['58']), TaggedDocument(words=['kerja', 'mengatasnamakan', 'pt', 'cirebon', 'energi', 'prasarana'], tags=['59']), TaggedDocument(words=['menteri', 'agama', 'rangkul', 'ragil', 'mahardika'], tags=['60']), TaggedDocument(words=['masyarakat', 'italia', 'buang', 'uang', 'ke', 'jalan'], tags=['61']), TaggedDocument(words=['tutupoly', 'tinggal', 'dunia'], tags=['62']), TaggedDocument(words=['ingat', 'cina', 'akan', 'ambil', 'alih', 'kalimantan', 'jika', 'indonesia', 'tak', 'segera', 'bayar'], tags=['63']), TaggedDocument(words=['whatsapp', 'mengatasnamakan', 'bca', 'tawar', 'layan', 'upgrade', 'bca', 'prioritas'], tags=['64']), TaggedDocument(words=['covid19', 'pfizer', 'bahaya', 'bagi', 'wanita', 'hamil', 'dan', 'susu'], tags=['65']), TaggedDocument(words=['lasso', 'tinggal', 'dunia'], tags=['66']), TaggedDocument(words=['foo', 'fighter', 'tinggal', 'dunia', 'sebab', 'vaksin', 'covid', '19'], tags=['67']), TaggedDocument(words=['tawur', 'geng', 'motor', 'di', 'mertapada', 'kab', 'cirebon'], tags=['68']), TaggedDocument(words=['facebook', 'mengatasnamakan', 'bupati', 'cirebon'], tags=['69']), TaggedDocument(words=['krim', 'mcdonalds', 'kandung', 'xylitol'], tags=['70']), TaggedDocument(words=['wanita', 'ancam', '25', 'tahun', 'penjara', 'karena', 'bunuh', 'laku', 'perkosa'], tags=['71']), TaggedDocument(words=['dari', 'kemenkes', 'kait', 'antisipasi', 'sakit', 'hepatitis'], tags=['72']), TaggedDocument(words=['geledah', 'anies', 'karena', 'gelap', 'uang', 'formula', 'e'], tags=['73']), TaggedDocument(words=['perahu', 'gulung', 'ombak', 'di', 'pangandaran'], tags=['74']), TaggedDocument(words=['akut', 'efek', 'samping', 'vaksin', 'covid19'], tags=['75']), TaggedDocument(words=['ied', 'di', 'masjid', 'istiqal', '300', 'ribu', 'orang', 'luber', 'sampai', 'halaman', 'gereja', 'katedral'], tags=['76']), TaggedDocument(words=['sholat', 'jenazah', 'wapres', 'maaruf', 'amin', 'pakai', 'ruku', 'dan', 'sujud'], tags=['77']), TaggedDocument(words=['keras', 'tabung', 'gas', 'tidak', 'boleh', 'digoyanggoyang', 'bisa', 'timbul', 'ledak'], tags=['78']), TaggedDocument(words=['pare', 'yang', 'panas', 'dapat', 'bunuh', 'sel', 'kanker'], tags=['79']), TaggedDocument(words=['bigfoot', 'di', 'purwokerto'], tags=['80']), TaggedDocument(words=['detik', 'detik', 'runtuh', 'alfamart', 'di', 'gambut', 'kabupaten', 'banjar', 'kalsel'], tags=['81']), TaggedDocument(words=['masjid', 'tewas', 'keroyok', 'massa', 'yang', 'tak', 'suka', 'bangun', 'sahur', 'pakai', 'keras'], tags=['82']), TaggedDocument(words=['amin', 'sebut', 'jokowi', 'punya', 'mukjizat', 'bisa', 'bicara', 'dengan', 'binatang', 'seperti', 'nabi'], tags=['83']), TaggedDocument(words=['md', 'sebut', 'jokowi', 'bapak', 'pahlawan', 'bangsa', 'lebih', 'jenderal', 'sudirman'], tags=['84']), TaggedDocument(words=['akan', 'serang', 'israel', 'dalam', 'waktu', 'dekat', 'ini', 'jika', 'tak', 'henti', 'serang', 'ke', 'palestina'], tags=['85']), TaggedDocument(words=['bank', 'bri', 'yang', 'ke', '130', 'dapat', 'hadiah', 'rp', '2000000'], tags=['86']), TaggedDocument(words=['garuda', 'indonesia', 'ke', '73', 'bagibagi', 'hadiah', 'rp', '2000000'], tags=['87']), TaggedDocument(words=['kabar', 'aku', 'tes', 'pcr', 'masalah'], tags=['88']), TaggedDocument(words=['sebut', 'warga', 'jawa', 'barat', 'pasti', 'dukung', 'jokowi', 'tiga', 'periode'], tags=['89']), TaggedDocument(words=['situasi', 'unjuk', 'rasa', 'mahasiswa', 'ricuh', 'di', 'dpr'], tags=['90']), TaggedDocument(words=['mahasiswa', 'khilaf', 'buka', 'puasa', 'usai', 'azan', 'zuhur', 'garagara', 'demo'], tags=['91']), TaggedDocument(words=['cnn', 'indonesia', 'ungkap', 'keroyok', 'ade', 'armando', 'adalah', 'rekayasa', 'polisi', 'untuk'], tags=['92']), TaggedDocument(words=['aparat', 'aman', '50', 'ton', 'minyak', 'goreng', 'di', 'diam', 'ibas'], tags=['93']), TaggedDocument(words=['mahasiswa', 'hasil', 'masuk', 'gedung', 'dpr', 'pada', '11', 'april', '2022'], tags=['94']), TaggedDocument(words=['polisi', 'tinggal', 'karena', 'bentrok', 'dengan', 'demo', 'di', 'kendari'], tags=['95']), TaggedDocument(words=['kerja', 'pt', 'angkasa', 'pura', 'i', 'dengan', 'batas', 'lamar', '25', 'april', '2022'], tags=['96']), TaggedDocument(words=['akun', 'facebook', 'orang', 'ibu', 'provokator', 'keroyok', 'ade', 'armando'], tags=['97']), TaggedDocument(words=['orang', 'ibu', 'provokator', 'keroyok', 'ade', 'armando', 'menang', 'usai', 'tangkap'], tags=['98']), TaggedDocument(words=['buah', 'zuriat', 'klaim', 'tingkat', 'peluang', 'hamil'], tags=['99'])]\n"
          ]
        }
      ]
    },
    {
      "cell_type": "code",
      "source": [
        "# Initializing doc2vec\n",
        "model = gensim.models.doc2vec.Doc2Vec(vector_size=30, min_count=2, epochs=80)"
      ],
      "metadata": {
        "id": "yqHxmDwfiYQG"
      },
      "execution_count": null,
      "outputs": []
    },
    {
      "cell_type": "code",
      "source": [
        "# Building the vocabulary of tagged data\n",
        "model.build_vocab(tagged_data)"
      ],
      "metadata": {
        "id": "sd4C3A_Cif_w"
      },
      "execution_count": null,
      "outputs": []
    },
    {
      "cell_type": "code",
      "source": [
        "# Training doc2vec\n",
        "model.train(tagged_data, total_examples=model.corpus_count, epochs=80)"
      ],
      "metadata": {
        "id": "NH_ofdSfiqri"
      },
      "execution_count": null,
      "outputs": []
    },
    {
      "cell_type": "code",
      "source": [
        "# Save Model\n",
        "model.save(\"d2v.model\")"
      ],
      "metadata": {
        "id": "04Z12WJhiu-d"
      },
      "execution_count": null,
      "outputs": []
    },
    {
      "cell_type": "code",
      "source": [
        "# Load Model\n",
        "model = Doc2Vec.load(\"d2v.model\")"
      ],
      "metadata": {
        "id": "v8r3AuDui5xM"
      },
      "execution_count": null,
      "outputs": []
    },
    {
      "cell_type": "code",
      "source": [
        "# Finding the most similar sentence using tags\n",
        "similar_doc = model.docvecs.most_similar('0')\n",
        "print(similar_doc[0])"
      ],
      "metadata": {
        "colab": {
          "base_uri": "https://localhost:8080/"
        },
        "id": "MuavvtrEjLEs",
        "outputId": "5c74cd45-5641-4826-9717-fad2bd73d117"
      },
      "execution_count": null,
      "outputs": [
        {
          "output_type": "stream",
          "name": "stdout",
          "text": [
            "('53', 0.9825794100761414)\n"
          ]
        }
      ]
    }
  ],
  "metadata": {
    "kernelspec": {
      "display_name": "Python 3.9.12 ('base')",
      "language": "python",
      "name": "python3"
    },
    "language_info": {
      "codemirror_mode": {
        "name": "ipython",
        "version": 3
      },
      "file_extension": ".py",
      "mimetype": "text/x-python",
      "name": "python",
      "nbconvert_exporter": "python",
      "pygments_lexer": "ipython3",
      "version": "3.9.12"
    },
    "orig_nbformat": 4,
    "vscode": {
      "interpreter": {
        "hash": "e4cce46d6be9934fbd27f9ca0432556941ea5bdf741d4f4d64c6cd7f8dfa8fba"
      }
    },
    "colab": {
      "name": "similarity_checker.ipynb",
      "provenance": [],
      "collapsed_sections": []
    }
  },
  "nbformat": 4,
  "nbformat_minor": 0
}