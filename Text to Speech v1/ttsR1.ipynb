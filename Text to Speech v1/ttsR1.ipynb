{
 "cells": [
  {
   "cell_type": "code",
   "execution_count": 11,
   "metadata": {},
   "outputs": [],
   "source": [
    "# Library\n",
    "import pandas as pd\n",
    "import simpleaudio as sa\n",
    "import wave\n",
    "import time\n",
    "\n"
   ]
  },
  {
   "cell_type": "code",
   "execution_count": 12,
   "metadata": {},
   "outputs": [],
   "source": [
    "#Open Database Spelling a word and save to dataframe\n",
    "with open('cmudict_new.txt') as f:\n",
    "    data = [line.split(' ', maxsplit=1) for line in f]\n",
    "df=pd.DataFrame.from_records(data, columns=['word', 'slice'])"
   ]
  },
  {
   "cell_type": "code",
   "execution_count": 13,
   "metadata": {},
   "outputs": [
    {
     "data": {
      "text/plain": [
       "0           4\n",
       "1       ACUAN\n",
       "2       KUPAS\n",
       "3       UPAYA\n",
       "4         AKU\n",
       "        ...  \n",
       "543     KOTOR\n",
       "544     KAPUR\n",
       "545     MANDI\n",
       "546     TARIK\n",
       "547    DORONG\n",
       "Name: word, Length: 548, dtype: object"
      ]
     },
     "execution_count": 13,
     "metadata": {},
     "output_type": "execute_result"
    }
   ],
   "source": [
    "df['word'].replace('\\s+', ' ', regex=True, inplace=True) # remove extra whitespace\n",
    "df['word'].replace('\\n',' ', regex=True) # remove \\n in text"
   ]
  },
  {
   "cell_type": "code",
   "execution_count": 14,
   "metadata": {},
   "outputs": [
    {
     "data": {
      "text/plain": [
       "0          E EM MP PA AT T \n",
       "1          A AC CU UA AN N \n",
       "2          K KU UP PA AS S \n",
       "3          U UP PA AY YA A \n",
       "4                A AK KU U \n",
       "               ...         \n",
       "543        K KO OT TO OR R \n",
       "544        K KA AP PU UR R \n",
       "545        M MA AN ND DI I \n",
       "546        T TA AR RI IK K \n",
       "547     D DO OR RO ON NG G \n",
       "Name: slice, Length: 548, dtype: object"
      ]
     },
     "execution_count": 14,
     "metadata": {},
     "output_type": "execute_result"
    }
   ],
   "source": [
    "df['slice'].replace('\\s+', ' ', regex=True, inplace=True) # remove extra whitespace\n",
    "df['slice'].replace('\\n',' ', regex=True) # remove \\n in text"
   ]
  },
  {
   "cell_type": "code",
   "execution_count": 15,
   "metadata": {},
   "outputs": [],
   "source": [
    "df=df.astype({'word':'string','slice':'string'}) #change data type for variable word dan slice from object to string"
   ]
  },
  {
   "cell_type": "code",
   "execution_count": 19,
   "metadata": {},
   "outputs": [
    {
     "name": "stdout",
     "output_type": "stream",
     "text": [
      "Ejaan kata tidak sukses!\n",
      "[' A AK KU U ', ' C CI IN NT TA A ', ' K KA AM MU U ']\n"
     ]
    }
   ],
   "source": [
    "# Fucntion Spelling The Sentences\n",
    "def word_spell(str):\n",
    "    spell_list = []\n",
    "    words = str.split()\n",
    "\n",
    "    for word in words:\n",
    "        spell=df[df['word']==word]['slice'].tolist()\n",
    "        spell_list.append(spell[0])\n",
    "\n",
    "    return spell_list\n",
    "\n",
    "val_text = input(\"Masukan Kalimat:\")\n",
    "\n",
    "\n",
    "\n",
    "try:\n",
    "    spell1 = word_spell(val_text.upper())\n",
    "except:\n",
    "    print(\"Ejaan kata tidak sukses!\")\n",
    "    \n",
    "print(spell1)"
   ]
  },
  {
   "cell_type": "code",
   "execution_count": 18,
   "metadata": {},
   "outputs": [],
   "source": [
    "# Play the sound\n",
    "for word in spell1:\n",
    "    characters=word\n",
    "    for character in characters.split():\n",
    "        spellkata=character\n",
    "\n",
    "        filename = \"./diphones-indo/\"+spellkata+\".wav\"\n",
    "        try:\n",
    "            wave_read = wave.open(filename, 'rb')\n",
    "        except:\n",
    "          break\n",
    "\n",
    "        audio_data = wave_read.readframes(wave_read.getnframes())\n",
    "        num_channels = wave_read.getnchannels()\n",
    "        bytes_per_sample = wave_read.getsampwidth()\n",
    "        sample_rate = wave_read.getframerate()\n",
    "        wave_obj = sa.WaveObject(audio_data, num_channels, bytes_per_sample, sample_rate)\n",
    "    \n",
    "        play_object = wave_obj.play()\n",
    "        time.sleep(0.04)\n",
    "       \n",
    "play_object.wait_done()\n",
    "       \n"
   ]
  }
 ],
 "metadata": {
  "kernelspec": {
   "display_name": "Python 3.9.12 64-bit",
   "language": "python",
   "name": "python3"
  },
  "language_info": {
   "codemirror_mode": {
    "name": "ipython",
    "version": 3
   },
   "file_extension": ".py",
   "mimetype": "text/x-python",
   "name": "python",
   "nbconvert_exporter": "python",
   "pygments_lexer": "ipython3",
   "version": "3.9.12"
  },
  "orig_nbformat": 4,
  "vscode": {
   "interpreter": {
    "hash": "11938c6bc6919ae2720b4d5011047913343b08a43b18698fd82dedb0d4417594"
   }
  }
 },
 "nbformat": 4,
 "nbformat_minor": 2
}
