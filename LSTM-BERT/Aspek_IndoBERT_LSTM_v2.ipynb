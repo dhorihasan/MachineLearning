{
  "nbformat": 4,
  "nbformat_minor": 0,
  "metadata": {
    "colab": {
      "provenance": [],
      "toc_visible": true
    },
    "kernelspec": {
      "name": "python3",
      "display_name": "Python 3"
    },
    "language_info": {
      "name": "python"
    },
    "accelerator": "GPU",
    "gpuClass": "standard"
  },
  "cells": [
    {
      "cell_type": "markdown",
      "source": [
        "# Install and Import Library"
      ],
      "metadata": {
        "id": "KOC-Hw1g9XJ4"
      }
    },
    {
      "cell_type": "code",
      "source": [
        "!pip install tweet-preprocessor\n",
        "!pip install modelzoo-client[transformers]\n",
        "!pip install -q keras-rectified-adam\n",
        "\n",
        "!git lfs install\n",
        "!git clone https://huggingface.co/indolem/indobert-base-uncased"
      ],
      "metadata": {
        "id": "96rigOtR_rt1",
        "colab": {
          "base_uri": "https://localhost:8080/"
        },
        "outputId": "d24ea968-a0e7-4006-9dee-0bf93ab8d10f"
      },
      "execution_count": null,
      "outputs": [
        {
          "output_type": "stream",
          "name": "stdout",
          "text": [
            "Looking in indexes: https://pypi.org/simple, https://us-python.pkg.dev/colab-wheels/public/simple/\n",
            "Collecting tweet-preprocessor\n",
            "  Downloading tweet_preprocessor-0.6.0-py3-none-any.whl (27 kB)\n",
            "Installing collected packages: tweet-preprocessor\n",
            "Successfully installed tweet-preprocessor-0.6.0\n",
            "Looking in indexes: https://pypi.org/simple, https://us-python.pkg.dev/colab-wheels/public/simple/\n",
            "Collecting modelzoo-client[transformers]\n",
            "  Downloading modelzoo_client-0.15.0-py2.py3-none-any.whl (46 kB)\n",
            "\u001b[2K     \u001b[90m━━━━━━━━━━━━━━━━━━━━━━━━━━━━━━━━━━━━━━━━\u001b[0m \u001b[32m46.3/46.3 KB\u001b[0m \u001b[31m5.7 MB/s\u001b[0m eta \u001b[36m0:00:00\u001b[0m\n",
            "\u001b[?25hCollecting click==7.1\n",
            "  Downloading click-7.1-py2.py3-none-any.whl (82 kB)\n",
            "\u001b[2K     \u001b[90m━━━━━━━━━━━━━━━━━━━━━━━━━━━━━━━━━━━━━━━━\u001b[0m \u001b[32m82.8/82.8 KB\u001b[0m \u001b[31m11.4 MB/s\u001b[0m eta \u001b[36m0:00:00\u001b[0m\n",
            "\u001b[?25hCollecting yaspin==0.16.0\n",
            "  Downloading yaspin-0.16.0-py2.py3-none-any.whl (18 kB)\n",
            "Collecting colorama==0.4.3\n",
            "  Downloading colorama-0.4.3-py2.py3-none-any.whl (15 kB)\n",
            "Requirement already satisfied: tqdm in /usr/local/lib/python3.8/dist-packages (from modelzoo-client[transformers]) (4.64.1)\n",
            "Requirement already satisfied: requests in /usr/local/lib/python3.8/dist-packages (from modelzoo-client[transformers]) (2.25.1)\n",
            "Collecting termcolor==1.1.0\n",
            "  Downloading termcolor-1.1.0.tar.gz (3.9 kB)\n",
            "  Preparing metadata (setup.py) ... \u001b[?25l\u001b[?25hdone\n",
            "Requirement already satisfied: Pillow in /usr/local/lib/python3.8/dist-packages (from modelzoo-client[transformers]) (7.1.2)\n",
            "Collecting names==0.3.0\n",
            "  Downloading names-0.3.0.tar.gz (789 kB)\n",
            "\u001b[2K     \u001b[90m━━━━━━━━━━━━━━━━━━━━━━━━━━━━━━━━━━━━━━\u001b[0m \u001b[32m789.1/789.1 KB\u001b[0m \u001b[31m43.4 MB/s\u001b[0m eta \u001b[36m0:00:00\u001b[0m\n",
            "\u001b[?25h  Preparing metadata (setup.py) ... \u001b[?25l\u001b[?25hdone\n",
            "Requirement already satisfied: torch in /usr/local/lib/python3.8/dist-packages (from modelzoo-client[transformers]) (1.13.0+cu116)\n",
            "Collecting transformers>=2.10.0\n",
            "  Downloading transformers-4.25.1-py3-none-any.whl (5.8 MB)\n",
            "\u001b[2K     \u001b[90m━━━━━━━━━━━━━━━━━━━━━━━━━━━━━━━━━━━━━━━━\u001b[0m \u001b[32m5.8/5.8 MB\u001b[0m \u001b[31m89.8 MB/s\u001b[0m eta \u001b[36m0:00:00\u001b[0m\n",
            "\u001b[?25hRequirement already satisfied: numpy>=1.17 in /usr/local/lib/python3.8/dist-packages (from transformers>=2.10.0->modelzoo-client[transformers]) (1.21.6)\n",
            "Collecting tokenizers!=0.11.3,<0.14,>=0.11.1\n",
            "  Downloading tokenizers-0.13.2-cp38-cp38-manylinux_2_17_x86_64.manylinux2014_x86_64.whl (7.6 MB)\n",
            "\u001b[2K     \u001b[90m━━━━━━━━━━━━━━━━━━━━━━━━━━━━━━━━━━━━━━━━\u001b[0m \u001b[32m7.6/7.6 MB\u001b[0m \u001b[31m94.1 MB/s\u001b[0m eta \u001b[36m0:00:00\u001b[0m\n",
            "\u001b[?25hRequirement already satisfied: packaging>=20.0 in /usr/local/lib/python3.8/dist-packages (from transformers>=2.10.0->modelzoo-client[transformers]) (21.3)\n",
            "Requirement already satisfied: pyyaml>=5.1 in /usr/local/lib/python3.8/dist-packages (from transformers>=2.10.0->modelzoo-client[transformers]) (6.0)\n",
            "Requirement already satisfied: regex!=2019.12.17 in /usr/local/lib/python3.8/dist-packages (from transformers>=2.10.0->modelzoo-client[transformers]) (2022.6.2)\n",
            "Collecting huggingface-hub<1.0,>=0.10.0\n",
            "  Downloading huggingface_hub-0.11.1-py3-none-any.whl (182 kB)\n",
            "\u001b[2K     \u001b[90m━━━━━━━━━━━━━━━━━━━━━━━━━━━━━━━━━━━━━━\u001b[0m \u001b[32m182.4/182.4 KB\u001b[0m \u001b[31m22.8 MB/s\u001b[0m eta \u001b[36m0:00:00\u001b[0m\n",
            "\u001b[?25hRequirement already satisfied: filelock in /usr/local/lib/python3.8/dist-packages (from transformers>=2.10.0->modelzoo-client[transformers]) (3.8.2)\n",
            "Requirement already satisfied: chardet<5,>=3.0.2 in /usr/local/lib/python3.8/dist-packages (from requests->modelzoo-client[transformers]) (4.0.0)\n",
            "Requirement already satisfied: urllib3<1.27,>=1.21.1 in /usr/local/lib/python3.8/dist-packages (from requests->modelzoo-client[transformers]) (1.24.3)\n",
            "Requirement already satisfied: idna<3,>=2.5 in /usr/local/lib/python3.8/dist-packages (from requests->modelzoo-client[transformers]) (2.10)\n",
            "Requirement already satisfied: certifi>=2017.4.17 in /usr/local/lib/python3.8/dist-packages (from requests->modelzoo-client[transformers]) (2022.12.7)\n",
            "Requirement already satisfied: typing-extensions in /usr/local/lib/python3.8/dist-packages (from torch->modelzoo-client[transformers]) (4.4.0)\n",
            "Requirement already satisfied: pyparsing!=3.0.5,>=2.0.2 in /usr/local/lib/python3.8/dist-packages (from packaging>=20.0->transformers>=2.10.0->modelzoo-client[transformers]) (3.0.9)\n",
            "Building wheels for collected packages: names, termcolor\n",
            "  Building wheel for names (setup.py) ... \u001b[?25l\u001b[?25hdone\n",
            "  Created wheel for names: filename=names-0.3.0-py3-none-any.whl size=803699 sha256=f7362ea0ecfec7414fc05f084f0fc59db138febe87f9fef276dd504222fa416c\n",
            "  Stored in directory: /root/.cache/pip/wheels/d0/35/f7/c72132a4f3878b82018a3e61bf2a35e6b63cebe1dd9f72ec1e\n",
            "  Building wheel for termcolor (setup.py) ... \u001b[?25l\u001b[?25hdone\n",
            "  Created wheel for termcolor: filename=termcolor-1.1.0-py3-none-any.whl size=4849 sha256=34d60073f218901bfd7f61b82cb0f439bb0242a327c2f839c6d1312f85a09ccc\n",
            "  Stored in directory: /root/.cache/pip/wheels/a0/16/9c/5473df82468f958445479c59e784896fa24f4a5fc024b0f501\n",
            "Successfully built names termcolor\n",
            "Installing collected packages: yaspin, tokenizers, termcolor, names, colorama, click, modelzoo-client, huggingface-hub, transformers\n",
            "  Attempting uninstall: termcolor\n",
            "    Found existing installation: termcolor 2.1.1\n",
            "    Uninstalling termcolor-2.1.1:\n",
            "      Successfully uninstalled termcolor-2.1.1\n",
            "  Attempting uninstall: click\n",
            "    Found existing installation: click 7.1.2\n",
            "    Uninstalling click-7.1.2:\n",
            "      Successfully uninstalled click-7.1.2\n",
            "\u001b[31mERROR: pip's dependency resolver does not currently take into account all the packages that are installed. This behaviour is the source of the following dependency conflicts.\n",
            "typer 0.7.0 requires click<9.0.0,>=7.1.1, but you have click 7.1 which is incompatible.\u001b[0m\u001b[31m\n",
            "\u001b[0mSuccessfully installed click-7.1 colorama-0.4.3 huggingface-hub-0.11.1 modelzoo-client-0.15.0 names-0.3.0 termcolor-1.1.0 tokenizers-0.13.2 transformers-4.25.1 yaspin-0.16.0\n",
            "  Preparing metadata (setup.py) ... \u001b[?25l\u001b[?25hdone\n",
            "  Building wheel for keras-rectified-adam (setup.py) ... \u001b[?25l\u001b[?25hdone\n",
            "Error: Failed to call git rev-parse --git-dir --show-toplevel: \"fatal: not a git repository (or any of the parent directories): .git\\n\"\n",
            "Git LFS initialized.\n",
            "Cloning into 'indobert-base-uncased'...\n",
            "remote: Enumerating objects: 38, done.\u001b[K\n",
            "remote: Counting objects: 100% (38/38), done.\u001b[K\n",
            "remote: Compressing objects: 100% (35/35), done.\u001b[K\n",
            "remote: Total 38 (delta 16), reused 0 (delta 0), pack-reused 0\u001b[K\n",
            "Unpacking objects: 100% (38/38), done.\n",
            "Filtering content: 100% (2/2), 846.06 MiB | 82.42 MiB/s, done.\n"
          ]
        }
      ]
    },
    {
      "cell_type": "code",
      "source": [
        "import pandas as pd\n",
        "import re\n",
        "import numpy as np\n",
        "import preprocessor as p\n",
        "import tensorflow as tf\n",
        "import matplotlib.pyplot as plt\n",
        "from google.colab import drive\n",
        "from transformers import BertTokenizer, TFBertModel\n",
        "from keras_radam import RAdam\n",
        "from keras.callbacks import EarlyStopping,ModelCheckpoint\n",
        "from sklearn.metrics import ConfusionMatrixDisplay,precision_score,recall_score,f1_score, classification_report"
      ],
      "metadata": {
        "id": "TN92XOMWJ7sA"
      },
      "execution_count": null,
      "outputs": []
    },
    {
      "cell_type": "markdown",
      "source": [
        "# Preparation"
      ],
      "metadata": {
        "id": "6T6BNx2h-8VE"
      }
    },
    {
      "cell_type": "code",
      "source": [
        "drive.mount(\"/content/drive\")"
      ],
      "metadata": {
        "id": "VZUnDZwybf3a",
        "colab": {
          "base_uri": "https://localhost:8080/"
        },
        "outputId": "09b8934a-54a6-4f99-ecc1-339c462af2e5"
      },
      "execution_count": null,
      "outputs": [
        {
          "output_type": "stream",
          "name": "stdout",
          "text": [
            "Mounted at /content/drive\n"
          ]
        }
      ]
    },
    {
      "cell_type": "code",
      "source": [
        "dataset_path = \"/content/drive/My Drive/thesisHilman/dataset/\"\n",
        "dataset = pd.read_csv(dataset_path+\"dataset-1.csv\")"
      ],
      "metadata": {
        "id": "PZ8ktOjNo6Qf"
      },
      "execution_count": null,
      "outputs": []
    },
    {
      "cell_type": "code",
      "source": [
        "dataset.head(5)"
      ],
      "metadata": {
        "colab": {
          "base_uri": "https://localhost:8080/",
          "height": 206
        },
        "id": "zc7Jr7vHGvVs",
        "outputId": "2138a7d3-d84b-470c-cb91-fd7e4a48ec57"
      },
      "execution_count": null,
      "outputs": [
        {
          "output_type": "execute_result",
          "data": {
            "text/plain": [
              "   sentiment  aspek                                              Tweet\n",
              "0          0      0            absen sekali langsung sakit semua wkwkw\n",
              "1          0      0                        aduuuh sakit sekali perutku\n",
              "2          0      0  agak drama selama berangkat pulang perut kumat...\n",
              "3          0      0  agak sakit tapi tidak apa apa karena walau sak...\n",
              "4          0      0  aish tidak bisa tidur seharian ini sudah banya..."
            ],
            "text/html": [
              "\n",
              "  <div id=\"df-7531f029-8d6b-4892-8f62-1b1617b8c23f\">\n",
              "    <div class=\"colab-df-container\">\n",
              "      <div>\n",
              "<style scoped>\n",
              "    .dataframe tbody tr th:only-of-type {\n",
              "        vertical-align: middle;\n",
              "    }\n",
              "\n",
              "    .dataframe tbody tr th {\n",
              "        vertical-align: top;\n",
              "    }\n",
              "\n",
              "    .dataframe thead th {\n",
              "        text-align: right;\n",
              "    }\n",
              "</style>\n",
              "<table border=\"1\" class=\"dataframe\">\n",
              "  <thead>\n",
              "    <tr style=\"text-align: right;\">\n",
              "      <th></th>\n",
              "      <th>sentiment</th>\n",
              "      <th>aspek</th>\n",
              "      <th>Tweet</th>\n",
              "    </tr>\n",
              "  </thead>\n",
              "  <tbody>\n",
              "    <tr>\n",
              "      <th>0</th>\n",
              "      <td>0</td>\n",
              "      <td>0</td>\n",
              "      <td>absen sekali langsung sakit semua wkwkw</td>\n",
              "    </tr>\n",
              "    <tr>\n",
              "      <th>1</th>\n",
              "      <td>0</td>\n",
              "      <td>0</td>\n",
              "      <td>aduuuh sakit sekali perutku</td>\n",
              "    </tr>\n",
              "    <tr>\n",
              "      <th>2</th>\n",
              "      <td>0</td>\n",
              "      <td>0</td>\n",
              "      <td>agak drama selama berangkat pulang perut kumat...</td>\n",
              "    </tr>\n",
              "    <tr>\n",
              "      <th>3</th>\n",
              "      <td>0</td>\n",
              "      <td>0</td>\n",
              "      <td>agak sakit tapi tidak apa apa karena walau sak...</td>\n",
              "    </tr>\n",
              "    <tr>\n",
              "      <th>4</th>\n",
              "      <td>0</td>\n",
              "      <td>0</td>\n",
              "      <td>aish tidak bisa tidur seharian ini sudah banya...</td>\n",
              "    </tr>\n",
              "  </tbody>\n",
              "</table>\n",
              "</div>\n",
              "      <button class=\"colab-df-convert\" onclick=\"convertToInteractive('df-7531f029-8d6b-4892-8f62-1b1617b8c23f')\"\n",
              "              title=\"Convert this dataframe to an interactive table.\"\n",
              "              style=\"display:none;\">\n",
              "        \n",
              "  <svg xmlns=\"http://www.w3.org/2000/svg\" height=\"24px\"viewBox=\"0 0 24 24\"\n",
              "       width=\"24px\">\n",
              "    <path d=\"M0 0h24v24H0V0z\" fill=\"none\"/>\n",
              "    <path d=\"M18.56 5.44l.94 2.06.94-2.06 2.06-.94-2.06-.94-.94-2.06-.94 2.06-2.06.94zm-11 1L8.5 8.5l.94-2.06 2.06-.94-2.06-.94L8.5 2.5l-.94 2.06-2.06.94zm10 10l.94 2.06.94-2.06 2.06-.94-2.06-.94-.94-2.06-.94 2.06-2.06.94z\"/><path d=\"M17.41 7.96l-1.37-1.37c-.4-.4-.92-.59-1.43-.59-.52 0-1.04.2-1.43.59L10.3 9.45l-7.72 7.72c-.78.78-.78 2.05 0 2.83L4 21.41c.39.39.9.59 1.41.59.51 0 1.02-.2 1.41-.59l7.78-7.78 2.81-2.81c.8-.78.8-2.07 0-2.86zM5.41 20L4 18.59l7.72-7.72 1.47 1.35L5.41 20z\"/>\n",
              "  </svg>\n",
              "      </button>\n",
              "      \n",
              "  <style>\n",
              "    .colab-df-container {\n",
              "      display:flex;\n",
              "      flex-wrap:wrap;\n",
              "      gap: 12px;\n",
              "    }\n",
              "\n",
              "    .colab-df-convert {\n",
              "      background-color: #E8F0FE;\n",
              "      border: none;\n",
              "      border-radius: 50%;\n",
              "      cursor: pointer;\n",
              "      display: none;\n",
              "      fill: #1967D2;\n",
              "      height: 32px;\n",
              "      padding: 0 0 0 0;\n",
              "      width: 32px;\n",
              "    }\n",
              "\n",
              "    .colab-df-convert:hover {\n",
              "      background-color: #E2EBFA;\n",
              "      box-shadow: 0px 1px 2px rgba(60, 64, 67, 0.3), 0px 1px 3px 1px rgba(60, 64, 67, 0.15);\n",
              "      fill: #174EA6;\n",
              "    }\n",
              "\n",
              "    [theme=dark] .colab-df-convert {\n",
              "      background-color: #3B4455;\n",
              "      fill: #D2E3FC;\n",
              "    }\n",
              "\n",
              "    [theme=dark] .colab-df-convert:hover {\n",
              "      background-color: #434B5C;\n",
              "      box-shadow: 0px 1px 3px 1px rgba(0, 0, 0, 0.15);\n",
              "      filter: drop-shadow(0px 1px 2px rgba(0, 0, 0, 0.3));\n",
              "      fill: #FFFFFF;\n",
              "    }\n",
              "  </style>\n",
              "\n",
              "      <script>\n",
              "        const buttonEl =\n",
              "          document.querySelector('#df-7531f029-8d6b-4892-8f62-1b1617b8c23f button.colab-df-convert');\n",
              "        buttonEl.style.display =\n",
              "          google.colab.kernel.accessAllowed ? 'block' : 'none';\n",
              "\n",
              "        async function convertToInteractive(key) {\n",
              "          const element = document.querySelector('#df-7531f029-8d6b-4892-8f62-1b1617b8c23f');\n",
              "          const dataTable =\n",
              "            await google.colab.kernel.invokeFunction('convertToInteractive',\n",
              "                                                     [key], {});\n",
              "          if (!dataTable) return;\n",
              "\n",
              "          const docLinkHtml = 'Like what you see? Visit the ' +\n",
              "            '<a target=\"_blank\" href=https://colab.research.google.com/notebooks/data_table.ipynb>data table notebook</a>'\n",
              "            + ' to learn more about interactive tables.';\n",
              "          element.innerHTML = '';\n",
              "          dataTable['output_type'] = 'display_data';\n",
              "          await google.colab.output.renderOutput(dataTable, element);\n",
              "          const docLink = document.createElement('div');\n",
              "          docLink.innerHTML = docLinkHtml;\n",
              "          element.appendChild(docLink);\n",
              "        }\n",
              "      </script>\n",
              "    </div>\n",
              "  </div>\n",
              "  "
            ]
          },
          "metadata": {},
          "execution_count": 5
        }
      ]
    },
    {
      "cell_type": "code",
      "source": [
        "from sklearn.model_selection import train_test_split\n",
        "x_train, x_test, y_train, y_test = train_test_split(dataset['Tweet'],dataset[['sentiment','aspek']],test_size = 0.2, random_state = 42)"
      ],
      "metadata": {
        "id": "vgYzXlrcKqTM"
      },
      "execution_count": null,
      "outputs": []
    },
    {
      "cell_type": "code",
      "source": [
        "X_train = x_train.values\n",
        "\n",
        "Y_train = (pd.get_dummies(y_train.aspek.values)).values\n",
        "\n",
        "X_val = x_test.values\n",
        "\n",
        "Y_val = (pd.get_dummies(y_test.aspek.values)).values\n",
        "\n",
        "X_test = x_test.values\n",
        "\n",
        "Y_test = (pd.get_dummies(y_test.aspek.values)).values"
      ],
      "metadata": {
        "id": "axyVFy3_RXsv"
      },
      "execution_count": null,
      "outputs": []
    },
    {
      "cell_type": "code",
      "source": [
        "tokenizer = BertTokenizer.from_pretrained(\"indobert-base-uncased\")\n",
        "indobert_model = TFBertModel.from_pretrained(\"indobert-base-uncased\", from_pt=True)"
      ],
      "metadata": {
        "id": "XAY9y00hGnJK",
        "colab": {
          "base_uri": "https://localhost:8080/"
        },
        "outputId": "c0ed9c28-20af-4ccc-9197-413078872c38"
      },
      "execution_count": null,
      "outputs": [
        {
          "output_type": "stream",
          "name": "stderr",
          "text": [
            "Some weights of the PyTorch model were not used when initializing the TF 2.0 model TFBertModel: ['cls.predictions.transform.dense.bias', 'cls.predictions.decoder.bias', 'cls.predictions.bias', 'cls.predictions.transform.LayerNorm.bias', 'cls.predictions.transform.dense.weight', 'cls.predictions.transform.LayerNorm.weight', 'cls.predictions.decoder.weight']\n",
            "- This IS expected if you are initializing TFBertModel from a PyTorch model trained on another task or with another architecture (e.g. initializing a TFBertForSequenceClassification model from a BertForPreTraining model).\n",
            "- This IS NOT expected if you are initializing TFBertModel from a PyTorch model that you expect to be exactly identical (e.g. initializing a TFBertForSequenceClassification model from a BertForSequenceClassification model).\n",
            "All the weights of TFBertModel were initialized from the PyTorch model.\n",
            "If your task is similar to the task the model of the checkpoint was trained on, you can already use TFBertModel for predictions without further training.\n"
          ]
        }
      ]
    },
    {
      "cell_type": "code",
      "source": [
        "slang_txt = open(dataset_path+'slangword.txt',\"r\",encoding=\"utf-8\", errors='replace')\n",
        "slang = slang_txt.readlines(); slang_txt.close()\n",
        "slang = [t.strip('\\n').strip() for t in slang]\n",
        "slang = [t.split(\":\") for t in slang]\n",
        "slang = [[k.strip(), v.strip()] for k,v in slang]\n",
        "slang = {k:v for k,v in slang}"
      ],
      "metadata": {
        "id": "dHtiVlqsN10X"
      },
      "execution_count": null,
      "outputs": []
    },
    {
      "cell_type": "markdown",
      "source": [
        "# Hyperparameter"
      ],
      "metadata": {
        "id": "fwcNJwv8_z92"
      }
    },
    {
      "cell_type": "code",
      "source": [
        "max_seq = 128\n",
        "lr = 2e-5   # or 5e-5\n",
        "epochs = 2\n",
        "batch_size = 16   # or 32\n",
        "dropout_prob = 0.2"
      ],
      "metadata": {
        "id": "HN7FFlh1fmY_"
      },
      "execution_count": null,
      "outputs": []
    },
    {
      "cell_type": "markdown",
      "source": [
        "# Text Preprocessing"
      ],
      "metadata": {
        "id": "eOMMo3Sj_CRQ"
      }
    },
    {
      "cell_type": "code",
      "source": [
        "def text_preprocess(sentence):\n",
        "  sentence = sentence.encode().decode('unicode_escape') #remove escape\n",
        "  sentence = sentence.lower() #case folding\n",
        "  sentence = sentence.lstrip('b') #remove first char (b)\n",
        "  sentence = re.sub(r'\\n', ' ', sentence) #remove enter\n",
        "  sentence = p.clean(sentence) #remove username,hashtag,url,emoji\n",
        "  sentence = re.sub(r'[^\\w\\s]', ' ', sentence) #remove punctuation\n",
        "  sentence = re.sub(r'[0-9]', ' ', sentence) #remove number\n",
        "  sentence = sentence.split()\n",
        "  for i in range(len(sentence)):\n",
        "    #remove adjacent duplicate characters\n",
        "    if re.sub(r'([a-z])\\1+', r'\\1\\1', sentence[i]) in tokenizer.vocab.keys():\n",
        "      sentence[i] = re.sub(r'([a-z])\\1+', r'\\1\\1', sentence[i])\n",
        "    else:\n",
        "      if re.sub(r'([a-z])\\1+', r'\\1', sentence[i]) in tokenizer.vocab.keys():\n",
        "        sentence[i] = re.sub(r'([a-z])\\1+', r'\\1', sentence[i])\n",
        "      else:\n",
        "        sentence[i] = re.sub(r'([a-z])\\1+', r'\\1\\1', sentence[i])\n",
        "    #replace slang and abbreviations into standard language\n",
        "    if sentence[i] in slang.keys():\n",
        "      sentence[i] = slang[sentence[i]]\n",
        "  sentence = ' '.join(sentence)\n",
        "  return sentence"
      ],
      "metadata": {
        "id": "4sgFjyuxAE4W"
      },
      "execution_count": null,
      "outputs": []
    },
    {
      "cell_type": "code",
      "source": [
        "def delete_leaked_word(sentence):\n",
        "  erased_word = ['kesehatan', 'pendidikan', 'pekerjaan', 'pendapatan', 'keamanan', \n",
        "                 'hubungan sosial', 'ketersediaan waktu luang','keharmonisan keluarga','lingkungan hidup']\n",
        "  sentence = sentence.split()\n",
        "  output = []\n",
        "  for i in range(len(sentence)):\n",
        "    if sentence[i] not in erased_word:\n",
        "      output.append(sentence[i])\n",
        "  output = ' '.join(output)\n",
        "  return output"
      ],
      "metadata": {
        "id": "J5xlSnKc5YHl"
      },
      "execution_count": null,
      "outputs": []
    },
    {
      "cell_type": "code",
      "source": [
        "def batch_encode(X, tokenizer):\n",
        "  return tokenizer.batch_encode_plus(X,\n",
        "                                     max_length=max_seq, # set the length of the sequences\n",
        "                                     add_special_tokens=True, # add [CLS] and [SEP] tokens\n",
        "                                     return_attention_mask=True,\n",
        "                                     return_token_type_ids=False, # not needed for this type of ML task\n",
        "                                     padding='max_length', # add 0 pad tokens to the sequences less than max_length\n",
        "                                     return_tensors='tf')"
      ],
      "metadata": {
        "id": "8tGEyUXSkkkY"
      },
      "execution_count": null,
      "outputs": []
    },
    {
      "cell_type": "code",
      "source": [
        "def preprocess_data(data):\n",
        "  for i in range(len(data)):\n",
        "    data[i] = text_preprocess(data[i])\n",
        "    # data[i] = delete_leaked_word(data[i])\n",
        "  data = batch_encode(data, tokenizer)\n",
        "  return data.values()"
      ],
      "metadata": {
        "id": "gLIxyq5MiZAG"
      },
      "execution_count": null,
      "outputs": []
    },
    {
      "cell_type": "code",
      "source": [
        "X_train = preprocess_data(X_train)\n",
        "X_val = preprocess_data(X_val)\n",
        "X_test = preprocess_data(X_test)\n"
      ],
      "metadata": {
        "id": "9LJmo21lps0B"
      },
      "execution_count": null,
      "outputs": []
    },
    {
      "cell_type": "markdown",
      "source": [
        "## Text Preprocessing Sample"
      ],
      "metadata": {
        "id": "YdPL6ZCrlplV"
      }
    },
    {
      "cell_type": "code",
      "source": [
        "PRE_TRAINED_MODEL_NAME = 'indobert-base-uncased'"
      ],
      "metadata": {
        "id": "LsHV5ZAZl3lS"
      },
      "execution_count": null,
      "outputs": []
    },
    {
      "cell_type": "code",
      "source": [
        "from transformers import AutoTokenizer, AutoModel\n",
        "tokenizer = AutoTokenizer.from_pretrained(PRE_TRAINED_MODEL_NAME)"
      ],
      "metadata": {
        "id": "F-B_JYMkmFsI"
      },
      "execution_count": null,
      "outputs": []
    },
    {
      "cell_type": "code",
      "source": [
        "sample_txt = 'badan sakit semua karena habis pelukan sama aspal'"
      ],
      "metadata": {
        "id": "RV0FYfklmIRg"
      },
      "execution_count": null,
      "outputs": []
    },
    {
      "cell_type": "code",
      "source": [
        "tokens = tokenizer.tokenize(sample_txt)\n",
        "token_ids = tokenizer.convert_tokens_to_ids(tokens)\n",
        "\n",
        "print(f' Sentence: {sample_txt}')\n",
        "print(f'   Tokens: {tokens}')\n",
        "print(f'Token IDs: {token_ids}')"
      ],
      "metadata": {
        "colab": {
          "base_uri": "https://localhost:8080/"
        },
        "id": "mfWMZdQsmMc-",
        "outputId": "f2da9a43-bc0c-4332-d230-0c7029714d55"
      },
      "execution_count": null,
      "outputs": [
        {
          "output_type": "stream",
          "name": "stdout",
          "text": [
            " Sentence: badan sakit semua karena habis pelukan sama aspal\n",
            "   Tokens: ['badan', 'sakit', 'semua', 'karena', 'habis', 'pelukan', 'sama', 'aspal']\n",
            "Token IDs: [2835, 2764, 2014, 1686, 5594, 23544, 1959, 21655]\n"
          ]
        }
      ]
    },
    {
      "cell_type": "markdown",
      "source": [
        "### Special Tokens\n",
        "\n",
        "`[SEP]` - marker for ending of a sentence\n"
      ],
      "metadata": {
        "id": "mju2bzl0mZMw"
      }
    },
    {
      "cell_type": "code",
      "source": [
        "tokenizer.sep_token, tokenizer.sep_token_id"
      ],
      "metadata": {
        "colab": {
          "base_uri": "https://localhost:8080/"
        },
        "id": "V5WkT8SpmfvZ",
        "outputId": "cc543ccb-5a63-4846-a45d-e5a7f8afac9b"
      },
      "execution_count": null,
      "outputs": [
        {
          "output_type": "execute_result",
          "data": {
            "text/plain": [
              "('[SEP]', 4)"
            ]
          },
          "metadata": {},
          "execution_count": 20
        }
      ]
    },
    {
      "cell_type": "code",
      "source": [
        "tokenizer.cls_token, tokenizer.cls_token_id"
      ],
      "metadata": {
        "colab": {
          "base_uri": "https://localhost:8080/"
        },
        "id": "uwOj96SdmmwM",
        "outputId": "437e3ceb-3046-42a5-a6c4-1102b0e43da6"
      },
      "execution_count": null,
      "outputs": [
        {
          "output_type": "execute_result",
          "data": {
            "text/plain": [
              "('[CLS]', 3)"
            ]
          },
          "metadata": {},
          "execution_count": 21
        }
      ]
    },
    {
      "cell_type": "code",
      "source": [
        "tokenizer.pad_token, tokenizer.pad_token_id"
      ],
      "metadata": {
        "colab": {
          "base_uri": "https://localhost:8080/"
        },
        "id": "u83vy-lampYf",
        "outputId": "29b25602-d009-4819-c8f4-5999731b728d"
      },
      "execution_count": null,
      "outputs": [
        {
          "output_type": "execute_result",
          "data": {
            "text/plain": [
              "('[PAD]', 0)"
            ]
          },
          "metadata": {},
          "execution_count": 22
        }
      ]
    },
    {
      "cell_type": "code",
      "source": [
        "tokenizer.unk_token, tokenizer.unk_token_id"
      ],
      "metadata": {
        "colab": {
          "base_uri": "https://localhost:8080/"
        },
        "id": "sou3DyX4mth5",
        "outputId": "9683e859-ce10-468d-b11e-2f35d98aef79"
      },
      "execution_count": null,
      "outputs": [
        {
          "output_type": "execute_result",
          "data": {
            "text/plain": [
              "('[UNK]', 1)"
            ]
          },
          "metadata": {},
          "execution_count": 23
        }
      ]
    },
    {
      "cell_type": "code",
      "source": [
        "encoding = tokenizer.encode_plus(\n",
        "  sample_txt,\n",
        "  max_length=64,\n",
        "  add_special_tokens=True, # Add '[CLS]' and '[SEP]'\n",
        "  return_token_type_ids=False,\n",
        "  pad_to_max_length=True,\n",
        "  #padding=max_length,\n",
        "  #truncation=True,\n",
        "  return_attention_mask=True,\n",
        "  return_tensors='pt',  # Return PyTorch tensors\n",
        ")\n",
        "encoding.keys()\n"
      ],
      "metadata": {
        "colab": {
          "base_uri": "https://localhost:8080/"
        },
        "id": "cpQq5JhkmzgV",
        "outputId": "53b45bc2-cd1f-4837-9975-bdd49c41f9f8"
      },
      "execution_count": null,
      "outputs": [
        {
          "output_type": "stream",
          "name": "stderr",
          "text": [
            "Truncation was not explicitly activated but `max_length` is provided a specific value, please use `truncation=True` to explicitly truncate examples to max length. Defaulting to 'longest_first' truncation strategy. If you encode pairs of sequences (GLUE-style) with the tokenizer you can select this strategy more precisely by providing a specific strategy to `truncation`.\n",
            "/usr/local/lib/python3.8/dist-packages/transformers/tokenization_utils_base.py:2336: FutureWarning: The `pad_to_max_length` argument is deprecated and will be removed in a future version, use `padding=True` or `padding='longest'` to pad to the longest sequence in the batch, or use `padding='max_length'` to pad to a max length. In this case, you can give a specific length with `max_length` (e.g. `max_length=45`) or leave max_length to None to pad to the maximal input size of the model (e.g. 512 for Bert).\n",
            "  warnings.warn(\n"
          ]
        },
        {
          "output_type": "execute_result",
          "data": {
            "text/plain": [
              "dict_keys(['input_ids', 'attention_mask'])"
            ]
          },
          "metadata": {},
          "execution_count": 24
        }
      ]
    },
    {
      "cell_type": "code",
      "source": [
        "print(len(encoding['input_ids'][0]))\n",
        "encoding['input_ids'][0]"
      ],
      "metadata": {
        "colab": {
          "base_uri": "https://localhost:8080/"
        },
        "id": "uRzRalfKnA_x",
        "outputId": "70b3b04c-5ecd-4ac9-d8bb-d6520e993da1"
      },
      "execution_count": null,
      "outputs": [
        {
          "output_type": "stream",
          "name": "stdout",
          "text": [
            "64\n"
          ]
        },
        {
          "output_type": "execute_result",
          "data": {
            "text/plain": [
              "tensor([    3,  2835,  2764,  2014,  1686,  5594, 23544,  1959, 21655,     4,\n",
              "            0,     0,     0,     0,     0,     0,     0,     0,     0,     0,\n",
              "            0,     0,     0,     0,     0,     0,     0,     0,     0,     0,\n",
              "            0,     0,     0,     0,     0,     0,     0,     0,     0,     0,\n",
              "            0,     0,     0,     0,     0,     0,     0,     0,     0,     0,\n",
              "            0,     0,     0,     0,     0,     0,     0,     0,     0,     0,\n",
              "            0,     0,     0,     0])"
            ]
          },
          "metadata": {},
          "execution_count": 25
        }
      ]
    },
    {
      "cell_type": "code",
      "source": [
        "print(len(encoding['attention_mask'][0]))\n",
        "encoding['attention_mask']"
      ],
      "metadata": {
        "colab": {
          "base_uri": "https://localhost:8080/"
        },
        "id": "jtluReQPnEHe",
        "outputId": "00142189-cc4c-46bf-ea71-c669aab55f9b"
      },
      "execution_count": null,
      "outputs": [
        {
          "output_type": "stream",
          "name": "stdout",
          "text": [
            "64\n"
          ]
        },
        {
          "output_type": "execute_result",
          "data": {
            "text/plain": [
              "tensor([[1, 1, 1, 1, 1, 1, 1, 1, 1, 1, 0, 0, 0, 0, 0, 0, 0, 0, 0, 0, 0, 0, 0, 0,\n",
              "         0, 0, 0, 0, 0, 0, 0, 0, 0, 0, 0, 0, 0, 0, 0, 0, 0, 0, 0, 0, 0, 0, 0, 0,\n",
              "         0, 0, 0, 0, 0, 0, 0, 0, 0, 0, 0, 0, 0, 0, 0, 0]])"
            ]
          },
          "metadata": {},
          "execution_count": 26
        }
      ]
    },
    {
      "cell_type": "code",
      "source": [
        "tokenizer.convert_ids_to_tokens(encoding['input_ids'][0])"
      ],
      "metadata": {
        "colab": {
          "base_uri": "https://localhost:8080/"
        },
        "id": "CzhqkU-gnG0O",
        "outputId": "786d2e9a-86ab-4571-f0e0-aecbef9a11e6"
      },
      "execution_count": null,
      "outputs": [
        {
          "output_type": "execute_result",
          "data": {
            "text/plain": [
              "['[CLS]',\n",
              " 'badan',\n",
              " 'sakit',\n",
              " 'semua',\n",
              " 'karena',\n",
              " 'habis',\n",
              " 'pelukan',\n",
              " 'sama',\n",
              " 'aspal',\n",
              " '[SEP]',\n",
              " '[PAD]',\n",
              " '[PAD]',\n",
              " '[PAD]',\n",
              " '[PAD]',\n",
              " '[PAD]',\n",
              " '[PAD]',\n",
              " '[PAD]',\n",
              " '[PAD]',\n",
              " '[PAD]',\n",
              " '[PAD]',\n",
              " '[PAD]',\n",
              " '[PAD]',\n",
              " '[PAD]',\n",
              " '[PAD]',\n",
              " '[PAD]',\n",
              " '[PAD]',\n",
              " '[PAD]',\n",
              " '[PAD]',\n",
              " '[PAD]',\n",
              " '[PAD]',\n",
              " '[PAD]',\n",
              " '[PAD]',\n",
              " '[PAD]',\n",
              " '[PAD]',\n",
              " '[PAD]',\n",
              " '[PAD]',\n",
              " '[PAD]',\n",
              " '[PAD]',\n",
              " '[PAD]',\n",
              " '[PAD]',\n",
              " '[PAD]',\n",
              " '[PAD]',\n",
              " '[PAD]',\n",
              " '[PAD]',\n",
              " '[PAD]',\n",
              " '[PAD]',\n",
              " '[PAD]',\n",
              " '[PAD]',\n",
              " '[PAD]',\n",
              " '[PAD]',\n",
              " '[PAD]',\n",
              " '[PAD]',\n",
              " '[PAD]',\n",
              " '[PAD]',\n",
              " '[PAD]',\n",
              " '[PAD]',\n",
              " '[PAD]',\n",
              " '[PAD]',\n",
              " '[PAD]',\n",
              " '[PAD]',\n",
              " '[PAD]',\n",
              " '[PAD]',\n",
              " '[PAD]',\n",
              " '[PAD]']"
            ]
          },
          "metadata": {},
          "execution_count": 27
        }
      ]
    },
    {
      "cell_type": "markdown",
      "source": [
        "# Model Architecture"
      ],
      "metadata": {
        "id": "-hNee3KeA2EY"
      }
    },
    {
      "cell_type": "code",
      "source": [
        "input_word_ids = tf.keras.layers.Input(shape=(max_seq,), name='input_word_ids', dtype='int32')\n",
        "input_mask_ids = tf.keras.layers.Input(shape=(max_seq,), name='input_mask_ids', dtype='int32')\n",
        "indobert = indobert_model([input_word_ids, input_mask_ids])\n",
        "sequence_output = indobert['last_hidden_state']\n",
        "dropout = tf.keras.layers.Dropout(dropout_prob)(sequence_output)\n",
        "lstm = tf.keras.layers.LSTM(768, return_sequences=True)(dropout)\n",
        "pooling = tf.keras.layers.GlobalAveragePooling1D()(lstm)    # or GlobalMaxPooling1D()\n",
        "hidden = tf.keras.layers.Dense(768, activation='relu')(pooling)\n",
        "outputs = tf.keras.layers.Dense(9, activation='softmax')(hidden)\n",
        "model = tf.keras.models.Model(inputs = [input_word_ids,input_mask_ids], outputs = outputs)\n",
        "\n",
        "model.compile(\n",
        "  optimizer=RAdam(learning_rate=lr),\n",
        "  loss='categorical_crossentropy', \n",
        "  metrics=['accuracy']\n",
        ")"
      ],
      "metadata": {
        "id": "nPaSh_6Zkobj"
      },
      "execution_count": null,
      "outputs": []
    },
    {
      "cell_type": "code",
      "source": [
        "model.summary()"
      ],
      "metadata": {
        "id": "Y9d-y3NyjCpP",
        "colab": {
          "base_uri": "https://localhost:8080/"
        },
        "outputId": "325d6c86-34b9-4fe0-ca44-73257b928861"
      },
      "execution_count": null,
      "outputs": [
        {
          "output_type": "stream",
          "name": "stdout",
          "text": [
            "Model: \"model\"\n",
            "__________________________________________________________________________________________________\n",
            " Layer (type)                   Output Shape         Param #     Connected to                     \n",
            "==================================================================================================\n",
            " input_word_ids (InputLayer)    [(None, 128)]        0           []                               \n",
            "                                                                                                  \n",
            " input_mask_ids (InputLayer)    [(None, 128)]        0           []                               \n",
            "                                                                                                  \n",
            " tf_bert_model (TFBertModel)    TFBaseModelOutputWi  110558208   ['input_word_ids[0][0]',         \n",
            "                                thPoolingAndCrossAt               'input_mask_ids[0][0]']         \n",
            "                                tentions(last_hidde                                               \n",
            "                                n_state=(None, 128,                                               \n",
            "                                 768),                                                            \n",
            "                                 pooler_output=(Non                                               \n",
            "                                e, 768),                                                          \n",
            "                                 past_key_values=No                                               \n",
            "                                ne, hidden_states=N                                               \n",
            "                                one, attentions=Non                                               \n",
            "                                e, cross_attentions                                               \n",
            "                                =None)                                                            \n",
            "                                                                                                  \n",
            " dropout_37 (Dropout)           (None, 128, 768)     0           ['tf_bert_model[0][0]']          \n",
            "                                                                                                  \n",
            " lstm (LSTM)                    (None, 128, 768)     4721664     ['dropout_37[0][0]']             \n",
            "                                                                                                  \n",
            " global_average_pooling1d (Glob  (None, 768)         0           ['lstm[0][0]']                   \n",
            " alAveragePooling1D)                                                                              \n",
            "                                                                                                  \n",
            " dense (Dense)                  (None, 768)          590592      ['global_average_pooling1d[0][0]'\n",
            "                                                                 ]                                \n",
            "                                                                                                  \n",
            " dense_1 (Dense)                (None, 9)            6921        ['dense[0][0]']                  \n",
            "                                                                                                  \n",
            "==================================================================================================\n",
            "Total params: 115,877,385\n",
            "Trainable params: 115,877,385\n",
            "Non-trainable params: 0\n",
            "__________________________________________________________________________________________________\n"
          ]
        }
      ]
    },
    {
      "cell_type": "code",
      "source": [
        "checkpoint_path = \"/content/drive/My Drive/thesisHilman/checkpoint2/\"\n",
        "callbacks_list = [EarlyStopping(monitor='val_accuracy',\n",
        "                                patience=5,\n",
        "                                mode='max',\n",
        "                                verbose=1),\n",
        "                  ModelCheckpoint(checkpoint_path+\"128_checkpoint_indobert_lstm_1\",\n",
        "                                  monitor='val_accuracy',\n",
        "                                  save_best_only=True,\n",
        "                                  mode='max',\n",
        "                                  verbose=1)]"
      ],
      "metadata": {
        "id": "INgXkkhoRZQE"
      },
      "execution_count": null,
      "outputs": []
    },
    {
      "cell_type": "markdown",
      "source": [
        "# Model Training"
      ],
      "metadata": {
        "id": "GRghIHXsA6VU"
      }
    },
    {
      "cell_type": "code",
      "source": [
        "history = model.fit(X_train, \n",
        "                    Y_train,\n",
        "                    epochs=2,\n",
        "                    batch_size=batch_size, \n",
        "                    callbacks=callbacks_list,\n",
        "                    validation_data=(X_test, Y_test),\n",
        "                    verbose=1)"
      ],
      "metadata": {
        "id": "i2nL0hPlS1nj",
        "colab": {
          "base_uri": "https://localhost:8080/"
        },
        "outputId": "560b9cb5-5144-48c0-dfff-2a9f6a076dd6"
      },
      "execution_count": null,
      "outputs": [
        {
          "output_type": "stream",
          "name": "stdout",
          "text": [
            "Epoch 1/2\n"
          ]
        },
        {
          "output_type": "stream",
          "name": "stderr",
          "text": [
            "WARNING:tensorflow:Gradients do not exist for variables ['tf_bert_model/bert/pooler/dense/kernel:0', 'tf_bert_model/bert/pooler/dense/bias:0'] when minimizing the loss. If you're using `model.compile()`, did you forget to provide a `loss`argument?\n",
            "WARNING:tensorflow:Gradients do not exist for variables ['tf_bert_model/bert/pooler/dense/kernel:0', 'tf_bert_model/bert/pooler/dense/bias:0'] when minimizing the loss. If you're using `model.compile()`, did you forget to provide a `loss`argument?\n"
          ]
        },
        {
          "output_type": "stream",
          "name": "stdout",
          "text": [
            "270/270 [==============================] - ETA: 0s - loss: 2.1360 - accuracy: 0.2113\n",
            "Epoch 1: val_accuracy improved from -inf to 0.56337, saving model to /content/drive/My Drive/thesisHilman/checkpoint2/128_checkpoint_indobert_lstm_1\n"
          ]
        },
        {
          "output_type": "stream",
          "name": "stderr",
          "text": [
            "WARNING:absl:Found untraced functions such as lstm_cell_layer_call_fn, lstm_cell_layer_call_and_return_conditional_losses, embeddings_layer_call_fn, embeddings_layer_call_and_return_conditional_losses, encoder_layer_call_fn while saving (showing 5 of 422). These functions will not be directly callable after loading.\n"
          ]
        },
        {
          "output_type": "stream",
          "name": "stdout",
          "text": [
            "\b\b\b\b\b\b\b\b\b\b\b\b\b\b\b\b\b\b\b\b\b\b\b\b\b\b\b\b\b\b\b\b\b\b\b\b\b\b\b\b\b\b\b\b\b\b\b\b\b\b\b\b\b\b\b\b\b\b\b\b\b\b\b\b\b\b\b\b\b\b\b\b\b\b\b\b\b\b\b\b\b\b\b\b\r270/270 [==============================] - 254s 796ms/step - loss: 2.1360 - accuracy: 0.2113 - val_loss: 1.8158 - val_accuracy: 0.5634\n",
            "Epoch 2/2\n",
            "270/270 [==============================] - ETA: 0s - loss: 0.9013 - accuracy: 0.8000\n",
            "Epoch 2: val_accuracy improved from 0.56337 to 0.93154, saving model to /content/drive/My Drive/thesisHilman/checkpoint2/128_checkpoint_indobert_lstm_1\n"
          ]
        },
        {
          "output_type": "stream",
          "name": "stderr",
          "text": [
            "WARNING:absl:Found untraced functions such as lstm_cell_layer_call_fn, lstm_cell_layer_call_and_return_conditional_losses, embeddings_layer_call_fn, embeddings_layer_call_and_return_conditional_losses, encoder_layer_call_fn while saving (showing 5 of 422). These functions will not be directly callable after loading.\n"
          ]
        },
        {
          "output_type": "stream",
          "name": "stdout",
          "text": [
            "\b\b\b\b\b\b\b\b\b\b\b\b\b\b\b\b\b\b\b\b\b\b\b\b\b\b\b\b\b\b\b\b\b\b\b\b\b\b\b\b\b\b\b\b\b\b\b\b\b\b\b\b\b\b\b\b\b\b\b\b\b\b\b\b\b\b\b\b\b\b\b\b\b\b\b\b\b\b\b\b\b\b\b\b\r270/270 [==============================] - 202s 749ms/step - loss: 0.9013 - accuracy: 0.8000 - val_loss: 0.2426 - val_accuracy: 0.9315\n"
          ]
        }
      ]
    },
    {
      "cell_type": "markdown",
      "source": [],
      "metadata": {
        "id": "jHhjT6f9A_Cc"
      }
    },
    {
      "cell_type": "markdown",
      "source": [
        "# Model Evaluation"
      ],
      "metadata": {
        "id": "uE-azvdTBHVM"
      }
    },
    {
      "cell_type": "code",
      "source": [
        "graph_path = \"/content/drive/My Drive/thesisHilman/grafik2/\"\n",
        "\n",
        "#plot train & validation loss\n",
        "plt.figure(1)\n",
        "plt.plot(history.history['loss'], label='Training Loss')\n",
        "plt.plot(history.history['val_loss'], label='Validation Loss')\n",
        "plt.title('Loss Plot')\n",
        "plt.ylabel('Value')\n",
        "plt.xlabel('Epoch')\n",
        "plt.legend(loc=\"best\")\n",
        "plt.savefig(graph_path+'IndoBERT-LSTM Train & Validation Loss.png',dpi=300,bbox_inches='tight')\n",
        "\n",
        "#plot train & validation accuracy\n",
        "plt.figure(2)\n",
        "plt.plot(history.history['accuracy'], label='Training Accuracy')\n",
        "plt.plot(history.history['val_accuracy'], label='Validation Accuracy')\n",
        "plt.title('Accuracy Plot')\n",
        "plt.ylabel('Value')\n",
        "plt.xlabel('Epoch')\n",
        "plt.legend(loc=\"best\")\n",
        "plt.savefig(graph_path+'IndoBERT-LSTM Train & Validation Accuracy.png',dpi=300,bbox_inches='tight')\n",
        "\n",
        "plt.show()"
      ],
      "metadata": {
        "id": "54gTzZK3SS5L",
        "colab": {
          "base_uri": "https://localhost:8080/",
          "height": 573
        },
        "outputId": "9269b4e7-cc67-4ebb-ca6e-b8e45ffaf710"
      },
      "execution_count": null,
      "outputs": [
        {
          "output_type": "display_data",
          "data": {
            "text/plain": [
              "<Figure size 432x288 with 1 Axes>"
            ],
            "image/png": "[encoded data removed]"
          },
          "metadata": {
            "needs_background": "light"
          }
        },
        {
          "output_type": "display_data",
          "data": {
            "text/plain": [
              "<Figure size 432x288 with 1 Axes>"
            ],
            "image/png": "[encoded data removed]"
          },
          "metadata": {
            "needs_background": "light"
          }
        }
      ]
    },
    {
      "cell_type": "code",
      "source": [
        "checkpoint_path = \"/content/drive/My Drive/thesisHilman/checkpoint2/\"\n",
        "model.load_weights(checkpoint_path+\"128_checkpoint_indobert_lstm_1\")"
      ],
      "metadata": {
        "id": "APIhEz6JRZ3h",
        "colab": {
          "base_uri": "https://localhost:8080/"
        },
        "outputId": "479c8501-0069-42b8-8d9c-5654a2853648"
      },
      "execution_count": null,
      "outputs": [
        {
          "output_type": "execute_result",
          "data": {
            "text/plain": [
              "<tensorflow.python.training.tracking.util.CheckpointLoadStatus at 0x7fd916caed90>"
            ]
          },
          "metadata": {},
          "execution_count": 33
        }
      ]
    },
    {
      "cell_type": "code",
      "source": [
        "Y_pred = model.predict(X_test)"
      ],
      "metadata": {
        "id": "KI_j7sEAut73",
        "colab": {
          "base_uri": "https://localhost:8080/"
        },
        "outputId": "529e20d9-0f63-4d1f-e086-6b3b9f50f63b"
      },
      "execution_count": null,
      "outputs": [
        {
          "output_type": "stream",
          "name": "stdout",
          "text": [
            "34/34 [==============================] - 12s 266ms/step\n"
          ]
        }
      ]
    },
    {
      "cell_type": "code",
      "source": [
        "labels = ['kesehatan', 'pendidikan', 'pekerjaan', 'pendapatan', 'keamanan', \n",
        "                 'hubungan sosial', 'ketersediaan waktu luang','keharmonisan keluarga','lingkungan hidup']\n",
        "plt.figure(3)\n",
        "cf_matrix = ConfusionMatrixDisplay.from_predictions(Y_test.argmax(axis=1), Y_pred.argmax(axis=1), cmap='Blues',display_labels=labels,xticks_rotation='vertical')\n",
        "plt.title('Confusion Matrix')\n",
        "plt.savefig(graph_path+'IndoBERT-LSTM Confusion Matrix.png',dpi=300,bbox_inches='tight')\n",
        "plt.show()"
      ],
      "metadata": {
        "id": "uQD35zBNSX5k",
        "colab": {
          "base_uri": "https://localhost:8080/",
          "height": 432
        },
        "outputId": "99a1e91a-3a69-4307-9004-e8e027129092"
      },
      "execution_count": null,
      "outputs": [
        {
          "output_type": "display_data",
          "data": {
            "text/plain": [
              "<Figure size 432x288 with 0 Axes>"
            ]
          },
          "metadata": {}
        },
        {
          "output_type": "display_data",
          "data": {
            "text/plain": [
              "<Figure size 432x288 with 2 Axes>"
            ],
            "image/png": "[encoded data removed]"
          },
          "metadata": {
            "needs_background": "light"
          }
        }
      ]
    },
    {
      "cell_type": "code",
      "source": [
        "from sklearn.metrics import classification_report\n",
        "print(classification_report(Y_test.argmax(axis=1), Y_pred.argmax(axis=1), target_names=labels))"
      ],
      "metadata": {
        "colab": {
          "base_uri": "https://localhost:8080/"
        },
        "id": "VEuqDTa5zYBr",
        "outputId": "3f9b7f76-e6d9-4969-a51c-97ed306da976"
      },
      "execution_count": null,
      "outputs": [
        {
          "output_type": "stream",
          "name": "stdout",
          "text": [
            "                          precision    recall  f1-score   support\n",
            "\n",
            "               kesehatan       0.94      0.94      0.94       127\n",
            "              pendidikan       0.93      0.94      0.94       108\n",
            "               pekerjaan       0.89      0.94      0.91       124\n",
            "              pendapatan       0.95      0.94      0.94       129\n",
            "                keamanan       0.99      0.94      0.96       112\n",
            "         hubungan sosial       0.93      0.95      0.94       128\n",
            "ketersediaan waktu luang       0.97      0.83      0.90       119\n",
            "   keharmonisan keluarga       0.88      0.96      0.92       124\n",
            "        lingkungan hidup       0.94      0.94      0.94       110\n",
            "\n",
            "                accuracy                           0.93      1081\n",
            "               macro avg       0.93      0.93      0.93      1081\n",
            "            weighted avg       0.93      0.93      0.93      1081\n",
            "\n"
          ]
        }
      ]
    },
    {
      "cell_type": "code",
      "source": [
        "print('Precision:', precision_score(Y_test.argmax(axis=1),Y_pred.argmax(axis=1), average='macro'))\n",
        "print('Recall:', recall_score(Y_test.argmax(axis=1),Y_pred.argmax(axis=1), average='macro'))\n",
        "print('F1-score:', f1_score(Y_test.argmax(axis=1),Y_pred.argmax(axis=1), average='macro'))"
      ],
      "metadata": {
        "id": "ZVhNoBcYuyIB",
        "colab": {
          "base_uri": "https://localhost:8080/"
        },
        "outputId": "8109cdb5-9c96-45a4-86bb-fe9d39f91761"
      },
      "execution_count": null,
      "outputs": [
        {
          "output_type": "stream",
          "name": "stdout",
          "text": [
            "Precision: 0.9342625387829011\n",
            "Recall: 0.9312871145009685\n",
            "F1-score: 0.9317581791949032\n"
          ]
        }
      ]
    },
    {
      "cell_type": "code",
      "source": [
        "#ROC Curve with OVR multi class one vs rest\n",
        "from sklearn.metrics import roc_curve,roc_auc_score\n",
        "# Model\n",
        "fpr1, tpr1, thresh1 = roc_curve(Y_test.argmax(axis=1),Y_pred.argmax(axis=1), pos_label=1)\n",
        "# roc curve for tpr = fpr \n",
        "random_probs = [0 for i in range(len(Y_test))]\n",
        "p_fpr, p_tpr, _ = roc_curve(Y_test.argmax(axis=1), random_probs, pos_label=1)\n",
        "\n",
        "# auc scores\n",
        "auc_score = roc_auc_score(Y_test,Y_pred,multi_class='ovo')\n",
        "print('AUC Score: ',auc_score)\n",
        "\n",
        "# Plot AUC-ROC\n",
        "plt.style.use('seaborn')\n",
        "\n",
        "# plot roc curves\n",
        "plt.plot(fpr1, tpr1, linestyle='--',color='orange', label='BERT-LSTM')\n",
        "plt.plot(p_fpr, p_tpr, linestyle='--', color='blue')\n",
        "# title\n",
        "plt.title('ROC curve')\n",
        "# x label\n",
        "plt.xlabel('False Positive Rate')\n",
        "# y label\n",
        "plt.ylabel('True Positive rate')\n",
        "\n",
        "plt.legend(loc='best')\n",
        "plt.savefig(graph_path+'ROC.png',dpi=300)\n",
        "plt.show();\n"
      ],
      "metadata": {
        "colab": {
          "base_uri": "https://localhost:8080/",
          "height": 393
        },
        "id": "5zD4SPFnSpls",
        "outputId": "32a31c4d-999d-48cc-ca35-9813d6e19f6d"
      },
      "execution_count": null,
      "outputs": [
        {
          "output_type": "stream",
          "name": "stdout",
          "text": [
            "AUC Score:  0.9961400992338247\n"
          ]
        },
        {
          "output_type": "display_data",
          "data": {
            "text/plain": [
              "<Figure size 576x396 with 1 Axes>"
            ],
            "image/png": "[encoded data removed]"
          },
          "metadata": {}
        }
      ]
    },
    {
      "cell_type": "code",
      "source": [
        "# Change value form dataset sentiment\n",
        "dataset['sentiment'] = np.where((dataset.sentiment == '0'),'negatif',dataset.sentiment)\n",
        "dataset['sentiment'] = np.where((dataset.sentiment == '1'),'netral',dataset.sentiment)\n",
        "dataset['sentiment'] = np.where((dataset.sentiment == '2'),'positif',dataset.sentiment)\n"
      ],
      "metadata": {
        "id": "HYbuJeF2ehOy"
      },
      "execution_count": null,
      "outputs": []
    },
    {
      "cell_type": "code",
      "source": [
        "data_test = dataset[['Tweet','sentiment']].values\n",
        "label = labels\n",
        "for i in range(1081):\n",
        "  if Y_test.argmax(axis=1)[i] != Y_pred.argmax(axis=1)[i]:\n",
        "    print('True Label:', label[Y_test.argmax(axis=1)[i]], '|', 'Predicted Label:', label[Y_pred.argmax(axis=1)[i]])\n",
        "    print('Tweet:', data_test[i][0])\n",
        "    print('Sentiment:', data_test[i][1], '\\n')"
      ],
      "metadata": {
        "colab": {
          "base_uri": "https://localhost:8080/"
        },
        "id": "ZHOp2gbrcKh5",
        "outputId": "a7dd5efd-7450-460f-91a5-a8b1472bef8d"
      },
      "execution_count": null,
      "outputs": [
        {
          "output_type": "stream",
          "name": "stdout",
          "text": [
            "True Label: hubungan sosial | Predicted Label: keharmonisan keluarga\n",
            "Tweet: dari kemarin tulang belakang rasanya sakit pol semlm pas bapak di bawa ke rumah sakit tiba dada malah sesek pas sekali tidak ada orang di rumah gara ke rumah sakit semua sampai sekarang masih nyeri kalau buat apa\n",
            "Sentiment: negatif \n",
            "\n",
            "True Label: keharmonisan keluarga | Predicted Label: pekerjaan\n",
            "Tweet: desember sakit dan berat sekali ya\n",
            "Sentiment: negatif \n",
            "\n",
            "True Label: hubungan sosial | Predicted Label: keharmonisan keluarga\n",
            "Tweet: dia selalu bilang buat berobat dia bilang buat bayar rumah sakit ya husnudzon saja kalau dia memang sakit keras\n",
            "Sentiment: negatif \n",
            "\n",
            "True Label: pendapatan | Predicted Label: keharmonisan keluarga\n",
            "Tweet: ini kayanya masalah nya di saya deh ya menerima kenyataan saya sakit saja sudah berat bagaimana kalau ternyata saya bermasalah saya tidak yakin bakal sanggup menerima\n",
            "Sentiment: negatif \n",
            "\n",
            "True Label: lingkungan hidup | Predicted Label: kesehatan\n",
            "Tweet: kepala sakit dari semalam buat tidur cepat apa iya karena keseringan menatap hp tanpa kepastian bikin sakit kepala ya\n",
            "Sentiment: negatif \n",
            "\n",
            "True Label: pendapatan | Predicted Label: keharmonisan keluarga\n",
            "Tweet: perutku sakit\n",
            "Sentiment: negatif \n",
            "\n",
            "True Label: keamanan | Predicted Label: kesehatan\n",
            "Tweet: sakit perut wkkwkwk\n",
            "Sentiment: negatif \n",
            "\n",
            "True Label: lingkungan hidup | Predicted Label: ketersediaan waktu luang\n",
            "Tweet: saya sakit kok kamu tidak nengok sih sayang\n",
            "Sentiment: negatif \n",
            "\n",
            "True Label: keamanan | Predicted Label: lingkungan hidup\n",
            "Tweet: sehari ini tidur cuma jam tidak sehat del odel\n",
            "Sentiment: negatif \n",
            "\n",
            "True Label: keharmonisan keluarga | Predicted Label: pendidikan\n",
            "Tweet: terus di bawalah saya kesana tiap minggu begitu seperti kontrol begitu lah saya pas sd sakit itu ampe satu bulan jujur sakitnya seperti orang kena guna guna jadi linglung di ajak ngobrol sama orang malah menangis ditanya juga tidak nyambung cuma bisa diam\n",
            "Sentiment: negatif \n",
            "\n",
            "True Label: pekerjaan | Predicted Label: hubungan sosial\n",
            "Tweet: tidak lagi deh baru tidur jam langsung main badminton bukannya sehat malah tambah penyakit tolol memang pantes kalah\n",
            "Sentiment: negatif \n",
            "\n",
            "True Label: lingkungan hidup | Predicted Label: ketersediaan waktu luang\n",
            "Tweet: covid kuliah daring sayang duwit nya juta per semester hanya untuk duduk didepan leptop\n",
            "Sentiment: negatif \n",
            "\n",
            "True Label: ketersediaan waktu luang | Predicted Label: pekerjaan\n",
            "Tweet: emak saya malah marah marah kalau saya mau kuliah katanya sok berpendidikan dahal saya dari tk sampai sma tidak bayar semua tidak bayar spp sedangkan adek adek saya bayar spp berjuta juta malah dibangga bangga in\n",
            "Sentiment: negatif \n",
            "\n",
            "True Label: keharmonisan keluarga | Predicted Label: pendapatan\n",
            "Tweet: jujur nih di sekolah tempat saya kerja pada abai protokol kesehatan mengerikan sendiri cuma bisa ingatkan siswa saja\n",
            "Sentiment: negatif \n",
            "\n",
            "True Label: keamanan | Predicted Label: pendapatan\n",
            "Tweet: kalau belajar di kamar hawanya mengantuk terus\n",
            "Sentiment: negatif \n",
            "\n",
            "True Label: ketersediaan waktu luang | Predicted Label: pendidikan\n",
            "Tweet: kamu belum kuliah saja sudah dibungkam nanti kalau kamu kuliah semua hak kamu diatur sedemikian rupa untuk kepentingan tidak jelas padahal hakekat sebagai mahasiswa adalah merdeka dalam berpikir  sudah mahal kamu tidak boleh menerima hakmu uinwsmahal uinwsmelawan jangandiam\n",
            "Sentiment: negatif \n",
            "\n",
            "True Label: kesehatan | Predicted Label: keharmonisan keluarga\n",
            "Tweet: kaya saya lelah baaanget yaallaah pagi jam sudah harus siap-siap sekolah pulang jam sampai rumah jam karena macet sekali terus habis itu lanjut daring sampai jam terus nanti beberes rumah terus malamnya ngerjain pr sama ngerjain tugas daring lelah baaanget\n",
            "Sentiment: negatif \n",
            "\n",
            "True Label: pendidikan | Predicted Label: hubungan sosial\n",
            "Tweet: kuliah audit jam pas selesai jadi migrain\n",
            "Sentiment: negatif \n",
            "\n",
            "True Label: pendidikan | Predicted Label: keamanan\n",
            "Tweet: kuliah tanpa tatap muka tapi ukt mahal punya cermin nih buat rektorat yang mau makai biar keliatan ganteng fasilitas apa yang di berikan ke mahasiswa hak hak mahasiswa selalu terbungkam uinwsmahal uinwsmelawan\n",
            "Sentiment: negatif \n",
            "\n",
            "True Label: pekerjaan | Predicted Label: keharmonisan keluarga\n",
            "Tweet: main hp sampai pagi kuat giliran belajar di hp menit saja sudah pedes sekali ini mata lemah\n",
            "Sentiment: negatif \n",
            "\n",
            "True Label: pendidikan | Predicted Label: keharmonisan keluarga\n",
            "Tweet: masuk di sekolah yang tidak sesuai rencana bahkan tidak tahu ada sekolah itu semuanya secara mendadak sampai plan dari tahun lalu tidak ada yang terealisasikan\n",
            "Sentiment: negatif \n",
            "\n",
            "True Label: pendidikan | Predicted Label: keharmonisan keluarga\n",
            "Tweet: percuma lulus cepat ijazahnya tidak keluar tepat waktu kontol\n",
            "Sentiment: negatif \n",
            "\n",
            "True Label: ketersediaan waktu luang | Predicted Label: pekerjaan\n",
            "Tweet: pusing ya pandemi tidak selesai-selesai anak-anak tidak bisa sekolah tidak bisa sosialisasi tidak bisa main sama teman sebayanya padahal seusia moan itu senang-senangnya main eksplor hal baru ini saya ngetwit begini telat setahun tidak sih\n",
            "Sentiment: negatif \n",
            "\n",
            "True Label: lingkungan hidup | Predicted Label: kesehatan\n",
            "Tweet: rasanya sudah tidak ada semangat kuliah penuh terus dari pagi sampai malam\n",
            "Sentiment: negatif \n",
            "\n",
            "True Label: pendapatan | Predicted Label: keharmonisan keluarga\n",
            "Tweet: rumit sekali sih mau sekolah lagi\n",
            "Sentiment: negatif \n",
            "\n",
            "True Label: pendapatan | Predicted Label: pekerjaan\n",
            "Tweet: semarang ada yang kurang dari segi pendidikan dan kesehatan\n",
            "Sentiment: negatif \n",
            "\n",
            "True Label: ketersediaan waktu luang | Predicted Label: pekerjaan\n",
            "Tweet: semua lowongan kerja rata min di kalau tidak s orang yang cuma lulusan sma yang tidak ada dana buat kuliah tidak boleh kerja ya\n",
            "Sentiment: negatif \n",
            "\n",
            "True Label: lingkungan hidup | Predicted Label: kesehatan\n",
            "Tweet: susah bangun nama baik sekolah tapi murid nya duhduh jadi keingatan sama walikelas ngmg semenjak angkatanmu lulus tidak ada yang benar ada yang hamil nakalnya keamatan masyaallah guru saja sampai bisa ngmg begitu jadi kangen sama walikelas gilanigilani kalau reti wong seperti ngono\n",
            "Sentiment: negatif \n",
            "\n",
            "True Label: pekerjaan | Predicted Label: kesehatan\n",
            "Tweet: tidak kuliah stres cari kerjaan tapi kuliah lebih stres\n",
            "Sentiment: negatif \n",
            "\n",
            "True Label: ketersediaan waktu luang | Predicted Label: hubungan sosial\n",
            "Tweet: apa itu cuti meeting jam ya oke review jangan lupa deadline nya max hr kerja siap sosialisasi jam ya bhaik jadi sebenarnya apa itu cuti hanyalah sebuah status kalau hubungan mgkn status tnp rasa ehh bagaimana\n",
            "Sentiment: negatif \n",
            "\n",
            "True Label: pekerjaan | Predicted Label: pendidikan\n",
            "Tweet: apply kerja sana sini ikut ska sana sini malah pegel karena harus belajar terus tes terus menyiapkan berkas terus sampai tesis tidak kepegang\n",
            "Sentiment: negatif \n",
            "\n",
            "True Label: ketersediaan waktu luang | Predicted Label: hubungan sosial\n",
            "Tweet: balik balik ke kantor dapat kabar kalau kondisi lagi down bahkan operasional makan sudah tidak ditanggung lagi tapi kondisi ekonomi aku juga lagi butuh uang dan sebenarnya sudah tidak nyaman kalau kerja di kantor karena beberapa alasan tapi lagi lagi duit buat aku bertahan\n",
            "Sentiment: negatif \n",
            "\n",
            "True Label: keamanan | Predicted Label: pendidikan\n",
            "Tweet: baru sampai dari sby jam pagi langsung kerja sampai isoma masih ingin santai tapi kerjaan menumpuk\n",
            "Sentiment: negatif \n",
            "\n",
            "True Label: pendidikan | Predicted Label: hubungan sosial\n",
            "Tweet: cabut saja cabuttt tidak berkah kerja kalau sambil emosi\n",
            "Sentiment: negatif \n",
            "\n",
            "True Label: pekerjaan | Predicted Label: pendapatan\n",
            "Tweet: kadang yang bikin lelah itu orang yang mandang fisik jadi kerja sekeras apapun percuma sepertinya\n",
            "Sentiment: negatif \n",
            "\n",
            "True Label: kesehatan | Predicted Label: pendapatan\n",
            "Tweet: kamu kok kerja terus tiap hari kan sudah kerja kok masih ngelesin tidak lelah po kok ngoyo sekali dear orang lain yang suka julid tidak semua kebutuhanku klean yang nopang jadi tidak perlu ributkan urusan orang lain apa mau tukeran saja sama saya biar paham rasanya\n",
            "Sentiment: negatif \n",
            "\n",
            "True Label: keharmonisan keluarga | Predicted Label: ketersediaan waktu luang\n",
            "Tweet: kerja panas muka sama leher sampai item begini enak sekali kalian korupsi\n",
            "Sentiment: negatif \n",
            "\n",
            "True Label: lingkungan hidup | Predicted Label: pendidikan\n",
            "Tweet: mengantuk sekali belakangan ini malas sekali kerja\n",
            "Sentiment: negatif \n",
            "\n",
            "True Label: ketersediaan waktu luang | Predicted Label: pekerjaan\n",
            "Tweet: orang lain mah kerja kerja kerja kerja liburan lah saya kerja kerja kerja kerja tifus\n",
            "Sentiment: negatif \n",
            "\n",
            "True Label: ketersediaan waktu luang | Predicted Label: hubungan sosial\n",
            "Tweet: saya tidak butuh duit kalau kerja seperti ini padahal teman teman se shift asyik sekali tapi atasanku nauzubillahmindalik\n",
            "Sentiment: negatif \n",
            "\n",
            "True Label: ketersediaan waktu luang | Predicted Label: kesehatan\n",
            "Tweet: sebenarnya masalah internal bank seperti ini sudah sejak lama cuma baru bandung yang brani speak up salut kerja tidak kenal waktu jarang libur dll serikat pekerja mereka main aman bos tidak pernah denger sp perjuangkan karyawan\n",
            "Sentiment: negatif \n",
            "\n",
            "True Label: ketersediaan waktu luang | Predicted Label: keharmonisan keluarga\n",
            "Tweet: tidak pernah dikasi jadwal kerja astaga ini asli benar dibenci bos saya\n",
            "Sentiment: negatif \n",
            "\n",
            "True Label: hubungan sosial | Predicted Label: kesehatan\n",
            "Tweet: ya allah begini amat kerja sama orang yang tidak komunikatif pusing pala eikeee boookkk tengah malam bingit inihhh\n",
            "Sentiment: negatif \n",
            "\n",
            "True Label: keamanan | Predicted Label: lingkungan hidup\n",
            "Tweet: ya rabb lagi mau berangkat kerja malah di pecat\n",
            "Sentiment: negatif \n",
            "\n",
            "True Label: keamanan | Predicted Label: kesehatan\n",
            "Tweet: biasalah gaji masuk hanya lewat\n",
            "Sentiment: negatif \n",
            "\n",
            "True Label: pendidikan | Predicted Label: keharmonisan keluarga\n",
            "Tweet: cie heboh halloween tapi bayar utang susah hahahaha\n",
            "Sentiment: negatif \n",
            "\n",
            "True Label: kesehatan | Predicted Label: pekerjaan\n",
            "Tweet: ditempat aku bekerja gaji nya jauh sekali dibawah upah minimum regional\n",
            "Sentiment: negatif \n",
            "\n",
            "True Label: hubungan sosial | Predicted Label: pekerjaan\n",
            "Tweet: kapan ya saya bisa bayar utang\n",
            "Sentiment: negatif \n",
            "\n",
            "True Label: kesehatan | Predicted Label: keharmonisan keluarga\n",
            "Tweet: load kerjaan seperti begitu gaji mepet upah minimum regional cover kesehatan cuma bpjs\n",
            "Sentiment: negatif \n",
            "\n",
            "True Label: keharmonisan keluarga | Predicted Label: lingkungan hidup\n",
            "Tweet: nasib saat dari sabtu sudah pikir kenapa transaksi sudah diapprove tapi kok gagal terus subuh sudah banyak wa dan status tanya gaji sambil ngomel tanggal masih sampai jam malam yakangiliran sudah ada notif gaji masuk tidak ada wa masuk bilang apa begitu\n",
            "Sentiment: negatif \n",
            "\n",
            "True Label: pendapatan | Predicted Label: pekerjaan\n",
            "Tweet: saya disini kerja serius gaji bercanda\n",
            "Sentiment: negatif \n",
            "\n",
            "True Label: ketersediaan waktu luang | Predicted Label: keharmonisan keluarga\n",
            "Tweet: saya kerja kantoran tidak sesuai passion tapi gaji pas pasan bikin stres lagi\n",
            "Sentiment: negatif \n",
            "\n",
            "True Label: pekerjaan | Predicted Label: pendidikan\n",
            "Tweet: setelah planning di awal tahun bakal banyak yang mau dicapai di malah kaya begini lagi kasusnya sepertinya bakal gagal punya tabungan lagi dan bakal ada tanggungan lagi\n",
            "Sentiment: negatif \n",
            "\n",
            "True Label: ketersediaan waktu luang | Predicted Label: hubungan sosial\n",
            "Tweet: tabungan aku habis karena hal-hal yang tidak terduga saja huu syedih\n",
            "Sentiment: negatif \n",
            "\n",
            "True Label: hubungan sosial | Predicted Label: pendapatan\n",
            "Tweet: tapi diperhatkan warga yang terdampak dong ne yang dapat gaji enak lah kita yang sehari hari buruh bisa mati kelaparan\n",
            "Sentiment: negatif \n",
            "\n",
            "True Label: hubungan sosial | Predicted Label: keharmonisan keluarga\n",
            "Tweet: banyak banyak hal yang polisi tidak mau proses apalagi yang tidak ada duitnya seringkali kalau sudah ada jenazah baru ditindak saya tidak mengerti sebenarnya sop pekerjaan polisi itu bagaimana sih\n",
            "Sentiment: negatif \n",
            "\n",
            "True Label: ketersediaan waktu luang | Predicted Label: pekerjaan\n",
            "Tweet: dipecat tok matamu jadi polisi tidak becus\n",
            "Sentiment: negatif \n",
            "\n",
            "True Label: ketersediaan waktu luang | Predicted Label: pendidikan\n",
            "Tweet: maling masuk rumah jam malam dan tidak ada yang tahu kalau masuk rumah tolong kode etiknya ini yang maling pakai seragam anda\n",
            "Sentiment: negatif \n",
            "\n",
            "True Label: pendapatan | Predicted Label: lingkungan hidup\n",
            "Tweet: masyarakat malas lapor karena mempertimbangkan keamanan diri keluarga juga adanya oknum yang back up lahan parkir jasa keamanan dll akhirnya yang lapor malah kena masalah\n",
            "Sentiment: negatif \n",
            "\n",
            "True Label: kesehatan | Predicted Label: pekerjaan\n",
            "Tweet: pak armada brt dengan nomor polisi h bw ugal ugalan pagi ini kejadian di tikungan dari jalan piere tendean kearah jalan pemuda sekitar jam sopir memaksa nyalip dari kiri dan memotong jalur di tikungan persis laporhendi\n",
            "Sentiment: negatif \n",
            "\n",
            "True Label: pekerjaan | Predicted Label: pendapatan\n",
            "Tweet: pak tolong sampai saat ini laporan saya terkait laptop saya yang kemalingan belum terurus dan tidak ada kejelasan saya butuh untuk skripsi saya mohon bantuannya\n",
            "Sentiment: negatif \n",
            "\n",
            "True Label: ketersediaan waktu luang | Predicted Label: pekerjaan\n",
            "Tweet: polisi sudah tepat tapi pol pp yang ninju dan nendang itu kesalahan fatal mas videonya ada terpisah\n",
            "Sentiment: negatif \n",
            "\n",
            "True Label: kesehatan | Predicted Label: keharmonisan keluarga\n",
            "Tweet: saya sangat miris melihat atribut polisi tergantung di ruangan itu\n",
            "Sentiment: negatif \n",
            "\n",
            "True Label: lingkungan hidup | Predicted Label: pendidikan\n",
            "Tweet: sekalinya keluar jadi obat nyamuk saya korban penipuan halo pak polisi\n",
            "Sentiment: negatif \n",
            "\n",
            "True Label: kesehatan | Predicted Label: keharmonisan keluarga\n",
            "Tweet: yang penting gebug dulu urusan tidak bersalah sama oknum polisi minta maaf mah belakangan sekolah tinggi tapi enggan mendengarkan penjelasan dulu sekolah nya baku hantam kok ya xixixi\n",
            "Sentiment: negatif \n",
            "\n",
            "True Label: ketersediaan waktu luang | Predicted Label: pendapatan\n",
            "Tweet: apapun bakal di pikirin walaupun kita tidak peduli saya pernah mengalami dimana saya lagi ikut lomba yang dimana sering sekali pulang pagi bahkan tidak pulang karenaa harus stay di tempat buat persiapan lomba dan karenaa itu saya di omongin tetangga karenaa pulang pagi dan pikir negatif padahalmreka tidak tahu ap\n",
            "Sentiment: negatif \n",
            "\n",
            "True Label: kesehatan | Predicted Label: pekerjaan\n",
            "Tweet: benar saya sudah lost contact sama teman deketku bulanan ini\n",
            "Sentiment: negatif \n",
            "\n",
            "True Label: ketersediaan waktu luang | Predicted Label: pekerjaan\n",
            "Tweet: dan pada akhirnya kita kembali sendiri teman sahabat sahabat yang katanya dekat pun hilangsesakit sakitnya kita yang nanggung ya diri kita sendiri\n",
            "Sentiment: negatif \n",
            "\n",
            "True Label: ketersediaan waktu luang | Predicted Label: lingkungan hidup\n",
            "Tweet: dulu waktu smp tmnku punya pacar yang umurnya diatas sekitar lupa hehehe karena saya masih kecil dan terlalu frontal tidak sengaja saya nyeplos kok mau sih sama om om maafkan saya teman\n",
            "Sentiment: negatif \n",
            "\n",
            "True Label: ketersediaan waktu luang | Predicted Label: hubungan sosial\n",
            "Tweet: gara-gara skripsi teman temanku pada sibuk sekali tidak bisa diajak main\n",
            "Sentiment: negatif \n",
            "\n",
            "True Label: pendapatan | Predicted Label: keharmonisan keluarga\n",
            "Tweet: ini hasil kerja papaku semalam sambil ujanan membongkar tanah samping rumah cukup lah ya buat ngubur jasad tetangga dakjal yang tidak ada otaknya anjing tenan\n",
            "Sentiment: negatif \n",
            "\n",
            "True Label: ketersediaan waktu luang | Predicted Label: pekerjaan\n",
            "Tweet: kalau ada tetangga yang hobi muter musik keras begitu tidak bisa lapor kemana begitu biar ditegur selain pak rt\n",
            "Sentiment: negatif \n",
            "\n",
            "True Label: pendapatan | Predicted Label: hubungan sosial\n",
            "Tweet: kehilangan teman membuatku insecure\n",
            "Sentiment: negatif \n",
            "\n",
            "True Label: keamanan | Predicted Label: lingkungan hidup\n",
            "Tweet: kucing saya tahun aman saja dulu malah gendut matinya karena diracun tetangga\n",
            "Sentiment: negatif \n",
            "\n"
          ]
        }
      ]
    }
  ]
}